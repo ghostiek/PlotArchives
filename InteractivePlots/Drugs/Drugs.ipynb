{
 "cells": [
  {
   "cell_type": "code",
   "execution_count": 1,
   "metadata": {},
   "outputs": [],
   "source": [
    "import pandas as pd\n",
    "import seaborn as sns\n",
    "import matplotlib.pyplot as plt\n",
    "import numpy as np"
   ]
  },
  {
   "cell_type": "code",
   "execution_count": 2,
   "metadata": {},
   "outputs": [
    {
     "data": {
      "text/html": [
       "<div>\n",
       "<style scoped>\n",
       "    .dataframe tbody tr th:only-of-type {\n",
       "        vertical-align: middle;\n",
       "    }\n",
       "\n",
       "    .dataframe tbody tr th {\n",
       "        vertical-align: top;\n",
       "    }\n",
       "\n",
       "    .dataframe thead th {\n",
       "        text-align: right;\n",
       "    }\n",
       "</style>\n",
       "<table border=\"1\" class=\"dataframe\">\n",
       "  <thead>\n",
       "    <tr style=\"text-align: right;\">\n",
       "      <th></th>\n",
       "      <th>Drug</th>\n",
       "      <th>Mean Physical harm + Mean Dependence</th>\n",
       "      <th>Mean Physical harm[1]</th>\n",
       "      <th>Median Physical harm[2]</th>\n",
       "      <th>MeanNA=0 Physical harm[3]</th>\n",
       "      <th>Acute harm</th>\n",
       "      <th>Chronic harm</th>\n",
       "      <th>Intravenous harm</th>\n",
       "      <th>Mean Dependence</th>\n",
       "      <th>Pleasure</th>\n",
       "      <th>Psychological</th>\n",
       "      <th>Physical</th>\n",
       "      <th>Mean Social harm</th>\n",
       "      <th>Intoxication</th>\n",
       "      <th>Social harm</th>\n",
       "      <th>Health-care costs</th>\n",
       "    </tr>\n",
       "  </thead>\n",
       "  <tbody>\n",
       "    <tr>\n",
       "      <th>0</th>\n",
       "      <td>Heroin</td>\n",
       "      <td>5.78</td>\n",
       "      <td>2.78</td>\n",
       "      <td>2.80</td>\n",
       "      <td>2.78</td>\n",
       "      <td>2.8</td>\n",
       "      <td>2.5</td>\n",
       "      <td>3.0</td>\n",
       "      <td>3.00</td>\n",
       "      <td>3.0</td>\n",
       "      <td>3.0</td>\n",
       "      <td>3.0</td>\n",
       "      <td>2.54</td>\n",
       "      <td>1.6</td>\n",
       "      <td>3.0</td>\n",
       "      <td>3.0</td>\n",
       "    </tr>\n",
       "    <tr>\n",
       "      <th>1</th>\n",
       "      <td>Cocaine</td>\n",
       "      <td>4.72</td>\n",
       "      <td>2.33</td>\n",
       "      <td>2.00</td>\n",
       "      <td>2.33</td>\n",
       "      <td>2.0</td>\n",
       "      <td>2.0</td>\n",
       "      <td>3.0</td>\n",
       "      <td>2.39</td>\n",
       "      <td>3.0</td>\n",
       "      <td>2.8</td>\n",
       "      <td>1.3</td>\n",
       "      <td>2.17</td>\n",
       "      <td>1.8</td>\n",
       "      <td>2.5</td>\n",
       "      <td>2.3</td>\n",
       "    </tr>\n",
       "    <tr>\n",
       "      <th>2</th>\n",
       "      <td>Barbiturates</td>\n",
       "      <td>4.24</td>\n",
       "      <td>2.23</td>\n",
       "      <td>2.30</td>\n",
       "      <td>2.23</td>\n",
       "      <td>2.3</td>\n",
       "      <td>1.9</td>\n",
       "      <td>2.5</td>\n",
       "      <td>2.01</td>\n",
       "      <td>2.0</td>\n",
       "      <td>2.2</td>\n",
       "      <td>1.8</td>\n",
       "      <td>2.00</td>\n",
       "      <td>2.4</td>\n",
       "      <td>1.9</td>\n",
       "      <td>1.7</td>\n",
       "    </tr>\n",
       "    <tr>\n",
       "      <th>3</th>\n",
       "      <td>Tobacco</td>\n",
       "      <td>4.11</td>\n",
       "      <td>1.90</td>\n",
       "      <td>1.90</td>\n",
       "      <td>1.24</td>\n",
       "      <td>0.9</td>\n",
       "      <td>2.9</td>\n",
       "      <td>NaN</td>\n",
       "      <td>2.21</td>\n",
       "      <td>2.3</td>\n",
       "      <td>2.6</td>\n",
       "      <td>1.8</td>\n",
       "      <td>1.42</td>\n",
       "      <td>0.8</td>\n",
       "      <td>1.1</td>\n",
       "      <td>2.4</td>\n",
       "    </tr>\n",
       "    <tr>\n",
       "      <th>4</th>\n",
       "      <td>Alcohol</td>\n",
       "      <td>4.08</td>\n",
       "      <td>2.15</td>\n",
       "      <td>2.15</td>\n",
       "      <td>1.40</td>\n",
       "      <td>1.9</td>\n",
       "      <td>2.4</td>\n",
       "      <td>NaN</td>\n",
       "      <td>1.93</td>\n",
       "      <td>2.3</td>\n",
       "      <td>1.9</td>\n",
       "      <td>1.6</td>\n",
       "      <td>2.21</td>\n",
       "      <td>2.2</td>\n",
       "      <td>2.4</td>\n",
       "      <td>2.1</td>\n",
       "    </tr>\n",
       "    <tr>\n",
       "      <th>5</th>\n",
       "      <td>Street methadone</td>\n",
       "      <td>3.94</td>\n",
       "      <td>1.86</td>\n",
       "      <td>1.70</td>\n",
       "      <td>1.86</td>\n",
       "      <td>2.5</td>\n",
       "      <td>1.7</td>\n",
       "      <td>1.4</td>\n",
       "      <td>2.08</td>\n",
       "      <td>1.8</td>\n",
       "      <td>2.3</td>\n",
       "      <td>2.3</td>\n",
       "      <td>1.87</td>\n",
       "      <td>1.6</td>\n",
       "      <td>1.9</td>\n",
       "      <td>2.0</td>\n",
       "    </tr>\n",
       "    <tr>\n",
       "      <th>6</th>\n",
       "      <td>Ketamine</td>\n",
       "      <td>3.54</td>\n",
       "      <td>2.00</td>\n",
       "      <td>2.10</td>\n",
       "      <td>2.00</td>\n",
       "      <td>2.1</td>\n",
       "      <td>1.7</td>\n",
       "      <td>2.1</td>\n",
       "      <td>1.54</td>\n",
       "      <td>1.9</td>\n",
       "      <td>1.7</td>\n",
       "      <td>1.0</td>\n",
       "      <td>1.69</td>\n",
       "      <td>2.0</td>\n",
       "      <td>1.5</td>\n",
       "      <td>1.5</td>\n",
       "    </tr>\n",
       "    <tr>\n",
       "      <th>7</th>\n",
       "      <td>Amphetamine</td>\n",
       "      <td>3.48</td>\n",
       "      <td>1.81</td>\n",
       "      <td>1.80</td>\n",
       "      <td>1.81</td>\n",
       "      <td>1.3</td>\n",
       "      <td>1.8</td>\n",
       "      <td>2.4</td>\n",
       "      <td>1.67</td>\n",
       "      <td>2.0</td>\n",
       "      <td>1.9</td>\n",
       "      <td>1.1</td>\n",
       "      <td>1.50</td>\n",
       "      <td>1.4</td>\n",
       "      <td>1.5</td>\n",
       "      <td>1.6</td>\n",
       "    </tr>\n",
       "    <tr>\n",
       "      <th>8</th>\n",
       "      <td>Benzodiazepines</td>\n",
       "      <td>3.46</td>\n",
       "      <td>1.63</td>\n",
       "      <td>1.70</td>\n",
       "      <td>1.63</td>\n",
       "      <td>1.5</td>\n",
       "      <td>1.7</td>\n",
       "      <td>1.8</td>\n",
       "      <td>1.83</td>\n",
       "      <td>1.7</td>\n",
       "      <td>2.1</td>\n",
       "      <td>1.8</td>\n",
       "      <td>1.65</td>\n",
       "      <td>2.0</td>\n",
       "      <td>1.5</td>\n",
       "      <td>1.5</td>\n",
       "    </tr>\n",
       "    <tr>\n",
       "      <th>9</th>\n",
       "      <td>4-MTA</td>\n",
       "      <td>3.45</td>\n",
       "      <td>2.15</td>\n",
       "      <td>2.15</td>\n",
       "      <td>1.44</td>\n",
       "      <td>2.2</td>\n",
       "      <td>2.1</td>\n",
       "      <td>NaN</td>\n",
       "      <td>1.30</td>\n",
       "      <td>1.0</td>\n",
       "      <td>1.7</td>\n",
       "      <td>0.8</td>\n",
       "      <td>1.06</td>\n",
       "      <td>1.2</td>\n",
       "      <td>1.0</td>\n",
       "      <td>1.0</td>\n",
       "    </tr>\n",
       "    <tr>\n",
       "      <th>10</th>\n",
       "      <td>Buprenorphine</td>\n",
       "      <td>3.24</td>\n",
       "      <td>1.60</td>\n",
       "      <td>1.30</td>\n",
       "      <td>1.60</td>\n",
       "      <td>1.2</td>\n",
       "      <td>1.3</td>\n",
       "      <td>2.3</td>\n",
       "      <td>1.64</td>\n",
       "      <td>2.0</td>\n",
       "      <td>1.5</td>\n",
       "      <td>1.5</td>\n",
       "      <td>1.49</td>\n",
       "      <td>1.6</td>\n",
       "      <td>1.5</td>\n",
       "      <td>1.4</td>\n",
       "    </tr>\n",
       "    <tr>\n",
       "      <th>11</th>\n",
       "      <td>Cannabis</td>\n",
       "      <td>3.01</td>\n",
       "      <td>1.50</td>\n",
       "      <td>1.50</td>\n",
       "      <td>0.99</td>\n",
       "      <td>0.9</td>\n",
       "      <td>2.1</td>\n",
       "      <td>NaN</td>\n",
       "      <td>1.51</td>\n",
       "      <td>1.9</td>\n",
       "      <td>1.7</td>\n",
       "      <td>0.8</td>\n",
       "      <td>1.50</td>\n",
       "      <td>1.7</td>\n",
       "      <td>1.3</td>\n",
       "      <td>1.5</td>\n",
       "    </tr>\n",
       "    <tr>\n",
       "      <th>12</th>\n",
       "      <td>Solvents</td>\n",
       "      <td>2.91</td>\n",
       "      <td>1.90</td>\n",
       "      <td>1.90</td>\n",
       "      <td>1.28</td>\n",
       "      <td>2.1</td>\n",
       "      <td>1.7</td>\n",
       "      <td>NaN</td>\n",
       "      <td>1.01</td>\n",
       "      <td>1.7</td>\n",
       "      <td>1.2</td>\n",
       "      <td>0.1</td>\n",
       "      <td>1.52</td>\n",
       "      <td>1.9</td>\n",
       "      <td>1.5</td>\n",
       "      <td>1.2</td>\n",
       "    </tr>\n",
       "    <tr>\n",
       "      <th>13</th>\n",
       "      <td>Ecstasy</td>\n",
       "      <td>2.73</td>\n",
       "      <td>1.60</td>\n",
       "      <td>1.60</td>\n",
       "      <td>1.05</td>\n",
       "      <td>1.6</td>\n",
       "      <td>1.6</td>\n",
       "      <td>NaN</td>\n",
       "      <td>1.13</td>\n",
       "      <td>1.5</td>\n",
       "      <td>1.2</td>\n",
       "      <td>0.7</td>\n",
       "      <td>1.09</td>\n",
       "      <td>1.2</td>\n",
       "      <td>1.0</td>\n",
       "      <td>1.1</td>\n",
       "    </tr>\n",
       "    <tr>\n",
       "      <th>14</th>\n",
       "      <td>Methylphenidate</td>\n",
       "      <td>2.57</td>\n",
       "      <td>1.32</td>\n",
       "      <td>1.30</td>\n",
       "      <td>1.32</td>\n",
       "      <td>1.2</td>\n",
       "      <td>1.3</td>\n",
       "      <td>1.6</td>\n",
       "      <td>1.25</td>\n",
       "      <td>1.4</td>\n",
       "      <td>1.3</td>\n",
       "      <td>1.0</td>\n",
       "      <td>0.97</td>\n",
       "      <td>1.1</td>\n",
       "      <td>0.8</td>\n",
       "      <td>1.1</td>\n",
       "    </tr>\n",
       "    <tr>\n",
       "      <th>15</th>\n",
       "      <td>GHB</td>\n",
       "      <td>2.49</td>\n",
       "      <td>1.30</td>\n",
       "      <td>1.30</td>\n",
       "      <td>0.86</td>\n",
       "      <td>1.4</td>\n",
       "      <td>1.2</td>\n",
       "      <td>NaN</td>\n",
       "      <td>1.19</td>\n",
       "      <td>1.4</td>\n",
       "      <td>1.1</td>\n",
       "      <td>1.1</td>\n",
       "      <td>1.30</td>\n",
       "      <td>1.4</td>\n",
       "      <td>1.3</td>\n",
       "      <td>1.2</td>\n",
       "    </tr>\n",
       "    <tr>\n",
       "      <th>16</th>\n",
       "      <td>LSD</td>\n",
       "      <td>2.36</td>\n",
       "      <td>1.13</td>\n",
       "      <td>1.40</td>\n",
       "      <td>1.13</td>\n",
       "      <td>1.7</td>\n",
       "      <td>1.4</td>\n",
       "      <td>0.3</td>\n",
       "      <td>1.23</td>\n",
       "      <td>2.2</td>\n",
       "      <td>1.1</td>\n",
       "      <td>0.3</td>\n",
       "      <td>1.32</td>\n",
       "      <td>1.6</td>\n",
       "      <td>1.3</td>\n",
       "      <td>1.1</td>\n",
       "    </tr>\n",
       "    <tr>\n",
       "      <th>17</th>\n",
       "      <td>Anabolic steroids</td>\n",
       "      <td>2.33</td>\n",
       "      <td>1.45</td>\n",
       "      <td>1.70</td>\n",
       "      <td>1.45</td>\n",
       "      <td>0.8</td>\n",
       "      <td>2.0</td>\n",
       "      <td>1.7</td>\n",
       "      <td>0.88</td>\n",
       "      <td>1.1</td>\n",
       "      <td>0.8</td>\n",
       "      <td>0.8</td>\n",
       "      <td>1.13</td>\n",
       "      <td>1.3</td>\n",
       "      <td>0.8</td>\n",
       "      <td>1.3</td>\n",
       "    </tr>\n",
       "    <tr>\n",
       "      <th>18</th>\n",
       "      <td>Khat</td>\n",
       "      <td>1.79</td>\n",
       "      <td>0.75</td>\n",
       "      <td>0.75</td>\n",
       "      <td>0.50</td>\n",
       "      <td>0.3</td>\n",
       "      <td>1.2</td>\n",
       "      <td>NaN</td>\n",
       "      <td>1.04</td>\n",
       "      <td>1.6</td>\n",
       "      <td>1.2</td>\n",
       "      <td>0.3</td>\n",
       "      <td>0.85</td>\n",
       "      <td>0.7</td>\n",
       "      <td>1.1</td>\n",
       "      <td>0.8</td>\n",
       "    </tr>\n",
       "    <tr>\n",
       "      <th>19</th>\n",
       "      <td>Alkyl nitrites</td>\n",
       "      <td>1.77</td>\n",
       "      <td>0.93</td>\n",
       "      <td>0.90</td>\n",
       "      <td>0.93</td>\n",
       "      <td>1.6</td>\n",
       "      <td>0.9</td>\n",
       "      <td>0.3</td>\n",
       "      <td>0.87</td>\n",
       "      <td>1.6</td>\n",
       "      <td>0.7</td>\n",
       "      <td>0.3</td>\n",
       "      <td>0.97</td>\n",
       "      <td>0.8</td>\n",
       "      <td>0.7</td>\n",
       "      <td>1.4</td>\n",
       "    </tr>\n",
       "  </tbody>\n",
       "</table>\n",
       "</div>"
      ],
      "text/plain": [
       "                 Drug  Mean Physical harm + Mean Dependence  \\\n",
       "0              Heroin                                  5.78   \n",
       "1             Cocaine                                  4.72   \n",
       "2        Barbiturates                                  4.24   \n",
       "3             Tobacco                                  4.11   \n",
       "4             Alcohol                                  4.08   \n",
       "5    Street methadone                                  3.94   \n",
       "6            Ketamine                                  3.54   \n",
       "7         Amphetamine                                  3.48   \n",
       "8     Benzodiazepines                                  3.46   \n",
       "9               4-MTA                                  3.45   \n",
       "10      Buprenorphine                                  3.24   \n",
       "11           Cannabis                                  3.01   \n",
       "12           Solvents                                  2.91   \n",
       "13            Ecstasy                                  2.73   \n",
       "14    Methylphenidate                                  2.57   \n",
       "15                GHB                                  2.49   \n",
       "16                LSD                                  2.36   \n",
       "17  Anabolic steroids                                  2.33   \n",
       "18               Khat                                  1.79   \n",
       "19     Alkyl nitrites                                  1.77   \n",
       "\n",
       "    Mean Physical harm[1]  Median Physical harm[2]  MeanNA=0 Physical harm[3]  \\\n",
       "0                    2.78                     2.80                       2.78   \n",
       "1                    2.33                     2.00                       2.33   \n",
       "2                    2.23                     2.30                       2.23   \n",
       "3                    1.90                     1.90                       1.24   \n",
       "4                    2.15                     2.15                       1.40   \n",
       "5                    1.86                     1.70                       1.86   \n",
       "6                    2.00                     2.10                       2.00   \n",
       "7                    1.81                     1.80                       1.81   \n",
       "8                    1.63                     1.70                       1.63   \n",
       "9                    2.15                     2.15                       1.44   \n",
       "10                   1.60                     1.30                       1.60   \n",
       "11                   1.50                     1.50                       0.99   \n",
       "12                   1.90                     1.90                       1.28   \n",
       "13                   1.60                     1.60                       1.05   \n",
       "14                   1.32                     1.30                       1.32   \n",
       "15                   1.30                     1.30                       0.86   \n",
       "16                   1.13                     1.40                       1.13   \n",
       "17                   1.45                     1.70                       1.45   \n",
       "18                   0.75                     0.75                       0.50   \n",
       "19                   0.93                     0.90                       0.93   \n",
       "\n",
       "    Acute harm  Chronic harm  Intravenous harm  Mean Dependence  Pleasure  \\\n",
       "0          2.8           2.5               3.0             3.00       3.0   \n",
       "1          2.0           2.0               3.0             2.39       3.0   \n",
       "2          2.3           1.9               2.5             2.01       2.0   \n",
       "3          0.9           2.9               NaN             2.21       2.3   \n",
       "4          1.9           2.4               NaN             1.93       2.3   \n",
       "5          2.5           1.7               1.4             2.08       1.8   \n",
       "6          2.1           1.7               2.1             1.54       1.9   \n",
       "7          1.3           1.8               2.4             1.67       2.0   \n",
       "8          1.5           1.7               1.8             1.83       1.7   \n",
       "9          2.2           2.1               NaN             1.30       1.0   \n",
       "10         1.2           1.3               2.3             1.64       2.0   \n",
       "11         0.9           2.1               NaN             1.51       1.9   \n",
       "12         2.1           1.7               NaN             1.01       1.7   \n",
       "13         1.6           1.6               NaN             1.13       1.5   \n",
       "14         1.2           1.3               1.6             1.25       1.4   \n",
       "15         1.4           1.2               NaN             1.19       1.4   \n",
       "16         1.7           1.4               0.3             1.23       2.2   \n",
       "17         0.8           2.0               1.7             0.88       1.1   \n",
       "18         0.3           1.2               NaN             1.04       1.6   \n",
       "19         1.6           0.9               0.3             0.87       1.6   \n",
       "\n",
       "    Psychological  Physical  Mean Social harm  Intoxication  Social harm  \\\n",
       "0             3.0       3.0              2.54           1.6          3.0   \n",
       "1             2.8       1.3              2.17           1.8          2.5   \n",
       "2             2.2       1.8              2.00           2.4          1.9   \n",
       "3             2.6       1.8              1.42           0.8          1.1   \n",
       "4             1.9       1.6              2.21           2.2          2.4   \n",
       "5             2.3       2.3              1.87           1.6          1.9   \n",
       "6             1.7       1.0              1.69           2.0          1.5   \n",
       "7             1.9       1.1              1.50           1.4          1.5   \n",
       "8             2.1       1.8              1.65           2.0          1.5   \n",
       "9             1.7       0.8              1.06           1.2          1.0   \n",
       "10            1.5       1.5              1.49           1.6          1.5   \n",
       "11            1.7       0.8              1.50           1.7          1.3   \n",
       "12            1.2       0.1              1.52           1.9          1.5   \n",
       "13            1.2       0.7              1.09           1.2          1.0   \n",
       "14            1.3       1.0              0.97           1.1          0.8   \n",
       "15            1.1       1.1              1.30           1.4          1.3   \n",
       "16            1.1       0.3              1.32           1.6          1.3   \n",
       "17            0.8       0.8              1.13           1.3          0.8   \n",
       "18            1.2       0.3              0.85           0.7          1.1   \n",
       "19            0.7       0.3              0.97           0.8          0.7   \n",
       "\n",
       "    Health-care costs  \n",
       "0                 3.0  \n",
       "1                 2.3  \n",
       "2                 1.7  \n",
       "3                 2.4  \n",
       "4                 2.1  \n",
       "5                 2.0  \n",
       "6                 1.5  \n",
       "7                 1.6  \n",
       "8                 1.5  \n",
       "9                 1.0  \n",
       "10                1.4  \n",
       "11                1.5  \n",
       "12                1.2  \n",
       "13                1.1  \n",
       "14                1.1  \n",
       "15                1.2  \n",
       "16                1.1  \n",
       "17                1.3  \n",
       "18                0.8  \n",
       "19                1.4  "
      ]
     },
     "execution_count": 2,
     "metadata": {},
     "output_type": "execute_result"
    }
   ],
   "source": [
    "drugs = pd.read_excel(r\"\\\\NR5VFL01.hk.intraxa\\patrick.tawil$\\Desktop\\Data\\Practice\\Drugs.xlsx\")\n",
    "drugs"
   ]
  },
  {
   "cell_type": "code",
   "execution_count": 3,
   "metadata": {},
   "outputs": [
    {
     "data": {
      "text/plain": [
       "Index(['Drug', 'Mean Physical harm + Mean Dependence', 'Mean Physical harm[1]',\n",
       "       'Median Physical harm[2]', 'MeanNA=0 Physical harm[3]', 'Acute harm',\n",
       "       'Chronic harm', 'Intravenous harm', 'Mean Dependence', 'Pleasure',\n",
       "       'Psychological', 'Physical', 'Mean Social harm', 'Intoxication',\n",
       "       'Social harm', 'Health-care costs'],\n",
       "      dtype='object')"
      ]
     },
     "execution_count": 3,
     "metadata": {},
     "output_type": "execute_result"
    }
   ],
   "source": [
    "drugs.columns"
   ]
  },
  {
   "cell_type": "code",
   "execution_count": 4,
   "metadata": {},
   "outputs": [
    {
     "data": {
      "image/png": "[encoded data removed]",
      "text/plain": [
       "<Figure size 432x288 with 1 Axes>"
      ]
     },
     "metadata": {
      "needs_background": "light"
     },
     "output_type": "display_data"
    }
   ],
   "source": [
    "g = sns.barplot(x= \"Drug\", y = \"Mean Physical harm + Mean Dependence\", data = drugs)\n",
    "for i in g.get_xticklabels():\n",
    "    i.set_rotation(90)\n",
    "g.set_title(\"Addiction Harm per Drug\")\n",
    "plt.show()"
   ]
  },
  {
   "cell_type": "code",
   "execution_count": 5,
   "metadata": {},
   "outputs": [
    {
     "data": {
      "text/html": [
       "<div>\n",
       "<style scoped>\n",
       "    .dataframe tbody tr th:only-of-type {\n",
       "        vertical-align: middle;\n",
       "    }\n",
       "\n",
       "    .dataframe tbody tr th {\n",
       "        vertical-align: top;\n",
       "    }\n",
       "\n",
       "    .dataframe thead th {\n",
       "        text-align: right;\n",
       "    }\n",
       "</style>\n",
       "<table border=\"1\" class=\"dataframe\">\n",
       "  <thead>\n",
       "    <tr style=\"text-align: right;\">\n",
       "      <th></th>\n",
       "      <th>Drug</th>\n",
       "      <th>Mean Physical harm + Mean Dependence</th>\n",
       "      <th>Mean Physical harm[1]</th>\n",
       "      <th>Median Physical harm[2]</th>\n",
       "      <th>MeanNA=0 Physical harm[3]</th>\n",
       "      <th>Acute harm</th>\n",
       "      <th>Chronic harm</th>\n",
       "      <th>Intravenous harm</th>\n",
       "      <th>Mean Dependence</th>\n",
       "      <th>Pleasure</th>\n",
       "      <th>Psychological</th>\n",
       "      <th>Physical</th>\n",
       "      <th>Mean Social harm</th>\n",
       "      <th>Intoxication</th>\n",
       "      <th>Social harm</th>\n",
       "      <th>Health-care costs</th>\n",
       "    </tr>\n",
       "  </thead>\n",
       "  <tbody>\n",
       "    <tr>\n",
       "      <th>0</th>\n",
       "      <td>Heroin</td>\n",
       "      <td>5.78</td>\n",
       "      <td>2.78</td>\n",
       "      <td>2.80</td>\n",
       "      <td>2.78</td>\n",
       "      <td>2.8</td>\n",
       "      <td>2.5</td>\n",
       "      <td>3.0</td>\n",
       "      <td>3.00</td>\n",
       "      <td>3.0</td>\n",
       "      <td>3.0</td>\n",
       "      <td>3.0</td>\n",
       "      <td>2.54</td>\n",
       "      <td>1.6</td>\n",
       "      <td>3.0</td>\n",
       "      <td>3.0</td>\n",
       "    </tr>\n",
       "    <tr>\n",
       "      <th>1</th>\n",
       "      <td>Cocaine</td>\n",
       "      <td>4.72</td>\n",
       "      <td>2.33</td>\n",
       "      <td>2.00</td>\n",
       "      <td>2.33</td>\n",
       "      <td>2.0</td>\n",
       "      <td>2.0</td>\n",
       "      <td>3.0</td>\n",
       "      <td>2.39</td>\n",
       "      <td>3.0</td>\n",
       "      <td>2.8</td>\n",
       "      <td>1.3</td>\n",
       "      <td>2.17</td>\n",
       "      <td>1.8</td>\n",
       "      <td>2.5</td>\n",
       "      <td>2.3</td>\n",
       "    </tr>\n",
       "    <tr>\n",
       "      <th>2</th>\n",
       "      <td>Barbiturates</td>\n",
       "      <td>4.24</td>\n",
       "      <td>2.23</td>\n",
       "      <td>2.30</td>\n",
       "      <td>2.23</td>\n",
       "      <td>2.3</td>\n",
       "      <td>1.9</td>\n",
       "      <td>2.5</td>\n",
       "      <td>2.01</td>\n",
       "      <td>2.0</td>\n",
       "      <td>2.2</td>\n",
       "      <td>1.8</td>\n",
       "      <td>2.00</td>\n",
       "      <td>2.4</td>\n",
       "      <td>1.9</td>\n",
       "      <td>1.7</td>\n",
       "    </tr>\n",
       "    <tr>\n",
       "      <th>3</th>\n",
       "      <td>Tobacco</td>\n",
       "      <td>4.11</td>\n",
       "      <td>1.90</td>\n",
       "      <td>1.90</td>\n",
       "      <td>1.24</td>\n",
       "      <td>0.9</td>\n",
       "      <td>2.9</td>\n",
       "      <td>NaN</td>\n",
       "      <td>2.21</td>\n",
       "      <td>2.3</td>\n",
       "      <td>2.6</td>\n",
       "      <td>1.8</td>\n",
       "      <td>1.42</td>\n",
       "      <td>0.8</td>\n",
       "      <td>1.1</td>\n",
       "      <td>2.4</td>\n",
       "    </tr>\n",
       "    <tr>\n",
       "      <th>4</th>\n",
       "      <td>Alcohol</td>\n",
       "      <td>4.08</td>\n",
       "      <td>2.15</td>\n",
       "      <td>2.15</td>\n",
       "      <td>1.40</td>\n",
       "      <td>1.9</td>\n",
       "      <td>2.4</td>\n",
       "      <td>NaN</td>\n",
       "      <td>1.93</td>\n",
       "      <td>2.3</td>\n",
       "      <td>1.9</td>\n",
       "      <td>1.6</td>\n",
       "      <td>2.21</td>\n",
       "      <td>2.2</td>\n",
       "      <td>2.4</td>\n",
       "      <td>2.1</td>\n",
       "    </tr>\n",
       "    <tr>\n",
       "      <th>5</th>\n",
       "      <td>Street methadone</td>\n",
       "      <td>3.94</td>\n",
       "      <td>1.86</td>\n",
       "      <td>1.70</td>\n",
       "      <td>1.86</td>\n",
       "      <td>2.5</td>\n",
       "      <td>1.7</td>\n",
       "      <td>1.4</td>\n",
       "      <td>2.08</td>\n",
       "      <td>1.8</td>\n",
       "      <td>2.3</td>\n",
       "      <td>2.3</td>\n",
       "      <td>1.87</td>\n",
       "      <td>1.6</td>\n",
       "      <td>1.9</td>\n",
       "      <td>2.0</td>\n",
       "    </tr>\n",
       "    <tr>\n",
       "      <th>6</th>\n",
       "      <td>Ketamine</td>\n",
       "      <td>3.54</td>\n",
       "      <td>2.00</td>\n",
       "      <td>2.10</td>\n",
       "      <td>2.00</td>\n",
       "      <td>2.1</td>\n",
       "      <td>1.7</td>\n",
       "      <td>2.1</td>\n",
       "      <td>1.54</td>\n",
       "      <td>1.9</td>\n",
       "      <td>1.7</td>\n",
       "      <td>1.0</td>\n",
       "      <td>1.69</td>\n",
       "      <td>2.0</td>\n",
       "      <td>1.5</td>\n",
       "      <td>1.5</td>\n",
       "    </tr>\n",
       "    <tr>\n",
       "      <th>7</th>\n",
       "      <td>Amphetamine</td>\n",
       "      <td>3.48</td>\n",
       "      <td>1.81</td>\n",
       "      <td>1.80</td>\n",
       "      <td>1.81</td>\n",
       "      <td>1.3</td>\n",
       "      <td>1.8</td>\n",
       "      <td>2.4</td>\n",
       "      <td>1.67</td>\n",
       "      <td>2.0</td>\n",
       "      <td>1.9</td>\n",
       "      <td>1.1</td>\n",
       "      <td>1.50</td>\n",
       "      <td>1.4</td>\n",
       "      <td>1.5</td>\n",
       "      <td>1.6</td>\n",
       "    </tr>\n",
       "    <tr>\n",
       "      <th>8</th>\n",
       "      <td>Benzodiazepines</td>\n",
       "      <td>3.46</td>\n",
       "      <td>1.63</td>\n",
       "      <td>1.70</td>\n",
       "      <td>1.63</td>\n",
       "      <td>1.5</td>\n",
       "      <td>1.7</td>\n",
       "      <td>1.8</td>\n",
       "      <td>1.83</td>\n",
       "      <td>1.7</td>\n",
       "      <td>2.1</td>\n",
       "      <td>1.8</td>\n",
       "      <td>1.65</td>\n",
       "      <td>2.0</td>\n",
       "      <td>1.5</td>\n",
       "      <td>1.5</td>\n",
       "    </tr>\n",
       "    <tr>\n",
       "      <th>9</th>\n",
       "      <td>4-MTA</td>\n",
       "      <td>3.45</td>\n",
       "      <td>2.15</td>\n",
       "      <td>2.15</td>\n",
       "      <td>1.44</td>\n",
       "      <td>2.2</td>\n",
       "      <td>2.1</td>\n",
       "      <td>NaN</td>\n",
       "      <td>1.30</td>\n",
       "      <td>1.0</td>\n",
       "      <td>1.7</td>\n",
       "      <td>0.8</td>\n",
       "      <td>1.06</td>\n",
       "      <td>1.2</td>\n",
       "      <td>1.0</td>\n",
       "      <td>1.0</td>\n",
       "    </tr>\n",
       "    <tr>\n",
       "      <th>10</th>\n",
       "      <td>Buprenorphine</td>\n",
       "      <td>3.24</td>\n",
       "      <td>1.60</td>\n",
       "      <td>1.30</td>\n",
       "      <td>1.60</td>\n",
       "      <td>1.2</td>\n",
       "      <td>1.3</td>\n",
       "      <td>2.3</td>\n",
       "      <td>1.64</td>\n",
       "      <td>2.0</td>\n",
       "      <td>1.5</td>\n",
       "      <td>1.5</td>\n",
       "      <td>1.49</td>\n",
       "      <td>1.6</td>\n",
       "      <td>1.5</td>\n",
       "      <td>1.4</td>\n",
       "    </tr>\n",
       "    <tr>\n",
       "      <th>11</th>\n",
       "      <td>Cannabis</td>\n",
       "      <td>3.01</td>\n",
       "      <td>1.50</td>\n",
       "      <td>1.50</td>\n",
       "      <td>0.99</td>\n",
       "      <td>0.9</td>\n",
       "      <td>2.1</td>\n",
       "      <td>NaN</td>\n",
       "      <td>1.51</td>\n",
       "      <td>1.9</td>\n",
       "      <td>1.7</td>\n",
       "      <td>0.8</td>\n",
       "      <td>1.50</td>\n",
       "      <td>1.7</td>\n",
       "      <td>1.3</td>\n",
       "      <td>1.5</td>\n",
       "    </tr>\n",
       "    <tr>\n",
       "      <th>12</th>\n",
       "      <td>Solvents</td>\n",
       "      <td>2.91</td>\n",
       "      <td>1.90</td>\n",
       "      <td>1.90</td>\n",
       "      <td>1.28</td>\n",
       "      <td>2.1</td>\n",
       "      <td>1.7</td>\n",
       "      <td>NaN</td>\n",
       "      <td>1.01</td>\n",
       "      <td>1.7</td>\n",
       "      <td>1.2</td>\n",
       "      <td>0.1</td>\n",
       "      <td>1.52</td>\n",
       "      <td>1.9</td>\n",
       "      <td>1.5</td>\n",
       "      <td>1.2</td>\n",
       "    </tr>\n",
       "    <tr>\n",
       "      <th>13</th>\n",
       "      <td>Ecstasy</td>\n",
       "      <td>2.73</td>\n",
       "      <td>1.60</td>\n",
       "      <td>1.60</td>\n",
       "      <td>1.05</td>\n",
       "      <td>1.6</td>\n",
       "      <td>1.6</td>\n",
       "      <td>NaN</td>\n",
       "      <td>1.13</td>\n",
       "      <td>1.5</td>\n",
       "      <td>1.2</td>\n",
       "      <td>0.7</td>\n",
       "      <td>1.09</td>\n",
       "      <td>1.2</td>\n",
       "      <td>1.0</td>\n",
       "      <td>1.1</td>\n",
       "    </tr>\n",
       "    <tr>\n",
       "      <th>14</th>\n",
       "      <td>Methylphenidate</td>\n",
       "      <td>2.57</td>\n",
       "      <td>1.32</td>\n",
       "      <td>1.30</td>\n",
       "      <td>1.32</td>\n",
       "      <td>1.2</td>\n",
       "      <td>1.3</td>\n",
       "      <td>1.6</td>\n",
       "      <td>1.25</td>\n",
       "      <td>1.4</td>\n",
       "      <td>1.3</td>\n",
       "      <td>1.0</td>\n",
       "      <td>0.97</td>\n",
       "      <td>1.1</td>\n",
       "      <td>0.8</td>\n",
       "      <td>1.1</td>\n",
       "    </tr>\n",
       "    <tr>\n",
       "      <th>15</th>\n",
       "      <td>GHB</td>\n",
       "      <td>2.49</td>\n",
       "      <td>1.30</td>\n",
       "      <td>1.30</td>\n",
       "      <td>0.86</td>\n",
       "      <td>1.4</td>\n",
       "      <td>1.2</td>\n",
       "      <td>NaN</td>\n",
       "      <td>1.19</td>\n",
       "      <td>1.4</td>\n",
       "      <td>1.1</td>\n",
       "      <td>1.1</td>\n",
       "      <td>1.30</td>\n",
       "      <td>1.4</td>\n",
       "      <td>1.3</td>\n",
       "      <td>1.2</td>\n",
       "    </tr>\n",
       "    <tr>\n",
       "      <th>16</th>\n",
       "      <td>LSD</td>\n",
       "      <td>2.36</td>\n",
       "      <td>1.13</td>\n",
       "      <td>1.40</td>\n",
       "      <td>1.13</td>\n",
       "      <td>1.7</td>\n",
       "      <td>1.4</td>\n",
       "      <td>0.3</td>\n",
       "      <td>1.23</td>\n",
       "      <td>2.2</td>\n",
       "      <td>1.1</td>\n",
       "      <td>0.3</td>\n",
       "      <td>1.32</td>\n",
       "      <td>1.6</td>\n",
       "      <td>1.3</td>\n",
       "      <td>1.1</td>\n",
       "    </tr>\n",
       "    <tr>\n",
       "      <th>17</th>\n",
       "      <td>Anabolic steroids</td>\n",
       "      <td>2.33</td>\n",
       "      <td>1.45</td>\n",
       "      <td>1.70</td>\n",
       "      <td>1.45</td>\n",
       "      <td>0.8</td>\n",
       "      <td>2.0</td>\n",
       "      <td>1.7</td>\n",
       "      <td>0.88</td>\n",
       "      <td>1.1</td>\n",
       "      <td>0.8</td>\n",
       "      <td>0.8</td>\n",
       "      <td>1.13</td>\n",
       "      <td>1.3</td>\n",
       "      <td>0.8</td>\n",
       "      <td>1.3</td>\n",
       "    </tr>\n",
       "    <tr>\n",
       "      <th>18</th>\n",
       "      <td>Khat</td>\n",
       "      <td>1.79</td>\n",
       "      <td>0.75</td>\n",
       "      <td>0.75</td>\n",
       "      <td>0.50</td>\n",
       "      <td>0.3</td>\n",
       "      <td>1.2</td>\n",
       "      <td>NaN</td>\n",
       "      <td>1.04</td>\n",
       "      <td>1.6</td>\n",
       "      <td>1.2</td>\n",
       "      <td>0.3</td>\n",
       "      <td>0.85</td>\n",
       "      <td>0.7</td>\n",
       "      <td>1.1</td>\n",
       "      <td>0.8</td>\n",
       "    </tr>\n",
       "    <tr>\n",
       "      <th>19</th>\n",
       "      <td>Alkyl nitrites</td>\n",
       "      <td>1.77</td>\n",
       "      <td>0.93</td>\n",
       "      <td>0.90</td>\n",
       "      <td>0.93</td>\n",
       "      <td>1.6</td>\n",
       "      <td>0.9</td>\n",
       "      <td>0.3</td>\n",
       "      <td>0.87</td>\n",
       "      <td>1.6</td>\n",
       "      <td>0.7</td>\n",
       "      <td>0.3</td>\n",
       "      <td>0.97</td>\n",
       "      <td>0.8</td>\n",
       "      <td>0.7</td>\n",
       "      <td>1.4</td>\n",
       "    </tr>\n",
       "  </tbody>\n",
       "</table>\n",
       "</div>"
      ],
      "text/plain": [
       "                 Drug  Mean Physical harm + Mean Dependence  \\\n",
       "0              Heroin                                  5.78   \n",
       "1             Cocaine                                  4.72   \n",
       "2        Barbiturates                                  4.24   \n",
       "3             Tobacco                                  4.11   \n",
       "4             Alcohol                                  4.08   \n",
       "5    Street methadone                                  3.94   \n",
       "6            Ketamine                                  3.54   \n",
       "7         Amphetamine                                  3.48   \n",
       "8     Benzodiazepines                                  3.46   \n",
       "9               4-MTA                                  3.45   \n",
       "10      Buprenorphine                                  3.24   \n",
       "11           Cannabis                                  3.01   \n",
       "12           Solvents                                  2.91   \n",
       "13            Ecstasy                                  2.73   \n",
       "14    Methylphenidate                                  2.57   \n",
       "15                GHB                                  2.49   \n",
       "16                LSD                                  2.36   \n",
       "17  Anabolic steroids                                  2.33   \n",
       "18               Khat                                  1.79   \n",
       "19     Alkyl nitrites                                  1.77   \n",
       "\n",
       "    Mean Physical harm[1]  Median Physical harm[2]  MeanNA=0 Physical harm[3]  \\\n",
       "0                    2.78                     2.80                       2.78   \n",
       "1                    2.33                     2.00                       2.33   \n",
       "2                    2.23                     2.30                       2.23   \n",
       "3                    1.90                     1.90                       1.24   \n",
       "4                    2.15                     2.15                       1.40   \n",
       "5                    1.86                     1.70                       1.86   \n",
       "6                    2.00                     2.10                       2.00   \n",
       "7                    1.81                     1.80                       1.81   \n",
       "8                    1.63                     1.70                       1.63   \n",
       "9                    2.15                     2.15                       1.44   \n",
       "10                   1.60                     1.30                       1.60   \n",
       "11                   1.50                     1.50                       0.99   \n",
       "12                   1.90                     1.90                       1.28   \n",
       "13                   1.60                     1.60                       1.05   \n",
       "14                   1.32                     1.30                       1.32   \n",
       "15                   1.30                     1.30                       0.86   \n",
       "16                   1.13                     1.40                       1.13   \n",
       "17                   1.45                     1.70                       1.45   \n",
       "18                   0.75                     0.75                       0.50   \n",
       "19                   0.93                     0.90                       0.93   \n",
       "\n",
       "    Acute harm  Chronic harm  Intravenous harm  Mean Dependence  Pleasure  \\\n",
       "0          2.8           2.5               3.0             3.00       3.0   \n",
       "1          2.0           2.0               3.0             2.39       3.0   \n",
       "2          2.3           1.9               2.5             2.01       2.0   \n",
       "3          0.9           2.9               NaN             2.21       2.3   \n",
       "4          1.9           2.4               NaN             1.93       2.3   \n",
       "5          2.5           1.7               1.4             2.08       1.8   \n",
       "6          2.1           1.7               2.1             1.54       1.9   \n",
       "7          1.3           1.8               2.4             1.67       2.0   \n",
       "8          1.5           1.7               1.8             1.83       1.7   \n",
       "9          2.2           2.1               NaN             1.30       1.0   \n",
       "10         1.2           1.3               2.3             1.64       2.0   \n",
       "11         0.9           2.1               NaN             1.51       1.9   \n",
       "12         2.1           1.7               NaN             1.01       1.7   \n",
       "13         1.6           1.6               NaN             1.13       1.5   \n",
       "14         1.2           1.3               1.6             1.25       1.4   \n",
       "15         1.4           1.2               NaN             1.19       1.4   \n",
       "16         1.7           1.4               0.3             1.23       2.2   \n",
       "17         0.8           2.0               1.7             0.88       1.1   \n",
       "18         0.3           1.2               NaN             1.04       1.6   \n",
       "19         1.6           0.9               0.3             0.87       1.6   \n",
       "\n",
       "    Psychological  Physical  Mean Social harm  Intoxication  Social harm  \\\n",
       "0             3.0       3.0              2.54           1.6          3.0   \n",
       "1             2.8       1.3              2.17           1.8          2.5   \n",
       "2             2.2       1.8              2.00           2.4          1.9   \n",
       "3             2.6       1.8              1.42           0.8          1.1   \n",
       "4             1.9       1.6              2.21           2.2          2.4   \n",
       "5             2.3       2.3              1.87           1.6          1.9   \n",
       "6             1.7       1.0              1.69           2.0          1.5   \n",
       "7             1.9       1.1              1.50           1.4          1.5   \n",
       "8             2.1       1.8              1.65           2.0          1.5   \n",
       "9             1.7       0.8              1.06           1.2          1.0   \n",
       "10            1.5       1.5              1.49           1.6          1.5   \n",
       "11            1.7       0.8              1.50           1.7          1.3   \n",
       "12            1.2       0.1              1.52           1.9          1.5   \n",
       "13            1.2       0.7              1.09           1.2          1.0   \n",
       "14            1.3       1.0              0.97           1.1          0.8   \n",
       "15            1.1       1.1              1.30           1.4          1.3   \n",
       "16            1.1       0.3              1.32           1.6          1.3   \n",
       "17            0.8       0.8              1.13           1.3          0.8   \n",
       "18            1.2       0.3              0.85           0.7          1.1   \n",
       "19            0.7       0.3              0.97           0.8          0.7   \n",
       "\n",
       "    Health-care costs  \n",
       "0                 3.0  \n",
       "1                 2.3  \n",
       "2                 1.7  \n",
       "3                 2.4  \n",
       "4                 2.1  \n",
       "5                 2.0  \n",
       "6                 1.5  \n",
       "7                 1.6  \n",
       "8                 1.5  \n",
       "9                 1.0  \n",
       "10                1.4  \n",
       "11                1.5  \n",
       "12                1.2  \n",
       "13                1.1  \n",
       "14                1.1  \n",
       "15                1.2  \n",
       "16                1.1  \n",
       "17                1.3  \n",
       "18                0.8  \n",
       "19                1.4  "
      ]
     },
     "execution_count": 5,
     "metadata": {},
     "output_type": "execute_result"
    }
   ],
   "source": [
    "drugs"
   ]
  },
  {
   "cell_type": "code",
   "execution_count": 6,
   "metadata": {},
   "outputs": [
    {
     "data": {
      "text/html": [
       "<script type=\"text/javascript\">window.PlotlyConfig = {MathJaxConfig: 'local'};</script><script type=\"text/javascript\">if (window.MathJax) {MathJax.Hub.Config({SVG: {font: \"STIX-Web\"}});}</script><script>requirejs.config({paths: { 'plotly': ['https://cdn.plot.ly/plotly-latest.min']},});if(!window._Plotly) {require(['plotly'],function(plotly) {window._Plotly=plotly;});}</script>"
      ],
      "text/vnd.plotly.v1+html": [
       "<script type=\"text/javascript\">window.PlotlyConfig = {MathJaxConfig: 'local'};</script><script type=\"text/javascript\">if (window.MathJax) {MathJax.Hub.Config({SVG: {font: \"STIX-Web\"}});}</script><script>requirejs.config({paths: { 'plotly': ['https://cdn.plot.ly/plotly-latest.min']},});if(!window._Plotly) {require(['plotly'],function(plotly) {window._Plotly=plotly;});}</script>"
      ]
     },
     "metadata": {},
     "output_type": "display_data"
    }
   ],
   "source": [
    "from plotly.offline import download_plotlyjs, init_notebook_mode, plot, iplot\n",
    "import plotly.graph_objs as go\n",
    "init_notebook_mode(connected=True)"
   ]
  },
  {
   "cell_type": "code",
   "execution_count": 53,
   "metadata": {},
   "outputs": [],
   "source": [
    "import plotly.plotly as py"
   ]
  },
  {
   "cell_type": "code",
   "execution_count": 7,
   "metadata": {},
   "outputs": [
    {
     "data": {
      "text/plain": [
       "Index(['Drug', 'Mean Physical harm + Mean Dependence', 'Mean Physical harm[1]',\n",
       "       'Median Physical harm[2]', 'MeanNA=0 Physical harm[3]', 'Acute harm',\n",
       "       'Chronic harm', 'Intravenous harm', 'Mean Dependence', 'Pleasure',\n",
       "       'Psychological', 'Physical', 'Mean Social harm', 'Intoxication',\n",
       "       'Social harm', 'Health-care costs'],\n",
       "      dtype='object')"
      ]
     },
     "execution_count": 7,
     "metadata": {},
     "output_type": "execute_result"
    }
   ],
   "source": [
    "drugs.columns"
   ]
  },
  {
   "cell_type": "code",
   "execution_count": 8,
   "metadata": {},
   "outputs": [],
   "source": [
    "drugs.columns = [\"Drug\", \"Mean Physical harm + Mean Dependence\", \"Mean Physical harm\", \"Median Physical harm\",\n",
    "                \"MeanNA=0 Physical harm\", \"Acute Harm\", \"Chronic Harm\", \"Intravenous harm\", \"Mean Dependence\", \"Pleasure\",\n",
    "                \"Psychological\", \"Physical\", \"Mean Social harm\", \"Intoxication\", \"Social harm\", \"Health-care costs\"]"
   ]
  },
  {
   "cell_type": "code",
   "execution_count": 9,
   "metadata": {},
   "outputs": [
    {
     "data": {
      "application/vnd.plotly.v1+json": {
       "config": {
        "linkText": "Export to plot.ly",
        "plotlyServerURL": "https://plot.ly",
        "showLink": false
       },
       "data": [
        {
         "colorscale": "RdBu",
         "type": "heatmap",
         "uid": "42bd9676-763e-42d9-bbaa-01bcd20da56c",
         "x": [
          "Mean Dependence",
          "Pleasure",
          "Psychological",
          "Physical"
         ],
         "y": [
          "Heroin",
          "Cocaine",
          "Barbiturates",
          "Tobacco",
          "Alcohol",
          "Street methadone",
          "Ketamine",
          "Amphetamine",
          "Benzodiazepines",
          "4-MTA",
          "Buprenorphine",
          "Cannabis",
          "Solvents",
          "Ecstasy",
          "Methylphenidate",
          "GHB",
          "LSD",
          "Anabolic steroids",
          "Khat",
          "Alkyl nitrites"
         ],
         "z": [
          [
           3,
           3,
           3,
           3
          ],
          [
           2.39,
           3,
           2.8,
           1.3
          ],
          [
           2.01,
           2,
           2.2,
           1.8
          ],
          [
           2.21,
           2.3,
           2.6,
           1.8
          ],
          [
           1.93,
           2.3,
           1.9,
           1.6
          ],
          [
           2.08,
           1.8,
           2.3,
           2.3
          ],
          [
           1.54,
           1.9,
           1.7,
           1
          ],
          [
           1.67,
           2,
           1.9,
           1.1
          ],
          [
           1.83,
           1.7,
           2.1,
           1.8
          ],
          [
           1.3,
           1,
           1.7,
           0.8
          ],
          [
           1.64,
           2,
           1.5,
           1.5
          ],
          [
           1.51,
           1.9,
           1.7,
           0.8
          ],
          [
           1.01,
           1.7,
           1.2,
           0.1
          ],
          [
           1.13,
           1.5,
           1.2,
           0.7
          ],
          [
           1.25,
           1.4,
           1.3,
           1
          ],
          [
           1.19,
           1.4,
           1.1,
           1.1
          ],
          [
           1.23,
           2.2,
           1.1,
           0.3
          ],
          [
           0.88,
           1.1,
           0.8,
           0.8
          ],
          [
           1.04,
           1.6,
           1.2,
           0.3
          ],
          [
           0.87,
           1.6,
           0.7,
           0.3
          ]
         ]
        }
       ],
       "layout": {
        "title": {
         "text": "Dependence Heatmap of each Drug"
        },
        "xaxis": {
         "title": {
          "text": "Dependence"
         }
        },
        "yaxis": {
         "automargin": true
        }
       }
      },
      "text/html": [
       "<div id=\"9f3f7a9f-01e0-428e-8e5b-f2a8dfb8b6ca\" style=\"height: 525px; width: 100%;\" class=\"plotly-graph-div\"></div><script type=\"text/javascript\">require([\"plotly\"], function(Plotly) { window.PLOTLYENV=window.PLOTLYENV || {};window.PLOTLYENV.BASE_URL=\"https://plot.ly\";Plotly.newPlot(\"9f3f7a9f-01e0-428e-8e5b-f2a8dfb8b6ca\", [{\"colorscale\": \"RdBu\", \"x\": [\"Mean Dependence\", \"Pleasure\", \"Psychological\", \"Physical\"], \"y\": [\"Heroin\", \"Cocaine\", \"Barbiturates\", \"Tobacco\", \"Alcohol\", \"Street methadone\", \"Ketamine\", \"Amphetamine\", \"Benzodiazepines\", \"4-MTA\", \"Buprenorphine\", \"Cannabis\", \"Solvents\", \"Ecstasy\", \"Methylphenidate\", \"GHB\", \"LSD\", \"Anabolic steroids\", \"Khat\", \"Alkyl nitrites\"], \"z\": [[3.0, 3.0, 3.0, 3.0], [2.39, 3.0, 2.8, 1.3], [2.01, 2.0, 2.2, 1.8], [2.21, 2.3, 2.6, 1.8], [1.93, 2.3, 1.9, 1.6], [2.08, 1.8, 2.3, 2.3], [1.54, 1.9, 1.7, 1.0], [1.67, 2.0, 1.9, 1.1], [1.83, 1.7, 2.1, 1.8], [1.3, 1.0, 1.7, 0.8], [1.64, 2.0, 1.5, 1.5], [1.51, 1.9, 1.7, 0.8], [1.01, 1.7, 1.2, 0.1], [1.13, 1.5, 1.2, 0.7], [1.25, 1.4, 1.3, 1.0], [1.19, 1.4, 1.1, 1.1], [1.23, 2.2, 1.1, 0.3], [0.88, 1.1, 0.8, 0.8], [1.04, 1.6, 1.2, 0.3], [0.87, 1.6, 0.7, 0.3]], \"type\": \"heatmap\", \"uid\": \"42bd9676-763e-42d9-bbaa-01bcd20da56c\"}], {\"title\": {\"text\": \"Dependence Heatmap of each Drug\"}, \"xaxis\": {\"title\": {\"text\": \"Dependence\"}}, \"yaxis\": {\"automargin\": true}}, {\"showLink\": false, \"linkText\": \"Export to plot.ly\", \"plotlyServerURL\": \"https://plot.ly\"})});</script><script type=\"text/javascript\">window.addEventListener(\"resize\", function(){window._Plotly.Plots.resize(document.getElementById(\"9f3f7a9f-01e0-428e-8e5b-f2a8dfb8b6ca\"));});</script>"
      ],
      "text/vnd.plotly.v1+html": [
       "<div id=\"9f3f7a9f-01e0-428e-8e5b-f2a8dfb8b6ca\" style=\"height: 525px; width: 100%;\" class=\"plotly-graph-div\"></div><script type=\"text/javascript\">require([\"plotly\"], function(Plotly) { window.PLOTLYENV=window.PLOTLYENV || {};window.PLOTLYENV.BASE_URL=\"https://plot.ly\";Plotly.newPlot(\"9f3f7a9f-01e0-428e-8e5b-f2a8dfb8b6ca\", [{\"colorscale\": \"RdBu\", \"x\": [\"Mean Dependence\", \"Pleasure\", \"Psychological\", \"Physical\"], \"y\": [\"Heroin\", \"Cocaine\", \"Barbiturates\", \"Tobacco\", \"Alcohol\", \"Street methadone\", \"Ketamine\", \"Amphetamine\", \"Benzodiazepines\", \"4-MTA\", \"Buprenorphine\", \"Cannabis\", \"Solvents\", \"Ecstasy\", \"Methylphenidate\", \"GHB\", \"LSD\", \"Anabolic steroids\", \"Khat\", \"Alkyl nitrites\"], \"z\": [[3.0, 3.0, 3.0, 3.0], [2.39, 3.0, 2.8, 1.3], [2.01, 2.0, 2.2, 1.8], [2.21, 2.3, 2.6, 1.8], [1.93, 2.3, 1.9, 1.6], [2.08, 1.8, 2.3, 2.3], [1.54, 1.9, 1.7, 1.0], [1.67, 2.0, 1.9, 1.1], [1.83, 1.7, 2.1, 1.8], [1.3, 1.0, 1.7, 0.8], [1.64, 2.0, 1.5, 1.5], [1.51, 1.9, 1.7, 0.8], [1.01, 1.7, 1.2, 0.1], [1.13, 1.5, 1.2, 0.7], [1.25, 1.4, 1.3, 1.0], [1.19, 1.4, 1.1, 1.1], [1.23, 2.2, 1.1, 0.3], [0.88, 1.1, 0.8, 0.8], [1.04, 1.6, 1.2, 0.3], [0.87, 1.6, 0.7, 0.3]], \"type\": \"heatmap\", \"uid\": \"42bd9676-763e-42d9-bbaa-01bcd20da56c\"}], {\"title\": {\"text\": \"Dependence Heatmap of each Drug\"}, \"xaxis\": {\"title\": {\"text\": \"Dependence\"}}, \"yaxis\": {\"automargin\": true}}, {\"showLink\": false, \"linkText\": \"Export to plot.ly\", \"plotlyServerURL\": \"https://plot.ly\"})});</script><script type=\"text/javascript\">window.addEventListener(\"resize\", function(){window._Plotly.Plots.resize(document.getElementById(\"9f3f7a9f-01e0-428e-8e5b-f2a8dfb8b6ca\"));});</script>"
      ]
     },
     "metadata": {},
     "output_type": "display_data"
    }
   ],
   "source": [
    "data = go.Heatmap(z=drugs.loc[:, drugs.columns.isin([\"Mean Dependence\", \"Pleasure\",\n",
    "                \"Psychological\", \"Physical\"])].values.tolist(),\n",
    "                 y=drugs[\"Drug\"], x = [\"Mean Dependence\", \"Pleasure\",\n",
    "                \"Psychological\", \"Physical\"], colorscale=\"RdBu\")\n",
    "traces = [data]\n",
    "\n",
    "xaxis_template = dict(title = \"Dependence\")\n",
    "yaxis_template = dict(automargin = True)\n",
    "\n",
    "\n",
    "layout = go.Layout(title = \"Dependence Heatmap of each Drug\", xaxis = xaxis_template, yaxis = yaxis_template)\n",
    "fig = go.Figure(data=traces, layout = layout)\n",
    "iplot(fig)"
   ]
  },
  {
   "cell_type": "code",
   "execution_count": 10,
   "metadata": {},
   "outputs": [
    {
     "data": {
      "application/vnd.plotly.v1+json": {
       "config": {
        "linkText": "Export to plot.ly",
        "plotlyServerURL": "https://plot.ly",
        "showLink": false
       },
       "data": [
        {
         "colorscale": "RdBu",
         "type": "heatmap",
         "uid": "6eab9719-183c-4d07-b55e-5b92d8989045",
         "x": [
          "Mean Social harm",
          "Intoxication",
          "Social harm",
          "Health-care costs"
         ],
         "y": [
          "Heroin",
          "Cocaine",
          "Barbiturates",
          "Tobacco",
          "Alcohol",
          "Street methadone",
          "Ketamine",
          "Amphetamine",
          "Benzodiazepines",
          "4-MTA",
          "Buprenorphine",
          "Cannabis",
          "Solvents",
          "Ecstasy",
          "Methylphenidate",
          "GHB",
          "LSD",
          "Anabolic steroids",
          "Khat",
          "Alkyl nitrites"
         ],
         "z": [
          [
           2.54,
           1.6,
           3,
           3
          ],
          [
           2.17,
           1.8,
           2.5,
           2.3
          ],
          [
           2,
           2.4,
           1.9,
           1.7
          ],
          [
           1.42,
           0.8,
           1.1,
           2.4
          ],
          [
           2.21,
           2.2,
           2.4,
           2.1
          ],
          [
           1.87,
           1.6,
           1.9,
           2
          ],
          [
           1.69,
           2,
           1.5,
           1.5
          ],
          [
           1.5,
           1.4,
           1.5,
           1.6
          ],
          [
           1.65,
           2,
           1.5,
           1.5
          ],
          [
           1.06,
           1.2,
           1,
           1
          ],
          [
           1.49,
           1.6,
           1.5,
           1.4
          ],
          [
           1.5,
           1.7,
           1.3,
           1.5
          ],
          [
           1.52,
           1.9,
           1.5,
           1.2
          ],
          [
           1.09,
           1.2,
           1,
           1.1
          ],
          [
           0.97,
           1.1,
           0.8,
           1.1
          ],
          [
           1.3,
           1.4,
           1.3,
           1.2
          ],
          [
           1.32,
           1.6,
           1.3,
           1.1
          ],
          [
           1.13,
           1.3,
           0.8,
           1.3
          ],
          [
           0.85,
           0.7,
           1.1,
           0.8
          ],
          [
           0.97,
           0.8,
           0.7,
           1.4
          ]
         ]
        }
       ],
       "layout": {
        "title": {
         "text": "Social Harm Heatmap of each Drug"
        },
        "xaxis": {
         "title": {
          "text": "Social Harm"
         }
        },
        "yaxis": {
         "automargin": true
        }
       }
      },
      "text/html": [
       "<div id=\"9d8c20c8-7753-4a02-b062-9273285f0ee7\" style=\"height: 525px; width: 100%;\" class=\"plotly-graph-div\"></div><script type=\"text/javascript\">require([\"plotly\"], function(Plotly) { window.PLOTLYENV=window.PLOTLYENV || {};window.PLOTLYENV.BASE_URL=\"https://plot.ly\";Plotly.newPlot(\"9d8c20c8-7753-4a02-b062-9273285f0ee7\", [{\"colorscale\": \"RdBu\", \"x\": [\"Mean Social harm\", \"Intoxication\", \"Social harm\", \"Health-care costs\"], \"y\": [\"Heroin\", \"Cocaine\", \"Barbiturates\", \"Tobacco\", \"Alcohol\", \"Street methadone\", \"Ketamine\", \"Amphetamine\", \"Benzodiazepines\", \"4-MTA\", \"Buprenorphine\", \"Cannabis\", \"Solvents\", \"Ecstasy\", \"Methylphenidate\", \"GHB\", \"LSD\", \"Anabolic steroids\", \"Khat\", \"Alkyl nitrites\"], \"z\": [[2.54, 1.6, 3.0, 3.0], [2.17, 1.8, 2.5, 2.3], [2.0, 2.4, 1.9, 1.7], [1.42, 0.8, 1.1, 2.4], [2.21, 2.2, 2.4, 2.1], [1.87, 1.6, 1.9, 2.0], [1.69, 2.0, 1.5, 1.5], [1.5, 1.4, 1.5, 1.6], [1.65, 2.0, 1.5, 1.5], [1.06, 1.2, 1.0, 1.0], [1.49, 1.6, 1.5, 1.4], [1.5, 1.7, 1.3, 1.5], [1.52, 1.9, 1.5, 1.2], [1.09, 1.2, 1.0, 1.1], [0.97, 1.1, 0.8, 1.1], [1.3, 1.4, 1.3, 1.2], [1.32, 1.6, 1.3, 1.1], [1.13, 1.3, 0.8, 1.3], [0.85, 0.7, 1.1, 0.8], [0.97, 0.8, 0.7, 1.4]], \"type\": \"heatmap\", \"uid\": \"6eab9719-183c-4d07-b55e-5b92d8989045\"}], {\"title\": {\"text\": \"Social Harm Heatmap of each Drug\"}, \"xaxis\": {\"title\": {\"text\": \"Social Harm\"}}, \"yaxis\": {\"automargin\": true}}, {\"showLink\": false, \"linkText\": \"Export to plot.ly\", \"plotlyServerURL\": \"https://plot.ly\"})});</script><script type=\"text/javascript\">window.addEventListener(\"resize\", function(){window._Plotly.Plots.resize(document.getElementById(\"9d8c20c8-7753-4a02-b062-9273285f0ee7\"));});</script>"
      ],
      "text/vnd.plotly.v1+html": [
       "<div id=\"9d8c20c8-7753-4a02-b062-9273285f0ee7\" style=\"height: 525px; width: 100%;\" class=\"plotly-graph-div\"></div><script type=\"text/javascript\">require([\"plotly\"], function(Plotly) { window.PLOTLYENV=window.PLOTLYENV || {};window.PLOTLYENV.BASE_URL=\"https://plot.ly\";Plotly.newPlot(\"9d8c20c8-7753-4a02-b062-9273285f0ee7\", [{\"colorscale\": \"RdBu\", \"x\": [\"Mean Social harm\", \"Intoxication\", \"Social harm\", \"Health-care costs\"], \"y\": [\"Heroin\", \"Cocaine\", \"Barbiturates\", \"Tobacco\", \"Alcohol\", \"Street methadone\", \"Ketamine\", \"Amphetamine\", \"Benzodiazepines\", \"4-MTA\", \"Buprenorphine\", \"Cannabis\", \"Solvents\", \"Ecstasy\", \"Methylphenidate\", \"GHB\", \"LSD\", \"Anabolic steroids\", \"Khat\", \"Alkyl nitrites\"], \"z\": [[2.54, 1.6, 3.0, 3.0], [2.17, 1.8, 2.5, 2.3], [2.0, 2.4, 1.9, 1.7], [1.42, 0.8, 1.1, 2.4], [2.21, 2.2, 2.4, 2.1], [1.87, 1.6, 1.9, 2.0], [1.69, 2.0, 1.5, 1.5], [1.5, 1.4, 1.5, 1.6], [1.65, 2.0, 1.5, 1.5], [1.06, 1.2, 1.0, 1.0], [1.49, 1.6, 1.5, 1.4], [1.5, 1.7, 1.3, 1.5], [1.52, 1.9, 1.5, 1.2], [1.09, 1.2, 1.0, 1.1], [0.97, 1.1, 0.8, 1.1], [1.3, 1.4, 1.3, 1.2], [1.32, 1.6, 1.3, 1.1], [1.13, 1.3, 0.8, 1.3], [0.85, 0.7, 1.1, 0.8], [0.97, 0.8, 0.7, 1.4]], \"type\": \"heatmap\", \"uid\": \"6eab9719-183c-4d07-b55e-5b92d8989045\"}], {\"title\": {\"text\": \"Social Harm Heatmap of each Drug\"}, \"xaxis\": {\"title\": {\"text\": \"Social Harm\"}}, \"yaxis\": {\"automargin\": true}}, {\"showLink\": false, \"linkText\": \"Export to plot.ly\", \"plotlyServerURL\": \"https://plot.ly\"})});</script><script type=\"text/javascript\">window.addEventListener(\"resize\", function(){window._Plotly.Plots.resize(document.getElementById(\"9d8c20c8-7753-4a02-b062-9273285f0ee7\"));});</script>"
      ]
     },
     "metadata": {},
     "output_type": "display_data"
    }
   ],
   "source": [
    "data = go.Heatmap(z=drugs.loc[:, drugs.columns.isin(['Mean Social harm', 'Intoxication',\n",
    "       'Social harm', 'Health-care costs'])].values.tolist(),\n",
    "                 y=drugs[\"Drug\"], x = ['Mean Social harm', 'Intoxication',\n",
    "       'Social harm', 'Health-care costs'], colorscale=\"RdBu\")\n",
    "traces = [data]\n",
    "\n",
    "xaxis_template = dict(title = \"Social Harm\")\n",
    "yaxis_template = dict(automargin = True)\n",
    "\n",
    "\n",
    "layout = go.Layout(title = \"Social Harm Heatmap of each Drug\", xaxis = xaxis_template, yaxis = yaxis_template)\n",
    "fig = go.Figure(data=traces, layout = layout)\n",
    "iplot(fig)"
   ]
  },
  {
   "cell_type": "code",
   "execution_count": null,
   "metadata": {},
   "outputs": [],
   "source": []
  },
  {
   "cell_type": "code",
   "execution_count": null,
   "metadata": {},
   "outputs": [],
   "source": []
  },
  {
   "cell_type": "code",
   "execution_count": 11,
   "metadata": {},
   "outputs": [
    {
     "data": {
      "application/vnd.plotly.v1+json": {
       "config": {
        "linkText": "Export to plot.ly",
        "plotlyServerURL": "https://plot.ly",
        "showLink": false
       },
       "data": [
        {
         "colorscale": "RdBu",
         "type": "heatmap",
         "uid": "cd18de5b-42b0-4f78-905d-a207ca0d9507",
         "x": [
          "MeanNA=0 Physical harm",
          "Mean Dependence",
          "Mean Social harm"
         ],
         "y": [
          "Heroin",
          "Cocaine",
          "Barbiturates",
          "Tobacco",
          "Alcohol",
          "Street methadone",
          "Ketamine",
          "Amphetamine",
          "Benzodiazepines",
          "4-MTA",
          "Buprenorphine",
          "Cannabis",
          "Solvents",
          "Ecstasy",
          "Methylphenidate",
          "GHB",
          "LSD",
          "Anabolic steroids",
          "Khat",
          "Alkyl nitrites"
         ],
         "z": [
          [
           2.78,
           3,
           2.54
          ],
          [
           2.33,
           2.39,
           2.17
          ],
          [
           2.23,
           2.01,
           2
          ],
          [
           1.24,
           2.21,
           1.42
          ],
          [
           1.4,
           1.93,
           2.21
          ],
          [
           1.86,
           2.08,
           1.87
          ],
          [
           2,
           1.54,
           1.69
          ],
          [
           1.81,
           1.67,
           1.5
          ],
          [
           1.63,
           1.83,
           1.65
          ],
          [
           1.44,
           1.3,
           1.06
          ],
          [
           1.6,
           1.64,
           1.49
          ],
          [
           0.99,
           1.51,
           1.5
          ],
          [
           1.28,
           1.01,
           1.52
          ],
          [
           1.05,
           1.13,
           1.09
          ],
          [
           1.32,
           1.25,
           0.97
          ],
          [
           0.86,
           1.19,
           1.3
          ],
          [
           1.13,
           1.23,
           1.32
          ],
          [
           1.45,
           0.88,
           1.13
          ],
          [
           0.5,
           1.04,
           0.85
          ],
          [
           0.93,
           0.87,
           0.97
          ]
         ]
        }
       ],
       "layout": {
        "title": {
         "text": "Heatmap on the Dangers of Drugs"
        },
        "xaxis": {
         "title": {
          "text": ""
         }
        },
        "yaxis": {
         "automargin": true
        }
       }
      },
      "text/html": [
       "<div id=\"17565754-004f-44d5-9e18-0ddb8ca5567e\" style=\"height: 525px; width: 100%;\" class=\"plotly-graph-div\"></div><script type=\"text/javascript\">require([\"plotly\"], function(Plotly) { window.PLOTLYENV=window.PLOTLYENV || {};window.PLOTLYENV.BASE_URL=\"https://plot.ly\";Plotly.newPlot(\"17565754-004f-44d5-9e18-0ddb8ca5567e\", [{\"colorscale\": \"RdBu\", \"x\": [\"MeanNA=0 Physical harm\", \"Mean Dependence\", \"Mean Social harm\"], \"y\": [\"Heroin\", \"Cocaine\", \"Barbiturates\", \"Tobacco\", \"Alcohol\", \"Street methadone\", \"Ketamine\", \"Amphetamine\", \"Benzodiazepines\", \"4-MTA\", \"Buprenorphine\", \"Cannabis\", \"Solvents\", \"Ecstasy\", \"Methylphenidate\", \"GHB\", \"LSD\", \"Anabolic steroids\", \"Khat\", \"Alkyl nitrites\"], \"z\": [[2.78, 3.0, 2.54], [2.33, 2.39, 2.17], [2.23, 2.01, 2.0], [1.24, 2.21, 1.42], [1.4, 1.93, 2.21], [1.86, 2.08, 1.87], [2.0, 1.54, 1.69], [1.81, 1.67, 1.5], [1.63, 1.83, 1.65], [1.44, 1.3, 1.06], [1.6, 1.64, 1.49], [0.99, 1.51, 1.5], [1.28, 1.01, 1.52], [1.05, 1.13, 1.09], [1.32, 1.25, 0.97], [0.86, 1.19, 1.3], [1.13, 1.23, 1.32], [1.45, 0.88, 1.13], [0.5, 1.04, 0.85], [0.93, 0.87, 0.97]], \"type\": \"heatmap\", \"uid\": \"cd18de5b-42b0-4f78-905d-a207ca0d9507\"}], {\"title\": {\"text\": \"Heatmap on the Dangers of Drugs\"}, \"xaxis\": {\"title\": {\"text\": \"\"}}, \"yaxis\": {\"automargin\": true}}, {\"showLink\": false, \"linkText\": \"Export to plot.ly\", \"plotlyServerURL\": \"https://plot.ly\"})});</script><script type=\"text/javascript\">window.addEventListener(\"resize\", function(){window._Plotly.Plots.resize(document.getElementById(\"17565754-004f-44d5-9e18-0ddb8ca5567e\"));});</script>"
      ],
      "text/vnd.plotly.v1+html": [
       "<div id=\"17565754-004f-44d5-9e18-0ddb8ca5567e\" style=\"height: 525px; width: 100%;\" class=\"plotly-graph-div\"></div><script type=\"text/javascript\">require([\"plotly\"], function(Plotly) { window.PLOTLYENV=window.PLOTLYENV || {};window.PLOTLYENV.BASE_URL=\"https://plot.ly\";Plotly.newPlot(\"17565754-004f-44d5-9e18-0ddb8ca5567e\", [{\"colorscale\": \"RdBu\", \"x\": [\"MeanNA=0 Physical harm\", \"Mean Dependence\", \"Mean Social harm\"], \"y\": [\"Heroin\", \"Cocaine\", \"Barbiturates\", \"Tobacco\", \"Alcohol\", \"Street methadone\", \"Ketamine\", \"Amphetamine\", \"Benzodiazepines\", \"4-MTA\", \"Buprenorphine\", \"Cannabis\", \"Solvents\", \"Ecstasy\", \"Methylphenidate\", \"GHB\", \"LSD\", \"Anabolic steroids\", \"Khat\", \"Alkyl nitrites\"], \"z\": [[2.78, 3.0, 2.54], [2.33, 2.39, 2.17], [2.23, 2.01, 2.0], [1.24, 2.21, 1.42], [1.4, 1.93, 2.21], [1.86, 2.08, 1.87], [2.0, 1.54, 1.69], [1.81, 1.67, 1.5], [1.63, 1.83, 1.65], [1.44, 1.3, 1.06], [1.6, 1.64, 1.49], [0.99, 1.51, 1.5], [1.28, 1.01, 1.52], [1.05, 1.13, 1.09], [1.32, 1.25, 0.97], [0.86, 1.19, 1.3], [1.13, 1.23, 1.32], [1.45, 0.88, 1.13], [0.5, 1.04, 0.85], [0.93, 0.87, 0.97]], \"type\": \"heatmap\", \"uid\": \"cd18de5b-42b0-4f78-905d-a207ca0d9507\"}], {\"title\": {\"text\": \"Heatmap on the Dangers of Drugs\"}, \"xaxis\": {\"title\": {\"text\": \"\"}}, \"yaxis\": {\"automargin\": true}}, {\"showLink\": false, \"linkText\": \"Export to plot.ly\", \"plotlyServerURL\": \"https://plot.ly\"})});</script><script type=\"text/javascript\">window.addEventListener(\"resize\", function(){window._Plotly.Plots.resize(document.getElementById(\"17565754-004f-44d5-9e18-0ddb8ca5567e\"));});</script>"
      ]
     },
     "metadata": {},
     "output_type": "display_data"
    }
   ],
   "source": [
    "data = go.Heatmap(z=drugs.loc[:, drugs.columns.isin([\"MeanNA=0 Physical harm\", \"Mean Dependence\", \"Mean Social harm\"])].values.tolist(),\n",
    "                 y=drugs[\"Drug\"], x = [\"MeanNA=0 Physical harm\", \"Mean Dependence\", \"Mean Social harm\"], colorscale=\"RdBu\")\n",
    "traces = [data]\n",
    "\n",
    "xaxis_template = dict(title = \"\")\n",
    "yaxis_template = dict(automargin = True)\n",
    "\n",
    "\n",
    "layout = go.Layout(title = \"Heatmap on the Dangers of Drugs\", xaxis = xaxis_template, yaxis = yaxis_template)\n",
    "fig = go.Figure(data=traces, layout = layout)\n",
    "iplot(fig)"
   ]
  },
  {
   "cell_type": "code",
   "execution_count": null,
   "metadata": {},
   "outputs": [],
   "source": []
  },
  {
   "cell_type": "code",
   "execution_count": 12,
   "metadata": {},
   "outputs": [
    {
     "data": {
      "application/vnd.plotly.v1+json": {
       "config": {
        "linkText": "Export to plot.ly",
        "plotlyServerURL": "https://plot.ly",
        "showLink": false
       },
       "data": [
        {
         "fill": "toself",
         "name": "Heroin",
         "r": [
          2.78,
          3,
          2.54
         ],
         "theta": [
          "MeanNA=0 Physical harm",
          "Mean Dependence",
          "Mean Social harm"
         ],
         "type": "scatterpolar",
         "uid": "eac0550b-5613-411b-b98e-dedd5b19b0f2"
        },
        {
         "fill": "toself",
         "name": "Alcohol",
         "r": [
          1.4,
          1.93,
          2.21
         ],
         "theta": [
          "MeanNA=0 Physical harm",
          "Mean Dependence",
          "Mean Social harm"
         ],
         "type": "scatterpolar",
         "uid": "60777555-7336-466d-b1fc-c79fc019580d"
        },
        {
         "fill": "toself",
         "name": "LSD",
         "r": [
          1.13,
          1.23,
          1.32
         ],
         "theta": [
          "MeanNA=0 Physical harm",
          "Mean Dependence",
          "Mean Social harm"
         ],
         "type": "scatterpolar",
         "uid": "48730abd-f930-49d2-b091-4092e20c16f9"
        },
        {
         "fill": "toself",
         "name": "Ecstasy",
         "r": [
          1.05,
          1.13,
          1.09
         ],
         "theta": [
          "MeanNA=0 Physical harm",
          "Mean Dependence",
          "Mean Social harm"
         ],
         "type": "scatterpolar",
         "uid": "7fe10405-8bab-43b8-9589-2a3793711a17"
        },
        {
         "fill": "toself",
         "name": "Cocaine",
         "r": [
          2.33,
          2.39,
          2.17
         ],
         "theta": [
          "MeanNA=0 Physical harm",
          "Mean Dependence",
          "Mean Social harm"
         ],
         "type": "scatterpolar",
         "uid": "6487ca6c-bb44-46a0-ba8d-02d503fa5565"
        }
       ],
       "layout": {
        "polar": {
         "radialaxis": {
          "range": [
           0,
           5
          ],
          "visible": true
         }
        },
        "showlegend": false
       }
      },
      "text/html": [
       "<div id=\"e4f64fb6-5708-4897-96bc-b4b3ee2a7b60\" style=\"height: 525px; width: 100%;\" class=\"plotly-graph-div\"></div><script type=\"text/javascript\">require([\"plotly\"], function(Plotly) { window.PLOTLYENV=window.PLOTLYENV || {};window.PLOTLYENV.BASE_URL=\"https://plot.ly\";Plotly.newPlot(\"e4f64fb6-5708-4897-96bc-b4b3ee2a7b60\", [{\"fill\": \"toself\", \"name\": \"Heroin\", \"r\": [2.78, 3.0, 2.54], \"theta\": [\"MeanNA=0 Physical harm\", \"Mean Dependence\", \"Mean Social harm\"], \"type\": \"scatterpolar\", \"uid\": \"eac0550b-5613-411b-b98e-dedd5b19b0f2\"}, {\"fill\": \"toself\", \"name\": \"Alcohol\", \"r\": [1.4, 1.93, 2.21], \"theta\": [\"MeanNA=0 Physical harm\", \"Mean Dependence\", \"Mean Social harm\"], \"type\": \"scatterpolar\", \"uid\": \"60777555-7336-466d-b1fc-c79fc019580d\"}, {\"fill\": \"toself\", \"name\": \"LSD\", \"r\": [1.13, 1.23, 1.32], \"theta\": [\"MeanNA=0 Physical harm\", \"Mean Dependence\", \"Mean Social harm\"], \"type\": \"scatterpolar\", \"uid\": \"48730abd-f930-49d2-b091-4092e20c16f9\"}, {\"fill\": \"toself\", \"name\": \"Ecstasy\", \"r\": [1.05, 1.13, 1.09], \"theta\": [\"MeanNA=0 Physical harm\", \"Mean Dependence\", \"Mean Social harm\"], \"type\": \"scatterpolar\", \"uid\": \"7fe10405-8bab-43b8-9589-2a3793711a17\"}, {\"fill\": \"toself\", \"name\": \"Cocaine\", \"r\": [2.33, 2.39, 2.17], \"theta\": [\"MeanNA=0 Physical harm\", \"Mean Dependence\", \"Mean Social harm\"], \"type\": \"scatterpolar\", \"uid\": \"6487ca6c-bb44-46a0-ba8d-02d503fa5565\"}], {\"polar\": {\"radialaxis\": {\"range\": [0, 5], \"visible\": true}}, \"showlegend\": false}, {\"showLink\": false, \"linkText\": \"Export to plot.ly\", \"plotlyServerURL\": \"https://plot.ly\"})});</script><script type=\"text/javascript\">window.addEventListener(\"resize\", function(){window._Plotly.Plots.resize(document.getElementById(\"e4f64fb6-5708-4897-96bc-b4b3ee2a7b60\"));});</script>"
      ],
      "text/vnd.plotly.v1+html": [
       "<div id=\"e4f64fb6-5708-4897-96bc-b4b3ee2a7b60\" style=\"height: 525px; width: 100%;\" class=\"plotly-graph-div\"></div><script type=\"text/javascript\">require([\"plotly\"], function(Plotly) { window.PLOTLYENV=window.PLOTLYENV || {};window.PLOTLYENV.BASE_URL=\"https://plot.ly\";Plotly.newPlot(\"e4f64fb6-5708-4897-96bc-b4b3ee2a7b60\", [{\"fill\": \"toself\", \"name\": \"Heroin\", \"r\": [2.78, 3.0, 2.54], \"theta\": [\"MeanNA=0 Physical harm\", \"Mean Dependence\", \"Mean Social harm\"], \"type\": \"scatterpolar\", \"uid\": \"eac0550b-5613-411b-b98e-dedd5b19b0f2\"}, {\"fill\": \"toself\", \"name\": \"Alcohol\", \"r\": [1.4, 1.93, 2.21], \"theta\": [\"MeanNA=0 Physical harm\", \"Mean Dependence\", \"Mean Social harm\"], \"type\": \"scatterpolar\", \"uid\": \"60777555-7336-466d-b1fc-c79fc019580d\"}, {\"fill\": \"toself\", \"name\": \"LSD\", \"r\": [1.13, 1.23, 1.32], \"theta\": [\"MeanNA=0 Physical harm\", \"Mean Dependence\", \"Mean Social harm\"], \"type\": \"scatterpolar\", \"uid\": \"48730abd-f930-49d2-b091-4092e20c16f9\"}, {\"fill\": \"toself\", \"name\": \"Ecstasy\", \"r\": [1.05, 1.13, 1.09], \"theta\": [\"MeanNA=0 Physical harm\", \"Mean Dependence\", \"Mean Social harm\"], \"type\": \"scatterpolar\", \"uid\": \"7fe10405-8bab-43b8-9589-2a3793711a17\"}, {\"fill\": \"toself\", \"name\": \"Cocaine\", \"r\": [2.33, 2.39, 2.17], \"theta\": [\"MeanNA=0 Physical harm\", \"Mean Dependence\", \"Mean Social harm\"], \"type\": \"scatterpolar\", \"uid\": \"6487ca6c-bb44-46a0-ba8d-02d503fa5565\"}], {\"polar\": {\"radialaxis\": {\"range\": [0, 5], \"visible\": true}}, \"showlegend\": false}, {\"showLink\": false, \"linkText\": \"Export to plot.ly\", \"plotlyServerURL\": \"https://plot.ly\"})});</script><script type=\"text/javascript\">window.addEventListener(\"resize\", function(){window._Plotly.Plots.resize(document.getElementById(\"e4f64fb6-5708-4897-96bc-b4b3ee2a7b60\"));});</script>"
      ]
     },
     "metadata": {},
     "output_type": "display_data"
    }
   ],
   "source": [
    "heroin = drugs.loc[drugs[\"Drug\"]==\"Heroin\", drugs.columns.isin([\"MeanNA=0 Physical harm\", \"Mean Dependence\", \"Mean Social harm\"])]\n",
    "alcohol = drugs.loc[drugs[\"Drug\"]==\"Alcohol\", drugs.columns.isin([\"MeanNA=0 Physical harm\", \"Mean Dependence\", \"Mean Social harm\"])]\n",
    "LSD = drugs.loc[drugs[\"Drug\"]==\"LSD\", drugs.columns.isin([\"MeanNA=0 Physical harm\", \"Mean Dependence\", \"Mean Social harm\"])]\n",
    "Ecstasy = drugs.loc[drugs[\"Drug\"]==\"Ecstasy\", drugs.columns.isin([\"MeanNA=0 Physical harm\", \"Mean Dependence\", \"Mean Social harm\"])]\n",
    "Cocaine = drugs.loc[drugs[\"Drug\"]==\"Cocaine\", drugs.columns.isin([\"MeanNA=0 Physical harm\", \"Mean Dependence\", \"Mean Social harm\"])]\n",
    "Tobacco = drugs.loc[drugs[\"Drug\"]==\"Tobacco\", drugs.columns.isin([\"MeanNA=0 Physical harm\", \"Mean Dependence\", \"Mean Social harm\"])]\n",
    "\n",
    "\n",
    "data = [\n",
    "    go.Scatterpolar(\n",
    "      r = heroin.values.ravel(),\n",
    "      theta = heroin.columns.values,\n",
    "      fill = 'toself',\n",
    "      name = \"Heroin\",\n",
    "    ),\n",
    "    go.Scatterpolar(\n",
    "      r = alcohol.values.ravel(),\n",
    "      theta = alcohol.columns.values,\n",
    "      fill = 'toself',\n",
    "      name = \"Alcohol\"\n",
    "    ),\n",
    "    go.Scatterpolar(\n",
    "      r = LSD.values.ravel(),\n",
    "      theta = LSD.columns.values,\n",
    "      fill = 'toself',\n",
    "      name = \"LSD\"\n",
    "    ),\n",
    "    go.Scatterpolar(\n",
    "      r = Ecstasy.values.ravel(),\n",
    "      theta = Ecstasy.columns.values,\n",
    "      fill = 'toself',\n",
    "      name = \"Ecstasy\"\n",
    "    ),\n",
    "    go.Scatterpolar(\n",
    "      r = Cocaine.values.ravel(),\n",
    "      theta = Cocaine.columns.values,\n",
    "      fill = 'toself',\n",
    "      name = \"Cocaine\"\n",
    "    )\n",
    "]\n",
    "\n",
    "layout = go.Layout(\n",
    "  polar = dict(\n",
    "    radialaxis = dict(\n",
    "      visible = True,\n",
    "      range = [0, 5]\n",
    "    )\n",
    "  ),\n",
    "  showlegend = False\n",
    ")\n",
    "\n",
    "fig = go.Figure(data=data, layout=layout)\n",
    "iplot(fig)"
   ]
  },
  {
   "cell_type": "code",
   "execution_count": 13,
   "metadata": {},
   "outputs": [
    {
     "data": {
      "application/vnd.plotly.v1+json": {
       "config": {
        "linkText": "Export to plot.ly",
        "plotlyServerURL": "https://plot.ly",
        "showLink": false
       },
       "data": [
        {
         "fill": "toself",
         "name": "Cocaine",
         "r": [
          2.33,
          2.39,
          2.17
         ],
         "theta": [
          "MeanNA=0 Physical harm",
          "Mean Dependence",
          "Mean Social harm"
         ],
         "type": "scatterpolar",
         "uid": "155836f4-c97d-43cf-82d7-1d1c24b381b9"
        },
        {
         "fill": "toself",
         "name": "Tobacco",
         "r": [
          1.24,
          2.21,
          1.42
         ],
         "theta": [
          "MeanNA=0 Physical harm",
          "Mean Dependence",
          "Mean Social harm"
         ],
         "type": "scatterpolar",
         "uid": "755b9462-4728-44bb-a526-dc9bcacd3f31"
        },
        {
         "fill": "toself",
         "name": "Alcohol",
         "r": [
          1.4,
          1.93,
          2.21
         ],
         "theta": [
          "MeanNA=0 Physical harm",
          "Mean Dependence",
          "Mean Social harm"
         ],
         "type": "scatterpolar",
         "uid": "a4e1e990-7cb7-49f6-9fdf-bbd9a51c6091"
        }
       ],
       "layout": {
        "polar": {
         "radialaxis": {
          "range": [
           0,
           5
          ],
          "visible": true
         }
        },
        "showlegend": false
       }
      },
      "text/html": [
       "<div id=\"c8ae9406-ddd2-4e75-9514-22af894db34c\" style=\"height: 525px; width: 100%;\" class=\"plotly-graph-div\"></div><script type=\"text/javascript\">require([\"plotly\"], function(Plotly) { window.PLOTLYENV=window.PLOTLYENV || {};window.PLOTLYENV.BASE_URL=\"https://plot.ly\";Plotly.newPlot(\"c8ae9406-ddd2-4e75-9514-22af894db34c\", [{\"fill\": \"toself\", \"name\": \"Cocaine\", \"r\": [2.33, 2.39, 2.17], \"theta\": [\"MeanNA=0 Physical harm\", \"Mean Dependence\", \"Mean Social harm\"], \"type\": \"scatterpolar\", \"uid\": \"155836f4-c97d-43cf-82d7-1d1c24b381b9\"}, {\"fill\": \"toself\", \"name\": \"Tobacco\", \"r\": [1.24, 2.21, 1.42], \"theta\": [\"MeanNA=0 Physical harm\", \"Mean Dependence\", \"Mean Social harm\"], \"type\": \"scatterpolar\", \"uid\": \"755b9462-4728-44bb-a526-dc9bcacd3f31\"}, {\"fill\": \"toself\", \"name\": \"Alcohol\", \"r\": [1.4, 1.93, 2.21], \"theta\": [\"MeanNA=0 Physical harm\", \"Mean Dependence\", \"Mean Social harm\"], \"type\": \"scatterpolar\", \"uid\": \"a4e1e990-7cb7-49f6-9fdf-bbd9a51c6091\"}], {\"polar\": {\"radialaxis\": {\"range\": [0, 5], \"visible\": true}}, \"showlegend\": false}, {\"showLink\": false, \"linkText\": \"Export to plot.ly\", \"plotlyServerURL\": \"https://plot.ly\"})});</script><script type=\"text/javascript\">window.addEventListener(\"resize\", function(){window._Plotly.Plots.resize(document.getElementById(\"c8ae9406-ddd2-4e75-9514-22af894db34c\"));});</script>"
      ],
      "text/vnd.plotly.v1+html": [
       "<div id=\"c8ae9406-ddd2-4e75-9514-22af894db34c\" style=\"height: 525px; width: 100%;\" class=\"plotly-graph-div\"></div><script type=\"text/javascript\">require([\"plotly\"], function(Plotly) { window.PLOTLYENV=window.PLOTLYENV || {};window.PLOTLYENV.BASE_URL=\"https://plot.ly\";Plotly.newPlot(\"c8ae9406-ddd2-4e75-9514-22af894db34c\", [{\"fill\": \"toself\", \"name\": \"Cocaine\", \"r\": [2.33, 2.39, 2.17], \"theta\": [\"MeanNA=0 Physical harm\", \"Mean Dependence\", \"Mean Social harm\"], \"type\": \"scatterpolar\", \"uid\": \"155836f4-c97d-43cf-82d7-1d1c24b381b9\"}, {\"fill\": \"toself\", \"name\": \"Tobacco\", \"r\": [1.24, 2.21, 1.42], \"theta\": [\"MeanNA=0 Physical harm\", \"Mean Dependence\", \"Mean Social harm\"], \"type\": \"scatterpolar\", \"uid\": \"755b9462-4728-44bb-a526-dc9bcacd3f31\"}, {\"fill\": \"toself\", \"name\": \"Alcohol\", \"r\": [1.4, 1.93, 2.21], \"theta\": [\"MeanNA=0 Physical harm\", \"Mean Dependence\", \"Mean Social harm\"], \"type\": \"scatterpolar\", \"uid\": \"a4e1e990-7cb7-49f6-9fdf-bbd9a51c6091\"}], {\"polar\": {\"radialaxis\": {\"range\": [0, 5], \"visible\": true}}, \"showlegend\": false}, {\"showLink\": false, \"linkText\": \"Export to plot.ly\", \"plotlyServerURL\": \"https://plot.ly\"})});</script><script type=\"text/javascript\">window.addEventListener(\"resize\", function(){window._Plotly.Plots.resize(document.getElementById(\"c8ae9406-ddd2-4e75-9514-22af894db34c\"));});</script>"
      ]
     },
     "metadata": {},
     "output_type": "display_data"
    }
   ],
   "source": [
    "heroin = drugs.loc[drugs[\"Drug\"]==\"Heroin\", drugs.columns.isin([\"MeanNA=0 Physical harm\", \"Mean Dependence\", \"Mean Social harm\"])]\n",
    "alcohol = drugs.loc[drugs[\"Drug\"]==\"Alcohol\", drugs.columns.isin([\"MeanNA=0 Physical harm\", \"Mean Dependence\", \"Mean Social harm\"])]\n",
    "LSD = drugs.loc[drugs[\"Drug\"]==\"LSD\", drugs.columns.isin([\"MeanNA=0 Physical harm\", \"Mean Dependence\", \"Mean Social harm\"])]\n",
    "Ecstasy = drugs.loc[drugs[\"Drug\"]==\"Ecstasy\", drugs.columns.isin([\"MeanNA=0 Physical harm\", \"Mean Dependence\", \"Mean Social harm\"])]\n",
    "Cocaine = drugs.loc[drugs[\"Drug\"]==\"Cocaine\", drugs.columns.isin([\"MeanNA=0 Physical harm\", \"Mean Dependence\", \"Mean Social harm\"])]\n",
    "Tobacco = drugs.loc[drugs[\"Drug\"]==\"Tobacco\", drugs.columns.isin([\"MeanNA=0 Physical harm\", \"Mean Dependence\", \"Mean Social harm\"])]\n",
    "\n",
    "\n",
    "data = [\n",
    "    go.Scatterpolar(\n",
    "      r = Cocaine.values.ravel(),\n",
    "      theta = Cocaine.columns.values,\n",
    "      fill = 'toself',\n",
    "      name = \"Cocaine\"\n",
    "    ),\n",
    "    go.Scatterpolar(\n",
    "      r = Tobacco.values.ravel(),\n",
    "      theta = Tobacco.columns.values,\n",
    "      fill = 'toself',\n",
    "      name = \"Tobacco\",\n",
    "    ),\n",
    "        go.Scatterpolar(\n",
    "      r = alcohol.values.ravel(),\n",
    "      theta = alcohol.columns.values,\n",
    "      fill = 'toself',\n",
    "      name = \"Alcohol\"\n",
    "    )\n",
    "]\n",
    "\n",
    "layout = go.Layout(\n",
    "  polar = dict(\n",
    "    radialaxis = dict(\n",
    "      visible = True,\n",
    "      range = [0, 5]\n",
    "    )\n",
    "  ),\n",
    "  showlegend = False\n",
    ")\n",
    "\n",
    "fig = go.Figure(data=data, layout=layout)\n",
    "iplot(fig)"
   ]
  },
  {
   "cell_type": "code",
   "execution_count": 15,
   "metadata": {},
   "outputs": [],
   "source": [
    "schedule = [\"Schedule I\",\"Schedule II\", \"Schedule III\", \"Schedule IV\", \"Schedule V\", \"Unscheduled\"]"
   ]
  },
  {
   "cell_type": "code",
   "execution_count": 16,
   "metadata": {},
   "outputs": [],
   "source": [
    "scheduleindex = [0,1,2,5,5,0,2,1,3,0,2,0,5,0,1,0,0,2,0,5]"
   ]
  },
  {
   "cell_type": "code",
   "execution_count": 17,
   "metadata": {},
   "outputs": [],
   "source": [
    "schedule_dic =  {v: k for v, k in enumerate(schedule)}"
   ]
  },
  {
   "cell_type": "code",
   "execution_count": 18,
   "metadata": {},
   "outputs": [],
   "source": [
    "drugs[\"Schedule\"] = list(map(schedule_dic.get, scheduleindex))"
   ]
  },
  {
   "cell_type": "code",
   "execution_count": 19,
   "metadata": {},
   "outputs": [],
   "source": [
    "schedule2color = dict(zip(schedule, [\"red\", \"orange\", \"yellow\", \"green\", \"blue\", \"pink\"]))"
   ]
  },
  {
   "cell_type": "code",
   "execution_count": 20,
   "metadata": {},
   "outputs": [
    {
     "data": {
      "application/vnd.plotly.v1+json": {
       "config": {
        "linkText": "Export to plot.ly",
        "plotlyServerURL": "https://plot.ly",
        "showLink": false
       },
       "data": [
        {
         "marker": {
          "color": [
           "red",
           "red",
           "red",
           "red",
           "red",
           "red",
           "red",
           "red"
          ],
          "size": [
           50.8,
           37.400000000000006,
           21.200000000000003,
           30,
           21.8,
           26,
           26.400000000000002,
           17
          ]
         },
         "mode": "markers",
         "name": "Schedule I",
         "text": [
          "Heroin",
          "Street methadone",
          "4-MTA",
          "Cannabis",
          "Ecstasy",
          "GHB",
          "LSD",
          "Khat"
         ],
         "type": "scatter",
         "uid": "fdc30c8e-6dfa-46eb-b554-8b7ecd65fa3a",
         "x": [
          3,
          2.08,
          1.3,
          1.51,
          1.13,
          1.19,
          1.23,
          1.04
         ],
         "y": [
          2.78,
          1.86,
          2.15,
          1.5,
          1.6,
          1.3,
          1.13,
          0.75
         ]
        },
        {
         "marker": {
          "color": [
           "orange",
           "orange",
           "orange"
          ],
          "size": [
           21.7,
           15,
           9.7
          ]
         },
         "mode": "markers",
         "name": "Schedule II",
         "text": [
          "Cocaine",
          "Amphetamine",
          "Methylphenidate"
         ],
         "type": "scatter",
         "uid": "0f1da2e6-30af-4386-98ff-0ef5554ae45f",
         "x": [
          2.39,
          1.67,
          1.25
         ],
         "y": [
          2.33,
          1.81,
          1.32
         ]
        },
        {
         "marker": {
          "color": [
           "yellow",
           "yellow",
           "yellow",
           "yellow"
          ],
          "size": [
           20,
           16.9,
           14.9,
           11.299999999999999
          ]
         },
         "mode": "markers",
         "name": "Schedule III",
         "text": [
          "Barbiturates",
          "Ketamine",
          "Buprenorphine",
          "Anabolic steroids"
         ],
         "type": "scatter",
         "uid": "968e45ee-4fd4-49a3-8961-539cb1936798",
         "x": [
          2.01,
          1.54,
          1.64,
          0.88
         ],
         "y": [
          2.23,
          2,
          1.6,
          1.45
         ]
        },
        {
         "marker": {
          "color": [
           "green"
          ],
          "size": [
           16.5
          ]
         },
         "mode": "markers",
         "name": "Schedule IV",
         "text": [
          "Benzodiazepines"
         ],
         "type": "scatter",
         "uid": "bb3b5ec7-ae35-4ebb-ae79-71a7faa0893b",
         "x": [
          1.83
         ],
         "y": [
          1.63
         ]
        },
        {
         "marker": {
          "color": [],
          "size": []
         },
         "mode": "markers",
         "name": "Schedule V",
         "text": [],
         "type": "scatter",
         "uid": "b4e135af-912c-4d05-b097-48712edac054",
         "x": [],
         "y": []
        },
        {
         "marker": {
          "color": [
           "pink",
           "pink",
           "pink",
           "pink"
          ],
          "size": [
           14.2,
           22.1,
           15.2,
           9.7
          ]
         },
         "mode": "markers",
         "name": "Unscheduled",
         "text": [
          "Tobacco",
          "Alcohol",
          "Solvents",
          "Alkyl nitrites"
         ],
         "type": "scatter",
         "uid": "061ca998-a7d9-4d30-8842-194737f84a23",
         "x": [
          2.21,
          1.93,
          1.01,
          0.87
         ],
         "y": [
          1.9,
          2.15,
          1.9,
          0.93
         ]
        }
       ],
       "layout": {
        "showlegend": true,
        "title": {
         "text": "Bubble Map of each Drug"
        },
        "xaxis": {
         "rangemode": "tozero",
         "title": {
          "text": "Mean Dependence"
         }
        },
        "yaxis": {
         "rangemode": "tozero",
         "title": {
          "text": "Mean Physical Harm"
         }
        }
       }
      },
      "text/html": [
       "<div id=\"225ba92f-e289-4b26-9d08-986da63cc888\" style=\"height: 525px; width: 100%;\" class=\"plotly-graph-div\"></div><script type=\"text/javascript\">require([\"plotly\"], function(Plotly) { window.PLOTLYENV=window.PLOTLYENV || {};window.PLOTLYENV.BASE_URL=\"https://plot.ly\";Plotly.newPlot(\"225ba92f-e289-4b26-9d08-986da63cc888\", [{\"marker\": {\"color\": [\"red\", \"red\", \"red\", \"red\", \"red\", \"red\", \"red\", \"red\"], \"size\": [50.8, 37.400000000000006, 21.200000000000003, 30.0, 21.8, 26.0, 26.400000000000002, 17.0]}, \"mode\": \"markers\", \"name\": \"Schedule I\", \"text\": [\"Heroin\", \"Street methadone\", \"4-MTA\", \"Cannabis\", \"Ecstasy\", \"GHB\", \"LSD\", \"Khat\"], \"x\": [3.0, 2.08, 1.3, 1.51, 1.13, 1.19, 1.23, 1.04], \"y\": [2.78, 1.86, 2.15, 1.5, 1.6, 1.3, 1.13, 0.75], \"type\": \"scatter\", \"uid\": \"fdc30c8e-6dfa-46eb-b554-8b7ecd65fa3a\"}, {\"marker\": {\"color\": [\"orange\", \"orange\", \"orange\"], \"size\": [21.7, 15.0, 9.7]}, \"mode\": \"markers\", \"name\": \"Schedule II\", \"text\": [\"Cocaine\", \"Amphetamine\", \"Methylphenidate\"], \"x\": [2.39, 1.67, 1.25], \"y\": [2.33, 1.81, 1.32], \"type\": \"scatter\", \"uid\": \"0f1da2e6-30af-4386-98ff-0ef5554ae45f\"}, {\"marker\": {\"color\": [\"yellow\", \"yellow\", \"yellow\", \"yellow\"], \"size\": [20.0, 16.9, 14.9, 11.299999999999999]}, \"mode\": \"markers\", \"name\": \"Schedule III\", \"text\": [\"Barbiturates\", \"Ketamine\", \"Buprenorphine\", \"Anabolic steroids\"], \"x\": [2.01, 1.54, 1.64, 0.88], \"y\": [2.23, 2.0, 1.6, 1.45], \"type\": \"scatter\", \"uid\": \"968e45ee-4fd4-49a3-8961-539cb1936798\"}, {\"marker\": {\"color\": [\"green\"], \"size\": [16.5]}, \"mode\": \"markers\", \"name\": \"Schedule IV\", \"text\": [\"Benzodiazepines\"], \"x\": [1.83], \"y\": [1.63], \"type\": \"scatter\", \"uid\": \"bb3b5ec7-ae35-4ebb-ae79-71a7faa0893b\"}, {\"marker\": {\"color\": [], \"size\": []}, \"mode\": \"markers\", \"name\": \"Schedule V\", \"text\": [], \"x\": [], \"y\": [], \"type\": \"scatter\", \"uid\": \"b4e135af-912c-4d05-b097-48712edac054\"}, {\"marker\": {\"color\": [\"pink\", \"pink\", \"pink\", \"pink\"], \"size\": [14.2, 22.1, 15.2, 9.7]}, \"mode\": \"markers\", \"name\": \"Unscheduled\", \"text\": [\"Tobacco\", \"Alcohol\", \"Solvents\", \"Alkyl nitrites\"], \"x\": [2.21, 1.93, 1.01, 0.87], \"y\": [1.9, 2.15, 1.9, 0.93], \"type\": \"scatter\", \"uid\": \"061ca998-a7d9-4d30-8842-194737f84a23\"}], {\"showlegend\": true, \"title\": {\"text\": \"Bubble Map of each Drug\"}, \"xaxis\": {\"rangemode\": \"tozero\", \"title\": {\"text\": \"Mean Dependence\"}}, \"yaxis\": {\"rangemode\": \"tozero\", \"title\": {\"text\": \"Mean Physical Harm\"}}}, {\"showLink\": false, \"linkText\": \"Export to plot.ly\", \"plotlyServerURL\": \"https://plot.ly\"})});</script><script type=\"text/javascript\">window.addEventListener(\"resize\", function(){window._Plotly.Plots.resize(document.getElementById(\"225ba92f-e289-4b26-9d08-986da63cc888\"));});</script>"
      ],
      "text/vnd.plotly.v1+html": [
       "<div id=\"225ba92f-e289-4b26-9d08-986da63cc888\" style=\"height: 525px; width: 100%;\" class=\"plotly-graph-div\"></div><script type=\"text/javascript\">require([\"plotly\"], function(Plotly) { window.PLOTLYENV=window.PLOTLYENV || {};window.PLOTLYENV.BASE_URL=\"https://plot.ly\";Plotly.newPlot(\"225ba92f-e289-4b26-9d08-986da63cc888\", [{\"marker\": {\"color\": [\"red\", \"red\", \"red\", \"red\", \"red\", \"red\", \"red\", \"red\"], \"size\": [50.8, 37.400000000000006, 21.200000000000003, 30.0, 21.8, 26.0, 26.400000000000002, 17.0]}, \"mode\": \"markers\", \"name\": \"Schedule I\", \"text\": [\"Heroin\", \"Street methadone\", \"4-MTA\", \"Cannabis\", \"Ecstasy\", \"GHB\", \"LSD\", \"Khat\"], \"x\": [3.0, 2.08, 1.3, 1.51, 1.13, 1.19, 1.23, 1.04], \"y\": [2.78, 1.86, 2.15, 1.5, 1.6, 1.3, 1.13, 0.75], \"type\": \"scatter\", \"uid\": \"fdc30c8e-6dfa-46eb-b554-8b7ecd65fa3a\"}, {\"marker\": {\"color\": [\"orange\", \"orange\", \"orange\"], \"size\": [21.7, 15.0, 9.7]}, \"mode\": \"markers\", \"name\": \"Schedule II\", \"text\": [\"Cocaine\", \"Amphetamine\", \"Methylphenidate\"], \"x\": [2.39, 1.67, 1.25], \"y\": [2.33, 1.81, 1.32], \"type\": \"scatter\", \"uid\": \"0f1da2e6-30af-4386-98ff-0ef5554ae45f\"}, {\"marker\": {\"color\": [\"yellow\", \"yellow\", \"yellow\", \"yellow\"], \"size\": [20.0, 16.9, 14.9, 11.299999999999999]}, \"mode\": \"markers\", \"name\": \"Schedule III\", \"text\": [\"Barbiturates\", \"Ketamine\", \"Buprenorphine\", \"Anabolic steroids\"], \"x\": [2.01, 1.54, 1.64, 0.88], \"y\": [2.23, 2.0, 1.6, 1.45], \"type\": \"scatter\", \"uid\": \"968e45ee-4fd4-49a3-8961-539cb1936798\"}, {\"marker\": {\"color\": [\"green\"], \"size\": [16.5]}, \"mode\": \"markers\", \"name\": \"Schedule IV\", \"text\": [\"Benzodiazepines\"], \"x\": [1.83], \"y\": [1.63], \"type\": \"scatter\", \"uid\": \"bb3b5ec7-ae35-4ebb-ae79-71a7faa0893b\"}, {\"marker\": {\"color\": [], \"size\": []}, \"mode\": \"markers\", \"name\": \"Schedule V\", \"text\": [], \"x\": [], \"y\": [], \"type\": \"scatter\", \"uid\": \"b4e135af-912c-4d05-b097-48712edac054\"}, {\"marker\": {\"color\": [\"pink\", \"pink\", \"pink\", \"pink\"], \"size\": [14.2, 22.1, 15.2, 9.7]}, \"mode\": \"markers\", \"name\": \"Unscheduled\", \"text\": [\"Tobacco\", \"Alcohol\", \"Solvents\", \"Alkyl nitrites\"], \"x\": [2.21, 1.93, 1.01, 0.87], \"y\": [1.9, 2.15, 1.9, 0.93], \"type\": \"scatter\", \"uid\": \"061ca998-a7d9-4d30-8842-194737f84a23\"}], {\"showlegend\": true, \"title\": {\"text\": \"Bubble Map of each Drug\"}, \"xaxis\": {\"rangemode\": \"tozero\", \"title\": {\"text\": \"Mean Dependence\"}}, \"yaxis\": {\"rangemode\": \"tozero\", \"title\": {\"text\": \"Mean Physical Harm\"}}}, {\"showLink\": false, \"linkText\": \"Export to plot.ly\", \"plotlyServerURL\": \"https://plot.ly\"})});</script><script type=\"text/javascript\">window.addEventListener(\"resize\", function(){window._Plotly.Plots.resize(document.getElementById(\"225ba92f-e289-4b26-9d08-986da63cc888\"));});</script>"
      ]
     },
     "metadata": {},
     "output_type": "display_data"
    }
   ],
   "source": [
    "sched1drug = drugs.loc[drugs[\"Schedule\"] == \"Schedule I\",:]\n",
    "sched2drug = drugs.loc[drugs[\"Schedule\"] == \"Schedule II\",:]\n",
    "sched3drug = drugs.loc[drugs[\"Schedule\"] == \"Schedule III\",:]\n",
    "sched4drug = drugs.loc[drugs[\"Schedule\"] == \"Schedule IV\",:]\n",
    "sched5drug = drugs.loc[drugs[\"Schedule\"] == \"Schedule V\",:]\n",
    "schednadrug = drugs.loc[drugs[\"Schedule\"] == \"Unscheduled\",:]\n",
    "\n",
    "\n",
    "trace0 = go.Scatter(x=sched1drug[\"Mean Dependence\"], y = sched1drug[\"Mean Physical harm\"], \n",
    "                  marker = dict(color = list(map(schedule2color.get, sched1drug[\"Schedule\"])),\n",
    "                                size = sched1drug[\"Mean Social harm\"]*20),\n",
    "                  text = sched1drug[\"Drug\"], mode=\"markers\", name = \"Schedule I\")\n",
    "\n",
    "trace1 = go.Scatter(x=sched2drug[\"Mean Dependence\"], y = sched2drug[\"Mean Physical harm\"], \n",
    "                  marker = dict(color = list(map(schedule2color.get, sched2drug[\"Schedule\"])),\n",
    "                                size = sched2drug[\"Mean Social harm\"]*10),\n",
    "                  text = sched2drug[\"Drug\"], mode=\"markers\", name = \"Schedule II\")\n",
    "\n",
    "trace2 = go.Scatter(x=sched3drug[\"Mean Dependence\"], y = sched3drug[\"Mean Physical harm\"], \n",
    "                  marker = dict(color = list(map(schedule2color.get, sched3drug[\"Schedule\"])),\n",
    "                                size = sched3drug[\"Mean Social harm\"]*10),\n",
    "                  text = sched3drug[\"Drug\"], mode=\"markers\", name = \"Schedule III\")\n",
    "\n",
    "trace3 = go.Scatter(x=sched4drug[\"Mean Dependence\"], y = sched4drug[\"Mean Physical harm\"], \n",
    "                  marker = dict(color = list(map(schedule2color.get, sched4drug[\"Schedule\"])),\n",
    "                                size = sched4drug[\"Mean Social harm\"]*10),\n",
    "                  text = sched4drug[\"Drug\"], mode=\"markers\", name = \"Schedule IV\")\n",
    "\n",
    "trace4 = go.Scatter(x=sched5drug[\"Mean Dependence\"], y = sched5drug[\"Mean Physical harm\"], \n",
    "                  marker = dict(color = list(map(schedule2color.get, sched5drug[\"Schedule\"])),\n",
    "                                size = sched5drug[\"Mean Social harm\"]*10),\n",
    "                  text = sched5drug[\"Drug\"], mode=\"markers\", name = \"Schedule V\")\n",
    "\n",
    "trace5 = go.Scatter(x=schednadrug[\"Mean Dependence\"], y = schednadrug[\"Mean Physical harm\"], \n",
    "                  marker = dict(color = list(map(schedule2color.get, schednadrug[\"Schedule\"])),\n",
    "                                size = schednadrug[\"Mean Social harm\"]*10),\n",
    "                  text = schednadrug[\"Drug\"], mode=\"markers\", name = \"Unscheduled\")\n",
    "\n",
    "traces = [trace0,trace1,trace2,trace3,trace4,trace5]\n",
    "\n",
    "xaxis_template = dict(title = \"Mean Dependence\", rangemode = \"tozero\")\n",
    "yaxis_template = dict(title = \"Mean Physical Harm\",  rangemode = \"tozero\")\n",
    "#legend_template = schedule2color\n",
    "\n",
    "layout = go.Layout(title = \"Bubble Map of each Drug\", xaxis=xaxis_template, yaxis=yaxis_template, showlegend=True)\n",
    "fig = go.Figure(data=traces, layout = layout)\n",
    "iplot(fig)"
   ]
  },
  {
   "cell_type": "code",
   "execution_count": 21,
   "metadata": {},
   "outputs": [
    {
     "data": {
      "image/png": "[encoded data removed]",
      "text/plain": [
       "<Figure size 432x288 with 1 Axes>"
      ]
     },
     "metadata": {
      "needs_background": "light"
     },
     "output_type": "display_data"
    }
   ],
   "source": [
    "g = sns.barplot(x= \"Drug\", y = \"Mean Physical harm + Mean Dependence\", data = drugs)\n",
    "for i in g.get_xticklabels():\n",
    "    i.set_rotation(90)\n",
    "g.set_title(\"Addiction Harm per Drug\")\n",
    "plt.show()"
   ]
  },
  {
   "cell_type": "code",
   "execution_count": 22,
   "metadata": {},
   "outputs": [
    {
     "data": {
      "application/vnd.plotly.v1+json": {
       "config": {
        "linkText": "Export to plot.ly",
        "plotlyServerURL": "https://plot.ly",
        "showLink": false
       },
       "data": [
        {
         "marker": {
          "color": [
           "red",
           "red",
           "red",
           "red",
           "red",
           "red",
           "red",
           "red"
          ]
         },
         "name": "Schedule I",
         "type": "bar",
         "uid": "02ac7daf-0dbd-42b6-81f3-9388211a70d0",
         "x": [
          "Heroin",
          "Street methadone",
          "4-MTA",
          "Cannabis",
          "Ecstasy",
          "GHB",
          "LSD",
          "Khat"
         ],
         "y": [
          5.78,
          3.94,
          3.45,
          3.01,
          2.73,
          2.49,
          2.36,
          1.79
         ]
        },
        {
         "marker": {
          "color": [
           "orange",
           "orange",
           "orange"
          ]
         },
         "name": "Schedule II",
         "type": "bar",
         "uid": "938dfe86-9e6d-4be1-a3e0-32a740834856",
         "x": [
          "Cocaine",
          "Amphetamine",
          "Methylphenidate"
         ],
         "y": [
          4.72,
          3.48,
          2.57
         ]
        },
        {
         "marker": {
          "color": [
           "yellow",
           "yellow",
           "yellow",
           "yellow"
          ]
         },
         "name": "Schedule III",
         "type": "bar",
         "uid": "2d742bc5-5d38-41cf-afb7-c2b41681efed",
         "x": [
          "Barbiturates",
          "Ketamine",
          "Buprenorphine",
          "Anabolic steroids"
         ],
         "y": [
          4.24,
          3.54,
          3.24,
          2.33
         ]
        },
        {
         "marker": {
          "color": [
           "green"
          ]
         },
         "name": "Schedule IV",
         "type": "bar",
         "uid": "f3035a70-bf85-4774-82b3-d960fe6eda63",
         "x": [
          "Benzodiazepines"
         ],
         "y": [
          3.46
         ]
        },
        {
         "marker": {
          "color": []
         },
         "name": "Schedule V",
         "type": "bar",
         "uid": "d79fee6f-b11e-43b6-b1bf-f55462018051",
         "x": [],
         "y": []
        },
        {
         "marker": {
          "color": [
           "pink",
           "pink",
           "pink",
           "pink"
          ]
         },
         "name": "Unscheduled",
         "type": "bar",
         "uid": "8211ce5e-ca2f-4a32-a27d-bbf7cce39864",
         "x": [
          "Tobacco",
          "Alcohol",
          "Solvents",
          "Alkyl nitrites"
         ],
         "y": [
          4.11,
          4.08,
          2.91,
          1.77
         ]
        }
       ],
       "layout": {
        "showlegend": true,
        "title": {
         "text": "Bubble Map of each Drug"
        },
        "xaxis": {
         "rangemode": "tozero",
         "title": {
          "text": "Mean Dependence"
         }
        },
        "yaxis": {
         "rangemode": "tozero",
         "title": {
          "text": "Mean Physical Harm"
         }
        }
       }
      },
      "text/html": [
       "<div id=\"ea580f54-fad2-49f6-b0a7-f4894f6aa6b1\" style=\"height: 525px; width: 100%;\" class=\"plotly-graph-div\"></div><script type=\"text/javascript\">require([\"plotly\"], function(Plotly) { window.PLOTLYENV=window.PLOTLYENV || {};window.PLOTLYENV.BASE_URL=\"https://plot.ly\";Plotly.newPlot(\"ea580f54-fad2-49f6-b0a7-f4894f6aa6b1\", [{\"marker\": {\"color\": [\"red\", \"red\", \"red\", \"red\", \"red\", \"red\", \"red\", \"red\"]}, \"name\": \"Schedule I\", \"x\": [\"Heroin\", \"Street methadone\", \"4-MTA\", \"Cannabis\", \"Ecstasy\", \"GHB\", \"LSD\", \"Khat\"], \"y\": [5.78, 3.94, 3.45, 3.01, 2.73, 2.49, 2.36, 1.79], \"type\": \"bar\", \"uid\": \"02ac7daf-0dbd-42b6-81f3-9388211a70d0\"}, {\"marker\": {\"color\": [\"orange\", \"orange\", \"orange\"]}, \"name\": \"Schedule II\", \"x\": [\"Cocaine\", \"Amphetamine\", \"Methylphenidate\"], \"y\": [4.72, 3.48, 2.57], \"type\": \"bar\", \"uid\": \"938dfe86-9e6d-4be1-a3e0-32a740834856\"}, {\"marker\": {\"color\": [\"yellow\", \"yellow\", \"yellow\", \"yellow\"]}, \"name\": \"Schedule III\", \"x\": [\"Barbiturates\", \"Ketamine\", \"Buprenorphine\", \"Anabolic steroids\"], \"y\": [4.24, 3.54, 3.24, 2.33], \"type\": \"bar\", \"uid\": \"2d742bc5-5d38-41cf-afb7-c2b41681efed\"}, {\"marker\": {\"color\": [\"green\"]}, \"name\": \"Schedule IV\", \"x\": [\"Benzodiazepines\"], \"y\": [3.46], \"type\": \"bar\", \"uid\": \"f3035a70-bf85-4774-82b3-d960fe6eda63\"}, {\"marker\": {\"color\": []}, \"name\": \"Schedule V\", \"x\": [], \"y\": [], \"type\": \"bar\", \"uid\": \"d79fee6f-b11e-43b6-b1bf-f55462018051\"}, {\"marker\": {\"color\": [\"pink\", \"pink\", \"pink\", \"pink\"]}, \"name\": \"Unscheduled\", \"x\": [\"Tobacco\", \"Alcohol\", \"Solvents\", \"Alkyl nitrites\"], \"y\": [4.11, 4.08, 2.91, 1.77], \"type\": \"bar\", \"uid\": \"8211ce5e-ca2f-4a32-a27d-bbf7cce39864\"}], {\"showlegend\": true, \"title\": {\"text\": \"Bubble Map of each Drug\"}, \"xaxis\": {\"rangemode\": \"tozero\", \"title\": {\"text\": \"Mean Dependence\"}}, \"yaxis\": {\"rangemode\": \"tozero\", \"title\": {\"text\": \"Mean Physical Harm\"}}}, {\"showLink\": false, \"linkText\": \"Export to plot.ly\", \"plotlyServerURL\": \"https://plot.ly\"})});</script><script type=\"text/javascript\">window.addEventListener(\"resize\", function(){window._Plotly.Plots.resize(document.getElementById(\"ea580f54-fad2-49f6-b0a7-f4894f6aa6b1\"));});</script>"
      ],
      "text/vnd.plotly.v1+html": [
       "<div id=\"ea580f54-fad2-49f6-b0a7-f4894f6aa6b1\" style=\"height: 525px; width: 100%;\" class=\"plotly-graph-div\"></div><script type=\"text/javascript\">require([\"plotly\"], function(Plotly) { window.PLOTLYENV=window.PLOTLYENV || {};window.PLOTLYENV.BASE_URL=\"https://plot.ly\";Plotly.newPlot(\"ea580f54-fad2-49f6-b0a7-f4894f6aa6b1\", [{\"marker\": {\"color\": [\"red\", \"red\", \"red\", \"red\", \"red\", \"red\", \"red\", \"red\"]}, \"name\": \"Schedule I\", \"x\": [\"Heroin\", \"Street methadone\", \"4-MTA\", \"Cannabis\", \"Ecstasy\", \"GHB\", \"LSD\", \"Khat\"], \"y\": [5.78, 3.94, 3.45, 3.01, 2.73, 2.49, 2.36, 1.79], \"type\": \"bar\", \"uid\": \"02ac7daf-0dbd-42b6-81f3-9388211a70d0\"}, {\"marker\": {\"color\": [\"orange\", \"orange\", \"orange\"]}, \"name\": \"Schedule II\", \"x\": [\"Cocaine\", \"Amphetamine\", \"Methylphenidate\"], \"y\": [4.72, 3.48, 2.57], \"type\": \"bar\", \"uid\": \"938dfe86-9e6d-4be1-a3e0-32a740834856\"}, {\"marker\": {\"color\": [\"yellow\", \"yellow\", \"yellow\", \"yellow\"]}, \"name\": \"Schedule III\", \"x\": [\"Barbiturates\", \"Ketamine\", \"Buprenorphine\", \"Anabolic steroids\"], \"y\": [4.24, 3.54, 3.24, 2.33], \"type\": \"bar\", \"uid\": \"2d742bc5-5d38-41cf-afb7-c2b41681efed\"}, {\"marker\": {\"color\": [\"green\"]}, \"name\": \"Schedule IV\", \"x\": [\"Benzodiazepines\"], \"y\": [3.46], \"type\": \"bar\", \"uid\": \"f3035a70-bf85-4774-82b3-d960fe6eda63\"}, {\"marker\": {\"color\": []}, \"name\": \"Schedule V\", \"x\": [], \"y\": [], \"type\": \"bar\", \"uid\": \"d79fee6f-b11e-43b6-b1bf-f55462018051\"}, {\"marker\": {\"color\": [\"pink\", \"pink\", \"pink\", \"pink\"]}, \"name\": \"Unscheduled\", \"x\": [\"Tobacco\", \"Alcohol\", \"Solvents\", \"Alkyl nitrites\"], \"y\": [4.11, 4.08, 2.91, 1.77], \"type\": \"bar\", \"uid\": \"8211ce5e-ca2f-4a32-a27d-bbf7cce39864\"}], {\"showlegend\": true, \"title\": {\"text\": \"Bubble Map of each Drug\"}, \"xaxis\": {\"rangemode\": \"tozero\", \"title\": {\"text\": \"Mean Dependence\"}}, \"yaxis\": {\"rangemode\": \"tozero\", \"title\": {\"text\": \"Mean Physical Harm\"}}}, {\"showLink\": false, \"linkText\": \"Export to plot.ly\", \"plotlyServerURL\": \"https://plot.ly\"})});</script><script type=\"text/javascript\">window.addEventListener(\"resize\", function(){window._Plotly.Plots.resize(document.getElementById(\"ea580f54-fad2-49f6-b0a7-f4894f6aa6b1\"));});</script>"
      ]
     },
     "metadata": {},
     "output_type": "display_data"
    }
   ],
   "source": [
    "trace0 = go.Bar(y=sched1drug[\"Mean Physical harm + Mean Dependence\"], x = sched1drug[\"Drug\"], name = \"Schedule I\",\n",
    "                marker = dict(color = list(map(schedule2color.get, sched1drug[\"Schedule\"]))))\n",
    "\n",
    "trace1 = go.Bar(y=sched2drug[\"Mean Physical harm + Mean Dependence\"], x = sched2drug[\"Drug\"], name = \"Schedule II\",\n",
    "                               marker = dict(color = list(map(schedule2color.get, sched2drug[\"Schedule\"]))))\n",
    "\n",
    "trace2 = go.Bar(y=sched3drug[\"Mean Physical harm + Mean Dependence\"], x = sched3drug[\"Drug\"], name = \"Schedule III\",\n",
    "                                marker = dict(color = list(map(schedule2color.get, sched3drug[\"Schedule\"]))))\n",
    "\n",
    "\n",
    "trace3 = go.Bar(y=sched4drug[\"Mean Physical harm + Mean Dependence\"], x = sched4drug[\"Drug\"], name = \"Schedule IV\",\n",
    "                                marker = dict(color = list(map(schedule2color.get, sched4drug[\"Schedule\"]))))\n",
    "\n",
    "\n",
    "trace4 = go.Bar(y=sched5drug[\"Mean Physical harm + Mean Dependence\"], x = sched5drug[\"Drug\"], name = \"Schedule V\",\n",
    "                                marker = dict(color = list(map(schedule2color.get, sched5drug[\"Schedule\"]))))\n",
    "\n",
    "\n",
    "trace5 = go.Bar(y=schednadrug[\"Mean Physical harm + Mean Dependence\"], x = schednadrug[\"Drug\"], name = \"Unscheduled\",\n",
    "                                marker = dict(color = list(map(schedule2color.get, schednadrug[\"Schedule\"]))))\n",
    "\n",
    "\n",
    "\n",
    "traces = [trace0,trace1,trace2,trace3,trace4,trace5]\n",
    "\n",
    "xaxis_template = dict(title = \"Mean Dependence\", rangemode = \"tozero\")\n",
    "yaxis_template = dict(title = \"Mean Physical Harm\",  rangemode = \"tozero\")\n",
    "#legend_template = schedule2color\n",
    "\n",
    "layout = go.Layout(title = \"Bubble Map of each Drug\", xaxis=xaxis_template, yaxis=yaxis_template, showlegend=True)\n",
    "fig = go.Figure(data=traces, layout = layout)\n",
    "iplot(fig)"
   ]
  },
  {
   "cell_type": "code",
   "execution_count": 23,
   "metadata": {},
   "outputs": [
    {
     "data": {
      "application/vnd.plotly.v1+json": {
       "config": {
        "linkText": "Export to plot.ly",
        "plotlyServerURL": "https://plot.ly",
        "showLink": false
       },
       "data": [
        {
         "marker": {
          "color": [
           "red",
           "red",
           "red",
           "red",
           "red",
           "red",
           "red",
           "red"
          ]
         },
         "name": "Schedule I",
         "type": "bar",
         "uid": "fa738cd2-c046-4013-ae48-b5c367ecfc37",
         "x": [
          "Heroin",
          "Street methadone",
          "4-MTA",
          "Cannabis",
          "Ecstasy",
          "GHB",
          "LSD",
          "Khat"
         ],
         "y": [
          5.78,
          3.94,
          3.45,
          3.01,
          2.73,
          2.49,
          2.36,
          1.79
         ]
        },
        {
         "marker": {
          "color": [
           "orange",
           "orange",
           "orange"
          ]
         },
         "name": "Schedule II",
         "type": "bar",
         "uid": "c8825391-33a4-42ae-9647-2a9581dee1fa",
         "x": [
          "Cocaine",
          "Amphetamine",
          "Methylphenidate"
         ],
         "y": [
          4.72,
          3.48,
          2.57
         ]
        },
        {
         "marker": {
          "color": [
           "yellow",
           "yellow",
           "yellow",
           "yellow"
          ]
         },
         "name": "Schedule III",
         "type": "bar",
         "uid": "89d34dfd-d177-46d0-9758-a38759b4eb12",
         "x": [
          "Barbiturates",
          "Ketamine",
          "Buprenorphine",
          "Anabolic steroids"
         ],
         "y": [
          4.24,
          3.54,
          3.24,
          2.33
         ]
        },
        {
         "marker": {
          "color": [
           "green"
          ]
         },
         "name": "Schedule IV",
         "type": "bar",
         "uid": "2a9d1d74-2c46-483c-8482-228cd8d1ceff",
         "x": [
          "Benzodiazepines"
         ],
         "y": [
          3.46
         ]
        },
        {
         "marker": {
          "color": []
         },
         "name": "Schedule V",
         "type": "bar",
         "uid": "59b19af4-fa38-4618-b89b-4348f0087855",
         "x": [],
         "y": []
        },
        {
         "marker": {
          "color": [
           "pink",
           "pink",
           "pink",
           "pink"
          ]
         },
         "name": "Unscheduled",
         "type": "bar",
         "uid": "f0fe6045-1a27-4a17-a1e0-e56e33c9e884",
         "x": [
          "Tobacco",
          "Alcohol",
          "Solvents",
          "Alkyl nitrites"
         ],
         "y": [
          4.11,
          4.08,
          2.91,
          1.77
         ]
        }
       ],
       "layout": {
        "showlegend": true,
        "title": {
         "text": "Dependence and Harm by Schedule of each Drug"
        },
        "xaxis": {
         "categoryarray": [
          "Alkyl nitrites",
          "Khat",
          "Anabolic steroids",
          "LSD",
          "GHB",
          "Methylphenidate",
          "Ecstasy",
          "Solvents",
          "Cannabis",
          "Buprenorphine",
          "4-MTA",
          "Benzodiazepines",
          "Amphetamine",
          "Ketamine",
          "Street methadone",
          "Alcohol",
          "Tobacco",
          "Barbiturates",
          "Cocaine",
          "Heroin"
         ],
         "categoryorder": "array"
        },
        "yaxis": {
         "rangemode": "tozero",
         "title": {
          "text": "Mean Physical Harm + Mean Dependence"
         }
        }
       }
      },
      "text/html": [
       "<div id=\"753df780-2240-4618-85df-f05c66f6570f\" style=\"height: 525px; width: 100%;\" class=\"plotly-graph-div\"></div><script type=\"text/javascript\">require([\"plotly\"], function(Plotly) { window.PLOTLYENV=window.PLOTLYENV || {};window.PLOTLYENV.BASE_URL=\"https://plot.ly\";Plotly.newPlot(\"753df780-2240-4618-85df-f05c66f6570f\", [{\"marker\": {\"color\": [\"red\", \"red\", \"red\", \"red\", \"red\", \"red\", \"red\", \"red\"]}, \"name\": \"Schedule I\", \"x\": [\"Heroin\", \"Street methadone\", \"4-MTA\", \"Cannabis\", \"Ecstasy\", \"GHB\", \"LSD\", \"Khat\"], \"y\": [5.78, 3.94, 3.45, 3.01, 2.73, 2.49, 2.36, 1.79], \"type\": \"bar\", \"uid\": \"fa738cd2-c046-4013-ae48-b5c367ecfc37\"}, {\"marker\": {\"color\": [\"orange\", \"orange\", \"orange\"]}, \"name\": \"Schedule II\", \"x\": [\"Cocaine\", \"Amphetamine\", \"Methylphenidate\"], \"y\": [4.72, 3.48, 2.57], \"type\": \"bar\", \"uid\": \"c8825391-33a4-42ae-9647-2a9581dee1fa\"}, {\"marker\": {\"color\": [\"yellow\", \"yellow\", \"yellow\", \"yellow\"]}, \"name\": \"Schedule III\", \"x\": [\"Barbiturates\", \"Ketamine\", \"Buprenorphine\", \"Anabolic steroids\"], \"y\": [4.24, 3.54, 3.24, 2.33], \"type\": \"bar\", \"uid\": \"89d34dfd-d177-46d0-9758-a38759b4eb12\"}, {\"marker\": {\"color\": [\"green\"]}, \"name\": \"Schedule IV\", \"x\": [\"Benzodiazepines\"], \"y\": [3.46], \"type\": \"bar\", \"uid\": \"2a9d1d74-2c46-483c-8482-228cd8d1ceff\"}, {\"marker\": {\"color\": []}, \"name\": \"Schedule V\", \"x\": [], \"y\": [], \"type\": \"bar\", \"uid\": \"59b19af4-fa38-4618-b89b-4348f0087855\"}, {\"marker\": {\"color\": [\"pink\", \"pink\", \"pink\", \"pink\"]}, \"name\": \"Unscheduled\", \"x\": [\"Tobacco\", \"Alcohol\", \"Solvents\", \"Alkyl nitrites\"], \"y\": [4.11, 4.08, 2.91, 1.77], \"type\": \"bar\", \"uid\": \"f0fe6045-1a27-4a17-a1e0-e56e33c9e884\"}], {\"showlegend\": true, \"title\": {\"text\": \"Dependence and Harm by Schedule of each Drug\"}, \"xaxis\": {\"categoryarray\": [\"Alkyl nitrites\", \"Khat\", \"Anabolic steroids\", \"LSD\", \"GHB\", \"Methylphenidate\", \"Ecstasy\", \"Solvents\", \"Cannabis\", \"Buprenorphine\", \"4-MTA\", \"Benzodiazepines\", \"Amphetamine\", \"Ketamine\", \"Street methadone\", \"Alcohol\", \"Tobacco\", \"Barbiturates\", \"Cocaine\", \"Heroin\"], \"categoryorder\": \"array\"}, \"yaxis\": {\"rangemode\": \"tozero\", \"title\": {\"text\": \"Mean Physical Harm + Mean Dependence\"}}}, {\"showLink\": false, \"linkText\": \"Export to plot.ly\", \"plotlyServerURL\": \"https://plot.ly\"})});</script><script type=\"text/javascript\">window.addEventListener(\"resize\", function(){window._Plotly.Plots.resize(document.getElementById(\"753df780-2240-4618-85df-f05c66f6570f\"));});</script>"
      ],
      "text/vnd.plotly.v1+html": [
       "<div id=\"753df780-2240-4618-85df-f05c66f6570f\" style=\"height: 525px; width: 100%;\" class=\"plotly-graph-div\"></div><script type=\"text/javascript\">require([\"plotly\"], function(Plotly) { window.PLOTLYENV=window.PLOTLYENV || {};window.PLOTLYENV.BASE_URL=\"https://plot.ly\";Plotly.newPlot(\"753df780-2240-4618-85df-f05c66f6570f\", [{\"marker\": {\"color\": [\"red\", \"red\", \"red\", \"red\", \"red\", \"red\", \"red\", \"red\"]}, \"name\": \"Schedule I\", \"x\": [\"Heroin\", \"Street methadone\", \"4-MTA\", \"Cannabis\", \"Ecstasy\", \"GHB\", \"LSD\", \"Khat\"], \"y\": [5.78, 3.94, 3.45, 3.01, 2.73, 2.49, 2.36, 1.79], \"type\": \"bar\", \"uid\": \"fa738cd2-c046-4013-ae48-b5c367ecfc37\"}, {\"marker\": {\"color\": [\"orange\", \"orange\", \"orange\"]}, \"name\": \"Schedule II\", \"x\": [\"Cocaine\", \"Amphetamine\", \"Methylphenidate\"], \"y\": [4.72, 3.48, 2.57], \"type\": \"bar\", \"uid\": \"c8825391-33a4-42ae-9647-2a9581dee1fa\"}, {\"marker\": {\"color\": [\"yellow\", \"yellow\", \"yellow\", \"yellow\"]}, \"name\": \"Schedule III\", \"x\": [\"Barbiturates\", \"Ketamine\", \"Buprenorphine\", \"Anabolic steroids\"], \"y\": [4.24, 3.54, 3.24, 2.33], \"type\": \"bar\", \"uid\": \"89d34dfd-d177-46d0-9758-a38759b4eb12\"}, {\"marker\": {\"color\": [\"green\"]}, \"name\": \"Schedule IV\", \"x\": [\"Benzodiazepines\"], \"y\": [3.46], \"type\": \"bar\", \"uid\": \"2a9d1d74-2c46-483c-8482-228cd8d1ceff\"}, {\"marker\": {\"color\": []}, \"name\": \"Schedule V\", \"x\": [], \"y\": [], \"type\": \"bar\", \"uid\": \"59b19af4-fa38-4618-b89b-4348f0087855\"}, {\"marker\": {\"color\": [\"pink\", \"pink\", \"pink\", \"pink\"]}, \"name\": \"Unscheduled\", \"x\": [\"Tobacco\", \"Alcohol\", \"Solvents\", \"Alkyl nitrites\"], \"y\": [4.11, 4.08, 2.91, 1.77], \"type\": \"bar\", \"uid\": \"f0fe6045-1a27-4a17-a1e0-e56e33c9e884\"}], {\"showlegend\": true, \"title\": {\"text\": \"Dependence and Harm by Schedule of each Drug\"}, \"xaxis\": {\"categoryarray\": [\"Alkyl nitrites\", \"Khat\", \"Anabolic steroids\", \"LSD\", \"GHB\", \"Methylphenidate\", \"Ecstasy\", \"Solvents\", \"Cannabis\", \"Buprenorphine\", \"4-MTA\", \"Benzodiazepines\", \"Amphetamine\", \"Ketamine\", \"Street methadone\", \"Alcohol\", \"Tobacco\", \"Barbiturates\", \"Cocaine\", \"Heroin\"], \"categoryorder\": \"array\"}, \"yaxis\": {\"rangemode\": \"tozero\", \"title\": {\"text\": \"Mean Physical Harm + Mean Dependence\"}}}, {\"showLink\": false, \"linkText\": \"Export to plot.ly\", \"plotlyServerURL\": \"https://plot.ly\"})});</script><script type=\"text/javascript\">window.addEventListener(\"resize\", function(){window._Plotly.Plots.resize(document.getElementById(\"753df780-2240-4618-85df-f05c66f6570f\"));});</script>"
      ]
     },
     "metadata": {},
     "output_type": "display_data"
    }
   ],
   "source": [
    "trace0 = go.Bar(y=sched1drug[\"Mean Physical harm + Mean Dependence\"], x = sched1drug[\"Drug\"], name = \"Schedule I\",\n",
    "                marker = dict(color = list(map(schedule2color.get, sched1drug[\"Schedule\"]))))\n",
    "\n",
    "trace1 = go.Bar(y=sched2drug[\"Mean Physical harm + Mean Dependence\"], x = sched2drug[\"Drug\"], name = \"Schedule II\",\n",
    "                               marker = dict(color = list(map(schedule2color.get, sched2drug[\"Schedule\"]))))\n",
    "\n",
    "trace2 = go.Bar(y=sched3drug[\"Mean Physical harm + Mean Dependence\"], x = sched3drug[\"Drug\"], name = \"Schedule III\",\n",
    "                                marker = dict(color = list(map(schedule2color.get, sched3drug[\"Schedule\"]))))\n",
    "\n",
    "\n",
    "trace3 = go.Bar(y=sched4drug[\"Mean Physical harm + Mean Dependence\"], x = sched4drug[\"Drug\"], name = \"Schedule IV\",\n",
    "                                marker = dict(color = list(map(schedule2color.get, sched4drug[\"Schedule\"]))))\n",
    "\n",
    "\n",
    "trace4 = go.Bar(y=sched5drug[\"Mean Physical harm + Mean Dependence\"], x = sched5drug[\"Drug\"], name = \"Schedule V\",\n",
    "                                marker = dict(color = list(map(schedule2color.get, sched5drug[\"Schedule\"]))))\n",
    "\n",
    "\n",
    "trace5 = go.Bar(y=schednadrug[\"Mean Physical harm + Mean Dependence\"], x = schednadrug[\"Drug\"], name = \"Unscheduled\",\n",
    "                                marker = dict(color = list(map(schedule2color.get, schednadrug[\"Schedule\"]))))\n",
    "\n",
    "\n",
    "\n",
    "traces = [trace0,trace1,trace2,trace3,trace4,trace5]\n",
    "\n",
    "xaxis_template = dict(categoryorder = \"array\",\n",
    "                      categoryarray = [x for _, x in sorted(zip(drugs[\"Mean Physical harm + Mean Dependence\"], drugs[\"Drug\"]))])\n",
    "\n",
    "yaxis_template = dict(title = \"Mean Physical Harm + Mean Dependence\",  rangemode = \"tozero\")\n",
    "#legend_template = schedule2color\n",
    "\n",
    "layout = go.Layout(title = \"Dependence and Harm by Schedule of each Drug\", xaxis=xaxis_template,\n",
    "                   yaxis=yaxis_template, showlegend=True)\n",
    "fig = go.Figure(data=traces, layout = layout)\n",
    "iplot(fig)"
   ]
  },
  {
   "cell_type": "code",
   "execution_count": 24,
   "metadata": {},
   "outputs": [
    {
     "data": {
      "application/vnd.plotly.v1+json": {
       "config": {
        "linkText": "Export to plot.ly",
        "plotlyServerURL": "https://plot.ly",
        "showLink": false
       },
       "data": [
        {
         "marker": {
          "color": [
           "red",
           "red",
           "red",
           "red",
           "red",
           "red",
           "red",
           "red"
          ]
         },
         "name": "Schedule I",
         "type": "bar",
         "uid": "bee688aa-f8f3-4746-9bfd-02d603af824c",
         "x": [
          "Heroin",
          "Street methadone",
          "4-MTA",
          "Cannabis",
          "Ecstasy",
          "GHB",
          "LSD",
          "Khat"
         ],
         "y": [
          5.78,
          3.94,
          3.45,
          3.01,
          2.73,
          2.49,
          2.36,
          1.79
         ]
        },
        {
         "marker": {
          "color": [
           "orange",
           "orange",
           "orange"
          ]
         },
         "name": "Schedule II",
         "type": "bar",
         "uid": "7e44eef0-d9e7-4a9a-9c51-91631a5b9487",
         "x": [
          "Cocaine",
          "Amphetamine",
          "Methylphenidate"
         ],
         "y": [
          4.72,
          3.48,
          2.57
         ]
        },
        {
         "marker": {
          "color": [
           "yellow",
           "yellow",
           "yellow",
           "yellow"
          ]
         },
         "name": "Schedule III",
         "type": "bar",
         "uid": "d7065ebc-cf9c-454f-85d0-06103ce81bbc",
         "x": [
          "Barbiturates",
          "Ketamine",
          "Buprenorphine",
          "Anabolic steroids"
         ],
         "y": [
          4.24,
          3.54,
          3.24,
          2.33
         ]
        },
        {
         "marker": {
          "color": [
           "green"
          ]
         },
         "name": "Schedule IV",
         "type": "bar",
         "uid": "4a3fa501-4972-47e0-a97d-87f839173117",
         "x": [
          "Benzodiazepines"
         ],
         "y": [
          3.46
         ]
        },
        {
         "marker": {
          "color": []
         },
         "name": "Schedule V",
         "type": "bar",
         "uid": "d48fdd20-953a-4e72-a16a-e993ed9ec00b",
         "x": [],
         "y": []
        },
        {
         "marker": {
          "color": [
           "pink",
           "pink",
           "pink",
           "pink"
          ]
         },
         "name": "Unscheduled",
         "type": "bar",
         "uid": "47714f5b-3348-41f9-9e78-6f8551dc62e3",
         "x": [
          "Tobacco",
          "Alcohol",
          "Solvents",
          "Alkyl nitrites"
         ],
         "y": [
          4.11,
          4.08,
          2.91,
          1.77
         ]
        }
       ],
       "layout": {
        "showlegend": true,
        "title": {
         "text": "Dependence and Harm by Schedule of each Drug"
        },
        "xaxis": {
         "categoryarray": [
          "Heroin",
          "Cocaine",
          "Barbiturates",
          "Tobacco",
          "Alcohol",
          "Street methadone",
          "Ketamine",
          "Amphetamine",
          "Benzodiazepines",
          "4-MTA",
          "Buprenorphine",
          "Cannabis",
          "Solvents",
          "Ecstasy",
          "Methylphenidate",
          "GHB",
          "LSD",
          "Anabolic steroids",
          "Khat",
          "Alkyl nitrites"
         ],
         "categoryorder": "array"
        },
        "yaxis": {
         "rangemode": "tozero",
         "title": {
          "text": "Mean Physical Harm + Mean Dependence"
         }
        }
       }
      },
      "text/html": [
       "<div id=\"57081c17-ce86-42eb-b6e8-ee06fc9a9f3a\" style=\"height: 525px; width: 100%;\" class=\"plotly-graph-div\"></div><script type=\"text/javascript\">require([\"plotly\"], function(Plotly) { window.PLOTLYENV=window.PLOTLYENV || {};window.PLOTLYENV.BASE_URL=\"https://plot.ly\";Plotly.newPlot(\"57081c17-ce86-42eb-b6e8-ee06fc9a9f3a\", [{\"marker\": {\"color\": [\"red\", \"red\", \"red\", \"red\", \"red\", \"red\", \"red\", \"red\"]}, \"name\": \"Schedule I\", \"x\": [\"Heroin\", \"Street methadone\", \"4-MTA\", \"Cannabis\", \"Ecstasy\", \"GHB\", \"LSD\", \"Khat\"], \"y\": [5.78, 3.94, 3.45, 3.01, 2.73, 2.49, 2.36, 1.79], \"type\": \"bar\", \"uid\": \"bee688aa-f8f3-4746-9bfd-02d603af824c\"}, {\"marker\": {\"color\": [\"orange\", \"orange\", \"orange\"]}, \"name\": \"Schedule II\", \"x\": [\"Cocaine\", \"Amphetamine\", \"Methylphenidate\"], \"y\": [4.72, 3.48, 2.57], \"type\": \"bar\", \"uid\": \"7e44eef0-d9e7-4a9a-9c51-91631a5b9487\"}, {\"marker\": {\"color\": [\"yellow\", \"yellow\", \"yellow\", \"yellow\"]}, \"name\": \"Schedule III\", \"x\": [\"Barbiturates\", \"Ketamine\", \"Buprenorphine\", \"Anabolic steroids\"], \"y\": [4.24, 3.54, 3.24, 2.33], \"type\": \"bar\", \"uid\": \"d7065ebc-cf9c-454f-85d0-06103ce81bbc\"}, {\"marker\": {\"color\": [\"green\"]}, \"name\": \"Schedule IV\", \"x\": [\"Benzodiazepines\"], \"y\": [3.46], \"type\": \"bar\", \"uid\": \"4a3fa501-4972-47e0-a97d-87f839173117\"}, {\"marker\": {\"color\": []}, \"name\": \"Schedule V\", \"x\": [], \"y\": [], \"type\": \"bar\", \"uid\": \"d48fdd20-953a-4e72-a16a-e993ed9ec00b\"}, {\"marker\": {\"color\": [\"pink\", \"pink\", \"pink\", \"pink\"]}, \"name\": \"Unscheduled\", \"x\": [\"Tobacco\", \"Alcohol\", \"Solvents\", \"Alkyl nitrites\"], \"y\": [4.11, 4.08, 2.91, 1.77], \"type\": \"bar\", \"uid\": \"47714f5b-3348-41f9-9e78-6f8551dc62e3\"}], {\"showlegend\": true, \"title\": {\"text\": \"Dependence and Harm by Schedule of each Drug\"}, \"xaxis\": {\"categoryarray\": [\"Heroin\", \"Cocaine\", \"Barbiturates\", \"Tobacco\", \"Alcohol\", \"Street methadone\", \"Ketamine\", \"Amphetamine\", \"Benzodiazepines\", \"4-MTA\", \"Buprenorphine\", \"Cannabis\", \"Solvents\", \"Ecstasy\", \"Methylphenidate\", \"GHB\", \"LSD\", \"Anabolic steroids\", \"Khat\", \"Alkyl nitrites\"], \"categoryorder\": \"array\"}, \"yaxis\": {\"rangemode\": \"tozero\", \"title\": {\"text\": \"Mean Physical Harm + Mean Dependence\"}}}, {\"showLink\": false, \"linkText\": \"Export to plot.ly\", \"plotlyServerURL\": \"https://plot.ly\"})});</script><script type=\"text/javascript\">window.addEventListener(\"resize\", function(){window._Plotly.Plots.resize(document.getElementById(\"57081c17-ce86-42eb-b6e8-ee06fc9a9f3a\"));});</script>"
      ],
      "text/vnd.plotly.v1+html": [
       "<div id=\"57081c17-ce86-42eb-b6e8-ee06fc9a9f3a\" style=\"height: 525px; width: 100%;\" class=\"plotly-graph-div\"></div><script type=\"text/javascript\">require([\"plotly\"], function(Plotly) { window.PLOTLYENV=window.PLOTLYENV || {};window.PLOTLYENV.BASE_URL=\"https://plot.ly\";Plotly.newPlot(\"57081c17-ce86-42eb-b6e8-ee06fc9a9f3a\", [{\"marker\": {\"color\": [\"red\", \"red\", \"red\", \"red\", \"red\", \"red\", \"red\", \"red\"]}, \"name\": \"Schedule I\", \"x\": [\"Heroin\", \"Street methadone\", \"4-MTA\", \"Cannabis\", \"Ecstasy\", \"GHB\", \"LSD\", \"Khat\"], \"y\": [5.78, 3.94, 3.45, 3.01, 2.73, 2.49, 2.36, 1.79], \"type\": \"bar\", \"uid\": \"bee688aa-f8f3-4746-9bfd-02d603af824c\"}, {\"marker\": {\"color\": [\"orange\", \"orange\", \"orange\"]}, \"name\": \"Schedule II\", \"x\": [\"Cocaine\", \"Amphetamine\", \"Methylphenidate\"], \"y\": [4.72, 3.48, 2.57], \"type\": \"bar\", \"uid\": \"7e44eef0-d9e7-4a9a-9c51-91631a5b9487\"}, {\"marker\": {\"color\": [\"yellow\", \"yellow\", \"yellow\", \"yellow\"]}, \"name\": \"Schedule III\", \"x\": [\"Barbiturates\", \"Ketamine\", \"Buprenorphine\", \"Anabolic steroids\"], \"y\": [4.24, 3.54, 3.24, 2.33], \"type\": \"bar\", \"uid\": \"d7065ebc-cf9c-454f-85d0-06103ce81bbc\"}, {\"marker\": {\"color\": [\"green\"]}, \"name\": \"Schedule IV\", \"x\": [\"Benzodiazepines\"], \"y\": [3.46], \"type\": \"bar\", \"uid\": \"4a3fa501-4972-47e0-a97d-87f839173117\"}, {\"marker\": {\"color\": []}, \"name\": \"Schedule V\", \"x\": [], \"y\": [], \"type\": \"bar\", \"uid\": \"d48fdd20-953a-4e72-a16a-e993ed9ec00b\"}, {\"marker\": {\"color\": [\"pink\", \"pink\", \"pink\", \"pink\"]}, \"name\": \"Unscheduled\", \"x\": [\"Tobacco\", \"Alcohol\", \"Solvents\", \"Alkyl nitrites\"], \"y\": [4.11, 4.08, 2.91, 1.77], \"type\": \"bar\", \"uid\": \"47714f5b-3348-41f9-9e78-6f8551dc62e3\"}], {\"showlegend\": true, \"title\": {\"text\": \"Dependence and Harm by Schedule of each Drug\"}, \"xaxis\": {\"categoryarray\": [\"Heroin\", \"Cocaine\", \"Barbiturates\", \"Tobacco\", \"Alcohol\", \"Street methadone\", \"Ketamine\", \"Amphetamine\", \"Benzodiazepines\", \"4-MTA\", \"Buprenorphine\", \"Cannabis\", \"Solvents\", \"Ecstasy\", \"Methylphenidate\", \"GHB\", \"LSD\", \"Anabolic steroids\", \"Khat\", \"Alkyl nitrites\"], \"categoryorder\": \"array\"}, \"yaxis\": {\"rangemode\": \"tozero\", \"title\": {\"text\": \"Mean Physical Harm + Mean Dependence\"}}}, {\"showLink\": false, \"linkText\": \"Export to plot.ly\", \"plotlyServerURL\": \"https://plot.ly\"})});</script><script type=\"text/javascript\">window.addEventListener(\"resize\", function(){window._Plotly.Plots.resize(document.getElementById(\"57081c17-ce86-42eb-b6e8-ee06fc9a9f3a\"));});</script>"
      ]
     },
     "metadata": {},
     "output_type": "display_data"
    }
   ],
   "source": [
    "trace0 = go.Bar(y=sched1drug[\"Mean Physical harm + Mean Dependence\"], x = sched1drug[\"Drug\"], name = \"Schedule I\",\n",
    "                marker = dict(color = list(map(schedule2color.get, sched1drug[\"Schedule\"]))))\n",
    "\n",
    "trace1 = go.Bar(y=sched2drug[\"Mean Physical harm + Mean Dependence\"], x = sched2drug[\"Drug\"], name = \"Schedule II\",\n",
    "                               marker = dict(color = list(map(schedule2color.get, sched2drug[\"Schedule\"]))))\n",
    "\n",
    "trace2 = go.Bar(y=sched3drug[\"Mean Physical harm + Mean Dependence\"], x = sched3drug[\"Drug\"], name = \"Schedule III\",\n",
    "                                marker = dict(color = list(map(schedule2color.get, sched3drug[\"Schedule\"]))))\n",
    "\n",
    "\n",
    "trace3 = go.Bar(y=sched4drug[\"Mean Physical harm + Mean Dependence\"], x = sched4drug[\"Drug\"], name = \"Schedule IV\",\n",
    "                                marker = dict(color = list(map(schedule2color.get, sched4drug[\"Schedule\"]))))\n",
    "\n",
    "\n",
    "trace4 = go.Bar(y=sched5drug[\"Mean Physical harm + Mean Dependence\"], x = sched5drug[\"Drug\"], name = \"Schedule V\",\n",
    "                                marker = dict(color = list(map(schedule2color.get, sched5drug[\"Schedule\"]))))\n",
    "\n",
    "\n",
    "trace5 = go.Bar(y=schednadrug[\"Mean Physical harm + Mean Dependence\"], x = schednadrug[\"Drug\"], name = \"Unscheduled\",\n",
    "                                marker = dict(color = list(map(schedule2color.get, schednadrug[\"Schedule\"]))))\n",
    "\n",
    "\n",
    "\n",
    "traces = [trace0,trace1,trace2,trace3,trace4,trace5]\n",
    "\n",
    "xaxis_template = dict(categoryorder = \"array\",\n",
    "                      categoryarray = [x for _, x in reversed(sorted(zip(drugs[\"Mean Physical harm + Mean Dependence\"], drugs[\"Drug\"])))])\n",
    "\n",
    "yaxis_template = dict(title = \"Mean Physical Harm + Mean Dependence\",  rangemode = \"tozero\")\n",
    "#legend_template = schedule2color\n",
    "\n",
    "layout = go.Layout(title = \"Dependence and Harm by Schedule of each Drug\", xaxis=xaxis_template,\n",
    "                   yaxis=yaxis_template, showlegend=True)\n",
    "fig = go.Figure(data=traces, layout = layout)\n",
    "iplot(fig)"
   ]
  },
  {
   "cell_type": "code",
   "execution_count": 25,
   "metadata": {},
   "outputs": [
    {
     "data": {
      "application/vnd.plotly.v1+json": {
       "config": {
        "linkText": "Export to plot.ly",
        "plotlyServerURL": "https://plot.ly",
        "showLink": false
       },
       "data": [
        {
         "colorscale": "Viridis",
         "type": "surface",
         "uid": "eb7e94fb-b52e-4601-bac5-a4f42c8bb491",
         "z": [
          [
           2.78,
           2.33,
           2.23,
           1.9,
           2.15,
           1.86,
           2,
           1.81,
           1.63,
           2.15,
           1.6,
           1.5,
           1.9,
           1.6,
           1.32,
           1.3,
           1.13,
           1.45,
           0.75,
           0.93
          ],
          [
           3,
           2.39,
           2.01,
           2.21,
           1.93,
           2.08,
           1.54,
           1.67,
           1.83,
           1.3,
           1.64,
           1.51,
           1.01,
           1.13,
           1.25,
           1.19,
           1.23,
           0.88,
           1.04,
           0.87
          ],
          [
           2.54,
           2.17,
           2,
           1.42,
           2.21,
           1.87,
           1.69,
           1.5,
           1.65,
           1.06,
           1.49,
           1.5,
           1.52,
           1.09,
           0.97,
           1.3,
           1.32,
           1.13,
           0.85,
           0.97
          ]
         ]
        }
       ],
       "layout": {
        "title": {
         "text": "Dependence and Harm by Schedule of each Drug"
        },
        "xaxis": {
         "rangemode": "tozero",
         "title": {
          "text": "x"
         }
        },
        "yaxis": {
         "rangemode": "tozero",
         "title": {
          "text": "y"
         }
        }
       }
      },
      "text/html": [
       "<div id=\"3b19df22-4e9c-45e2-ae7f-c3b39fd1035c\" style=\"height: 525px; width: 100%;\" class=\"plotly-graph-div\"></div><script type=\"text/javascript\">require([\"plotly\"], function(Plotly) { window.PLOTLYENV=window.PLOTLYENV || {};window.PLOTLYENV.BASE_URL=\"https://plot.ly\";Plotly.newPlot(\"3b19df22-4e9c-45e2-ae7f-c3b39fd1035c\", [{\"colorscale\": \"Viridis\", \"z\": [[2.78, 2.33, 2.23, 1.9, 2.15, 1.86, 2.0, 1.81, 1.63, 2.15, 1.6, 1.5, 1.9, 1.6, 1.32, 1.3, 1.13, 1.45, 0.75, 0.93], [3.0, 2.39, 2.01, 2.21, 1.93, 2.08, 1.54, 1.67, 1.83, 1.3, 1.64, 1.51, 1.01, 1.13, 1.25, 1.19, 1.23, 0.88, 1.04, 0.87], [2.54, 2.17, 2.0, 1.42, 2.21, 1.87, 1.69, 1.5, 1.65, 1.06, 1.49, 1.5, 1.52, 1.09, 0.97, 1.3, 1.32, 1.13, 0.85, 0.97]], \"type\": \"surface\", \"uid\": \"eb7e94fb-b52e-4601-bac5-a4f42c8bb491\"}], {\"title\": {\"text\": \"Dependence and Harm by Schedule of each Drug\"}, \"xaxis\": {\"rangemode\": \"tozero\", \"title\": {\"text\": \"x\"}}, \"yaxis\": {\"rangemode\": \"tozero\", \"title\": {\"text\": \"y\"}}}, {\"showLink\": false, \"linkText\": \"Export to plot.ly\", \"plotlyServerURL\": \"https://plot.ly\"})});</script><script type=\"text/javascript\">window.addEventListener(\"resize\", function(){window._Plotly.Plots.resize(document.getElementById(\"3b19df22-4e9c-45e2-ae7f-c3b39fd1035c\"));});</script>"
      ],
      "text/vnd.plotly.v1+html": [
       "<div id=\"3b19df22-4e9c-45e2-ae7f-c3b39fd1035c\" style=\"height: 525px; width: 100%;\" class=\"plotly-graph-div\"></div><script type=\"text/javascript\">require([\"plotly\"], function(Plotly) { window.PLOTLYENV=window.PLOTLYENV || {};window.PLOTLYENV.BASE_URL=\"https://plot.ly\";Plotly.newPlot(\"3b19df22-4e9c-45e2-ae7f-c3b39fd1035c\", [{\"colorscale\": \"Viridis\", \"z\": [[2.78, 2.33, 2.23, 1.9, 2.15, 1.86, 2.0, 1.81, 1.63, 2.15, 1.6, 1.5, 1.9, 1.6, 1.32, 1.3, 1.13, 1.45, 0.75, 0.93], [3.0, 2.39, 2.01, 2.21, 1.93, 2.08, 1.54, 1.67, 1.83, 1.3, 1.64, 1.51, 1.01, 1.13, 1.25, 1.19, 1.23, 0.88, 1.04, 0.87], [2.54, 2.17, 2.0, 1.42, 2.21, 1.87, 1.69, 1.5, 1.65, 1.06, 1.49, 1.5, 1.52, 1.09, 0.97, 1.3, 1.32, 1.13, 0.85, 0.97]], \"type\": \"surface\", \"uid\": \"eb7e94fb-b52e-4601-bac5-a4f42c8bb491\"}], {\"title\": {\"text\": \"Dependence and Harm by Schedule of each Drug\"}, \"xaxis\": {\"rangemode\": \"tozero\", \"title\": {\"text\": \"x\"}}, \"yaxis\": {\"rangemode\": \"tozero\", \"title\": {\"text\": \"y\"}}}, {\"showLink\": false, \"linkText\": \"Export to plot.ly\", \"plotlyServerURL\": \"https://plot.ly\"})});</script><script type=\"text/javascript\">window.addEventListener(\"resize\", function(){window._Plotly.Plots.resize(document.getElementById(\"3b19df22-4e9c-45e2-ae7f-c3b39fd1035c\"));});</script>"
      ]
     },
     "metadata": {},
     "output_type": "display_data"
    }
   ],
   "source": [
    "trace0 = go.Surface(colorscale=\"Viridis\", z=[drugs[\"Mean Physical harm\"], drugs[\"Mean Dependence\"], drugs[\"Mean Social harm\"]])\n",
    "\n",
    "traces = [trace0]\n",
    "\n",
    "xaxis_template = dict(title = \"x\", rangemode = \"tozero\")\n",
    "yaxis_template = dict(title = \"y\",  rangemode = \"tozero\")\n",
    "#legend_template = schedule2color\n",
    "\n",
    "layout = go.Layout(title = \"Dependence and Harm by Schedule of each Drug\", xaxis=xaxis_template,\n",
    "                   yaxis=yaxis_template)\n",
    "fig = go.Figure(data=traces, layout = layout)\n",
    "iplot(fig)"
   ]
  },
  {
   "cell_type": "code",
   "execution_count": 26,
   "metadata": {},
   "outputs": [
    {
     "data": {
      "application/vnd.plotly.v1+json": {
       "config": {
        "linkText": "Export to plot.ly",
        "plotlyServerURL": "https://plot.ly",
        "showLink": false
       },
       "data": [
        {
         "type": "contour",
         "uid": "ff7271d4-5839-488d-a4f7-aedc2a29326a",
         "z": [
          [
           2.78,
           2.33,
           2.23,
           1.9,
           2.15,
           1.86,
           2,
           1.81,
           1.63,
           2.15,
           1.6,
           1.5,
           1.9,
           1.6,
           1.32,
           1.3,
           1.13,
           1.45,
           0.75,
           0.93
          ],
          [
           3,
           2.39,
           2.01,
           2.21,
           1.93,
           2.08,
           1.54,
           1.67,
           1.83,
           1.3,
           1.64,
           1.51,
           1.01,
           1.13,
           1.25,
           1.19,
           1.23,
           0.88,
           1.04,
           0.87
          ],
          [
           2.54,
           2.17,
           2,
           1.42,
           2.21,
           1.87,
           1.69,
           1.5,
           1.65,
           1.06,
           1.49,
           1.5,
           1.52,
           1.09,
           0.97,
           1.3,
           1.32,
           1.13,
           0.85,
           0.97
          ]
         ]
        }
       ],
       "layout": {}
      },
      "text/html": [
       "<div id=\"e226fa89-a069-4a7d-bc1d-e81d45ef7071\" style=\"height: 525px; width: 100%;\" class=\"plotly-graph-div\"></div><script type=\"text/javascript\">require([\"plotly\"], function(Plotly) { window.PLOTLYENV=window.PLOTLYENV || {};window.PLOTLYENV.BASE_URL=\"https://plot.ly\";Plotly.newPlot(\"e226fa89-a069-4a7d-bc1d-e81d45ef7071\", [{\"z\": [[2.78, 2.33, 2.23, 1.9, 2.15, 1.86, 2.0, 1.81, 1.63, 2.15, 1.6, 1.5, 1.9, 1.6, 1.32, 1.3, 1.13, 1.45, 0.75, 0.93], [3.0, 2.39, 2.01, 2.21, 1.93, 2.08, 1.54, 1.67, 1.83, 1.3, 1.64, 1.51, 1.01, 1.13, 1.25, 1.19, 1.23, 0.88, 1.04, 0.87], [2.54, 2.17, 2.0, 1.42, 2.21, 1.87, 1.69, 1.5, 1.65, 1.06, 1.49, 1.5, 1.52, 1.09, 0.97, 1.3, 1.32, 1.13, 0.85, 0.97]], \"type\": \"contour\", \"uid\": \"416dab1e-e104-4eb2-8f0d-bc28c04822c0\"}], {}, {\"showLink\": false, \"linkText\": \"Export to plot.ly\", \"plotlyServerURL\": \"https://plot.ly\"})});</script><script type=\"text/javascript\">window.addEventListener(\"resize\", function(){window._Plotly.Plots.resize(document.getElementById(\"e226fa89-a069-4a7d-bc1d-e81d45ef7071\"));});</script>"
      ],
      "text/vnd.plotly.v1+html": [
       "<div id=\"e226fa89-a069-4a7d-bc1d-e81d45ef7071\" style=\"height: 525px; width: 100%;\" class=\"plotly-graph-div\"></div><script type=\"text/javascript\">require([\"plotly\"], function(Plotly) { window.PLOTLYENV=window.PLOTLYENV || {};window.PLOTLYENV.BASE_URL=\"https://plot.ly\";Plotly.newPlot(\"e226fa89-a069-4a7d-bc1d-e81d45ef7071\", [{\"z\": [[2.78, 2.33, 2.23, 1.9, 2.15, 1.86, 2.0, 1.81, 1.63, 2.15, 1.6, 1.5, 1.9, 1.6, 1.32, 1.3, 1.13, 1.45, 0.75, 0.93], [3.0, 2.39, 2.01, 2.21, 1.93, 2.08, 1.54, 1.67, 1.83, 1.3, 1.64, 1.51, 1.01, 1.13, 1.25, 1.19, 1.23, 0.88, 1.04, 0.87], [2.54, 2.17, 2.0, 1.42, 2.21, 1.87, 1.69, 1.5, 1.65, 1.06, 1.49, 1.5, 1.52, 1.09, 0.97, 1.3, 1.32, 1.13, 0.85, 0.97]], \"type\": \"contour\", \"uid\": \"416dab1e-e104-4eb2-8f0d-bc28c04822c0\"}], {}, {\"showLink\": false, \"linkText\": \"Export to plot.ly\", \"plotlyServerURL\": \"https://plot.ly\"})});</script><script type=\"text/javascript\">window.addEventListener(\"resize\", function(){window._Plotly.Plots.resize(document.getElementById(\"e226fa89-a069-4a7d-bc1d-e81d45ef7071\"));});</script>"
      ]
     },
     "metadata": {},
     "output_type": "display_data"
    }
   ],
   "source": [
    "data = [\n",
    "    go.Contour(\n",
    "        z=[drugs[\"Mean Physical harm\"], drugs[\"Mean Dependence\"], drugs[\"Mean Social harm\"]]\n",
    "    )\n",
    "]\n",
    "iplot(data)"
   ]
  },
  {
   "cell_type": "code",
   "execution_count": 67,
   "metadata": {},
   "outputs": [
    {
     "data": {
      "application/vnd.plotly.v1+json": {
       "config": {
        "linkText": "Export to plot.ly",
        "plotlyServerURL": "https://plot.ly",
        "showLink": false
       },
       "data": [
        {
         "colorscale": "Blues",
         "name": "",
         "reversescale": true,
         "type": "histogram2dcontour",
         "uid": "5e6f2aab-d83f-4ed0-84f6-63239ad8b3f9",
         "x": [
          3,
          2.39,
          2.01,
          2.21,
          1.93,
          2.08,
          1.54,
          1.67,
          1.83,
          1.3,
          1.64,
          1.51,
          1.01,
          1.13,
          1.25,
          1.19,
          1.23,
          0.88,
          1.04,
          0.87
         ],
         "xaxis": "x",
         "y": [
          2.78,
          2.33,
          2.23,
          1.9,
          2.15,
          1.86,
          2,
          1.81,
          1.63,
          2.15,
          1.6,
          1.5,
          1.9,
          1.6,
          1.32,
          1.3,
          1.13,
          1.45,
          0.75,
          0.93
         ],
         "yaxis": "y"
        },
        {
         "marker": {
          "color": "rgba(255,0,0,0.5)",
          "size": 20
         },
         "mode": "markers",
         "name": "Schedule I",
         "text": [
          "Heroin",
          "Street methadone",
          "4-MTA",
          "Cannabis",
          "Ecstasy",
          "GHB",
          "LSD",
          "Khat"
         ],
         "type": "scatter",
         "uid": "54312fd4-925c-4fd7-b617-8ce2f8917115",
         "x": [
          3,
          2.08,
          1.3,
          1.51,
          1.13,
          1.19,
          1.23,
          1.04
         ],
         "xaxis": "x",
         "y": [
          2.78,
          1.86,
          2.15,
          1.5,
          1.6,
          1.3,
          1.13,
          0.75
         ],
         "yaxis": "y"
        },
        {
         "marker": {
          "color": "rgba(255,165,0,0.5)",
          "size": 20
         },
         "mode": "markers",
         "name": "Schedule II",
         "text": [
          "Cocaine",
          "Amphetamine",
          "Methylphenidate"
         ],
         "type": "scatter",
         "uid": "f80b0b48-750a-4a6c-82ba-c12de94bb8ee",
         "x": [
          2.39,
          1.67,
          1.25
         ],
         "xaxis": "x",
         "y": [
          2.33,
          1.81,
          1.32
         ],
         "yaxis": "y"
        },
        {
         "marker": {
          "color": "rgba(255,255,0,0.5)",
          "size": 20
         },
         "mode": "markers",
         "name": "Schedule III",
         "text": [
          "Barbiturates",
          "Ketamine",
          "Buprenorphine",
          "Anabolic steroids"
         ],
         "type": "scatter",
         "uid": "605a07a9-015a-4531-9863-8cb3a8ab1e68",
         "x": [
          2.01,
          1.54,
          1.64,
          0.88
         ],
         "xaxis": "x",
         "y": [
          2.23,
          2,
          1.6,
          1.45
         ],
         "yaxis": "y"
        },
        {
         "marker": {
          "color": "rgba(0,255,0,0.5)",
          "size": 20
         },
         "mode": "markers",
         "name": "Schedule IV",
         "text": [
          "Benzodiazepines"
         ],
         "type": "scatter",
         "uid": "21c74999-87ed-4579-8a5f-928c6662bddf",
         "x": [
          1.83
         ],
         "xaxis": "x",
         "y": [
          1.63
         ],
         "yaxis": "y"
        },
        {
         "marker": {
          "color": "rgba(255,192,203,0.5)",
          "size": 20
         },
         "mode": "markers",
         "name": "Unscheduled",
         "text": [
          "Tobacco",
          "Alcohol",
          "Solvents",
          "Alkyl nitrites"
         ],
         "type": "scatter",
         "uid": "75ba8e59-24c9-44d1-b17c-34920b31b95e",
         "x": [
          2.21,
          1.93,
          1.01,
          0.87
         ],
         "xaxis": "x",
         "y": [
          1.9,
          2.15,
          1.9,
          0.93
         ],
         "yaxis": "y"
        }
       ],
       "layout": {
        "legend": {
         "x": -0.25,
         "y": 1
        },
        "showlegend": true,
        "title": {
         "text": "Physical Harm vs Addiction depending on Schedule"
        },
        "xaxis": {
         "title": {
          "text": "Mean Dependence"
         }
        },
        "yaxis": {
         "title": {
          "text": "Mea Physical Harm"
         }
        }
       }
      },
      "text/html": [
       "<div id=\"443592af-ef9b-4d7e-b557-34d68939820c\" style=\"height: 525px; width: 100%;\" class=\"plotly-graph-div\"></div><script type=\"text/javascript\">require([\"plotly\"], function(Plotly) { window.PLOTLYENV=window.PLOTLYENV || {};window.PLOTLYENV.BASE_URL=\"https://plot.ly\";Plotly.newPlot(\"443592af-ef9b-4d7e-b557-34d68939820c\", [{\"colorscale\": \"Blues\", \"name\": \"\", \"reversescale\": true, \"x\": [3.0, 2.39, 2.01, 2.21, 1.93, 2.08, 1.54, 1.67, 1.83, 1.3, 1.64, 1.51, 1.01, 1.13, 1.25, 1.19, 1.23, 0.88, 1.04, 0.87], \"xaxis\": \"x\", \"y\": [2.78, 2.33, 2.23, 1.9, 2.15, 1.86, 2.0, 1.81, 1.63, 2.15, 1.6, 1.5, 1.9, 1.6, 1.32, 1.3, 1.13, 1.45, 0.75, 0.93], \"yaxis\": \"y\", \"type\": \"histogram2dcontour\", \"uid\": \"5e6f2aab-d83f-4ed0-84f6-63239ad8b3f9\"}, {\"marker\": {\"color\": \"rgba(255,0,0,0.5)\", \"size\": 20}, \"mode\": \"markers\", \"name\": \"Schedule I\", \"text\": [\"Heroin\", \"Street methadone\", \"4-MTA\", \"Cannabis\", \"Ecstasy\", \"GHB\", \"LSD\", \"Khat\"], \"x\": [3.0, 2.08, 1.3, 1.51, 1.13, 1.19, 1.23, 1.04], \"xaxis\": \"x\", \"y\": [2.78, 1.86, 2.15, 1.5, 1.6, 1.3, 1.13, 0.75], \"yaxis\": \"y\", \"type\": \"scatter\", \"uid\": \"54312fd4-925c-4fd7-b617-8ce2f8917115\"}, {\"marker\": {\"color\": \"rgba(255,165,0,0.5)\", \"size\": 20}, \"mode\": \"markers\", \"name\": \"Schedule II\", \"text\": [\"Cocaine\", \"Amphetamine\", \"Methylphenidate\"], \"x\": [2.39, 1.67, 1.25], \"xaxis\": \"x\", \"y\": [2.33, 1.81, 1.32], \"yaxis\": \"y\", \"type\": \"scatter\", \"uid\": \"f80b0b48-750a-4a6c-82ba-c12de94bb8ee\"}, {\"marker\": {\"color\": \"rgba(255,255,0,0.5)\", \"size\": 20}, \"mode\": \"markers\", \"name\": \"Schedule III\", \"text\": [\"Barbiturates\", \"Ketamine\", \"Buprenorphine\", \"Anabolic steroids\"], \"x\": [2.01, 1.54, 1.64, 0.88], \"xaxis\": \"x\", \"y\": [2.23, 2.0, 1.6, 1.45], \"yaxis\": \"y\", \"type\": \"scatter\", \"uid\": \"605a07a9-015a-4531-9863-8cb3a8ab1e68\"}, {\"marker\": {\"color\": \"rgba(0,255,0,0.5)\", \"size\": 20}, \"mode\": \"markers\", \"name\": \"Schedule IV\", \"text\": [\"Benzodiazepines\"], \"x\": [1.83], \"xaxis\": \"x\", \"y\": [1.63], \"yaxis\": \"y\", \"type\": \"scatter\", \"uid\": \"21c74999-87ed-4579-8a5f-928c6662bddf\"}, {\"marker\": {\"color\": \"rgba(255,192,203,0.5)\", \"size\": 20}, \"mode\": \"markers\", \"name\": \"Unscheduled\", \"text\": [\"Tobacco\", \"Alcohol\", \"Solvents\", \"Alkyl nitrites\"], \"x\": [2.21, 1.93, 1.01, 0.87], \"xaxis\": \"x\", \"y\": [1.9, 2.15, 1.9, 0.93], \"yaxis\": \"y\", \"type\": \"scatter\", \"uid\": \"75ba8e59-24c9-44d1-b17c-34920b31b95e\"}], {\"legend\": {\"x\": -0.25, \"y\": 1}, \"showlegend\": true, \"title\": {\"text\": \"Physical Harm vs Addiction depending on Schedule\"}, \"xaxis\": {\"title\": {\"text\": \"Mean Dependence\"}}, \"yaxis\": {\"title\": {\"text\": \"Mea Physical Harm\"}}}, {\"showLink\": false, \"linkText\": \"Export to plot.ly\", \"plotlyServerURL\": \"https://plot.ly\"})});</script><script type=\"text/javascript\">window.addEventListener(\"resize\", function(){window._Plotly.Plots.resize(document.getElementById(\"443592af-ef9b-4d7e-b557-34d68939820c\"));});</script>"
      ],
      "text/vnd.plotly.v1+html": [
       "<div id=\"443592af-ef9b-4d7e-b557-34d68939820c\" style=\"height: 525px; width: 100%;\" class=\"plotly-graph-div\"></div><script type=\"text/javascript\">require([\"plotly\"], function(Plotly) { window.PLOTLYENV=window.PLOTLYENV || {};window.PLOTLYENV.BASE_URL=\"https://plot.ly\";Plotly.newPlot(\"443592af-ef9b-4d7e-b557-34d68939820c\", [{\"colorscale\": \"Blues\", \"name\": \"\", \"reversescale\": true, \"x\": [3.0, 2.39, 2.01, 2.21, 1.93, 2.08, 1.54, 1.67, 1.83, 1.3, 1.64, 1.51, 1.01, 1.13, 1.25, 1.19, 1.23, 0.88, 1.04, 0.87], \"xaxis\": \"x\", \"y\": [2.78, 2.33, 2.23, 1.9, 2.15, 1.86, 2.0, 1.81, 1.63, 2.15, 1.6, 1.5, 1.9, 1.6, 1.32, 1.3, 1.13, 1.45, 0.75, 0.93], \"yaxis\": \"y\", \"type\": \"histogram2dcontour\", \"uid\": \"5e6f2aab-d83f-4ed0-84f6-63239ad8b3f9\"}, {\"marker\": {\"color\": \"rgba(255,0,0,0.5)\", \"size\": 20}, \"mode\": \"markers\", \"name\": \"Schedule I\", \"text\": [\"Heroin\", \"Street methadone\", \"4-MTA\", \"Cannabis\", \"Ecstasy\", \"GHB\", \"LSD\", \"Khat\"], \"x\": [3.0, 2.08, 1.3, 1.51, 1.13, 1.19, 1.23, 1.04], \"xaxis\": \"x\", \"y\": [2.78, 1.86, 2.15, 1.5, 1.6, 1.3, 1.13, 0.75], \"yaxis\": \"y\", \"type\": \"scatter\", \"uid\": \"54312fd4-925c-4fd7-b617-8ce2f8917115\"}, {\"marker\": {\"color\": \"rgba(255,165,0,0.5)\", \"size\": 20}, \"mode\": \"markers\", \"name\": \"Schedule II\", \"text\": [\"Cocaine\", \"Amphetamine\", \"Methylphenidate\"], \"x\": [2.39, 1.67, 1.25], \"xaxis\": \"x\", \"y\": [2.33, 1.81, 1.32], \"yaxis\": \"y\", \"type\": \"scatter\", \"uid\": \"f80b0b48-750a-4a6c-82ba-c12de94bb8ee\"}, {\"marker\": {\"color\": \"rgba(255,255,0,0.5)\", \"size\": 20}, \"mode\": \"markers\", \"name\": \"Schedule III\", \"text\": [\"Barbiturates\", \"Ketamine\", \"Buprenorphine\", \"Anabolic steroids\"], \"x\": [2.01, 1.54, 1.64, 0.88], \"xaxis\": \"x\", \"y\": [2.23, 2.0, 1.6, 1.45], \"yaxis\": \"y\", \"type\": \"scatter\", \"uid\": \"605a07a9-015a-4531-9863-8cb3a8ab1e68\"}, {\"marker\": {\"color\": \"rgba(0,255,0,0.5)\", \"size\": 20}, \"mode\": \"markers\", \"name\": \"Schedule IV\", \"text\": [\"Benzodiazepines\"], \"x\": [1.83], \"xaxis\": \"x\", \"y\": [1.63], \"yaxis\": \"y\", \"type\": \"scatter\", \"uid\": \"21c74999-87ed-4579-8a5f-928c6662bddf\"}, {\"marker\": {\"color\": \"rgba(255,192,203,0.5)\", \"size\": 20}, \"mode\": \"markers\", \"name\": \"Unscheduled\", \"text\": [\"Tobacco\", \"Alcohol\", \"Solvents\", \"Alkyl nitrites\"], \"x\": [2.21, 1.93, 1.01, 0.87], \"xaxis\": \"x\", \"y\": [1.9, 2.15, 1.9, 0.93], \"yaxis\": \"y\", \"type\": \"scatter\", \"uid\": \"75ba8e59-24c9-44d1-b17c-34920b31b95e\"}], {\"legend\": {\"x\": -0.25, \"y\": 1}, \"showlegend\": true, \"title\": {\"text\": \"Physical Harm vs Addiction depending on Schedule\"}, \"xaxis\": {\"title\": {\"text\": \"Mean Dependence\"}}, \"yaxis\": {\"title\": {\"text\": \"Mea Physical Harm\"}}}, {\"showLink\": false, \"linkText\": \"Export to plot.ly\", \"plotlyServerURL\": \"https://plot.ly\"})});</script><script type=\"text/javascript\">window.addEventListener(\"resize\", function(){window._Plotly.Plots.resize(document.getElementById(\"443592af-ef9b-4d7e-b557-34d68939820c\"));});</script>"
      ]
     },
     "metadata": {},
     "output_type": "display_data"
    }
   ],
   "source": [
    "data = [\n",
    "    go.Histogram2dContour(\n",
    "        x = drugs[\"Mean Dependence\"],\n",
    "        y = drugs[\"Mean Physical harm\"],\n",
    "        colorscale = 'Blues',\n",
    "        reversescale = True,\n",
    "        xaxis = 'x',\n",
    "        yaxis = 'y',\n",
    "        name = \"\"\n",
    "    ),\n",
    "    go.Scatter(\n",
    "        x = sched1drug[\"Mean Dependence\"],\n",
    "        y = sched1drug[\"Mean Physical harm\"],\n",
    "        xaxis = 'x',\n",
    "        yaxis = 'y',\n",
    "        mode = 'markers',\n",
    "        marker = dict(\n",
    "            color = 'rgba(255,0,0,0.5)',\n",
    "            size = 20\n",
    "        ),\n",
    "        name=\"Schedule I\",\n",
    "        text=sched1drug[\"Drug\"]\n",
    "    ),\n",
    "   go.Scatter(\n",
    "        x = sched2drug[\"Mean Dependence\"],\n",
    "        y = sched2drug[\"Mean Physical harm\"],\n",
    "        xaxis = 'x',\n",
    "        yaxis = 'y',\n",
    "        mode = 'markers',\n",
    "        marker = dict(\n",
    "            color = 'rgba(255,165,0,0.5)',\n",
    "            size = 20\n",
    "        ),\n",
    "       name = \"Schedule II\",\n",
    "       text=sched2drug[\"Drug\"]\n",
    "    ),\n",
    "    go.Scatter(\n",
    "        x = sched3drug[\"Mean Dependence\"],\n",
    "        y = sched3drug[\"Mean Physical harm\"],\n",
    "        xaxis = 'x',\n",
    "        yaxis = 'y',\n",
    "        mode = 'markers',\n",
    "        marker = dict(\n",
    "            color = 'rgba(255,255,0,0.5)',\n",
    "            size = 20\n",
    "        ),\n",
    "        name = \"Schedule III\",\n",
    "        text=sched3drug[\"Drug\"]\n",
    "    ),\n",
    "    go.Scatter(\n",
    "        x = sched4drug[\"Mean Dependence\"],\n",
    "        y = sched4drug[\"Mean Physical harm\"],\n",
    "        xaxis = 'x',\n",
    "        yaxis = 'y',\n",
    "        mode = 'markers',\n",
    "        marker = dict(\n",
    "            color = 'rgba(0,255,0,0.5)',\n",
    "            size = 20\n",
    "        ),\n",
    "        name = \"Schedule IV\",\n",
    "        text=sched4drug[\"Drug\"]\n",
    "    ),\n",
    "    go.Scatter(\n",
    "        x = schednadrug[\"Mean Dependence\"],\n",
    "        y = schednadrug[\"Mean Physical harm\"],\n",
    "        xaxis = 'x',\n",
    "        yaxis = 'y',\n",
    "        mode = 'markers',\n",
    "        marker = dict(\n",
    "            color = 'rgba(255,192,203,0.5)',\n",
    "            size = 20\n",
    "        ),\n",
    "        name = \"Unscheduled\",\n",
    "        text=schednadrug[\"Drug\"]\n",
    "    )]\n",
    "\n",
    "legend_layout = dict(x=-.25,  y=1)\n",
    "xaxis_template = dict(title = \"Mean Dependence\")\n",
    "yaxis_template = dict(title = \"Mea Physical Harm\")\n",
    "layout = go.Layout(title=\"Physical Harm vs Addiction depending on Schedule\", legend=legend_layout, showlegend=True,\n",
    "                   xaxis=xaxis_template, yaxis=yaxis_template)\n",
    "fig = go.Figure(data=data, layout=layout)\n",
    "iplot(fig)\n",
    "#py.iplot(fig, filename = \"DrugContour\")"
   ]
  },
  {
   "cell_type": "code",
   "execution_count": 66,
   "metadata": {},
   "outputs": [
    {
     "data": {
      "application/vnd.plotly.v1+json": {
       "config": {
        "linkText": "Export to plot.ly",
        "plotlyServerURL": "https://plot.ly",
        "showLink": false
       },
       "data": [
        {
         "colorscale": "Blues",
         "name": "",
         "reversescale": true,
         "type": "histogram2dcontour",
         "uid": "1eedee49-8a43-41fb-8d2a-c7512fb86161",
         "x": [
          3,
          2.39,
          2.01,
          2.21,
          1.93,
          2.08,
          1.54,
          1.67,
          1.83,
          1.3,
          1.64,
          1.51,
          1.01,
          1.13,
          1.25,
          1.19,
          1.23,
          0.88,
          1.04,
          0.87
         ],
         "xaxis": "x",
         "y": [
          2.78,
          2.33,
          2.23,
          1.9,
          2.15,
          1.86,
          2,
          1.81,
          1.63,
          2.15,
          1.6,
          1.5,
          1.9,
          1.6,
          1.32,
          1.3,
          1.13,
          1.45,
          0.75,
          0.93
         ],
         "yaxis": "y"
        },
        {
         "marker": {
          "color": "rgba(255,0,0,0.7)",
          "size": [
           25.4,
           18.700000000000003,
           10.600000000000001,
           15,
           10.9,
           13,
           13.200000000000001,
           8.5
          ]
         },
         "mode": "markers",
         "name": "Schedule I",
         "text": [
          "Heroin",
          "Street methadone",
          "4-MTA",
          "Cannabis",
          "Ecstasy",
          "GHB",
          "LSD",
          "Khat"
         ],
         "type": "scatter",
         "uid": "c7dc8661-6374-48f5-bb20-421a4329890b",
         "x": [
          3,
          2.08,
          1.3,
          1.51,
          1.13,
          1.19,
          1.23,
          1.04
         ],
         "xaxis": "x",
         "y": [
          2.78,
          1.86,
          2.15,
          1.5,
          1.6,
          1.3,
          1.13,
          0.75
         ],
         "yaxis": "y"
        },
        {
         "marker": {
          "color": "rgba(255,165,0,0.7)",
          "size": [
           21.7,
           15,
           9.7
          ]
         },
         "mode": "markers",
         "name": "Schedule II",
         "text": [
          "Cocaine",
          "Amphetamine",
          "Methylphenidate"
         ],
         "type": "scatter",
         "uid": "a38c7368-51aa-459e-8db1-741ea2354875",
         "x": [
          2.39,
          1.67,
          1.25
         ],
         "xaxis": "x",
         "y": [
          2.33,
          1.81,
          1.32
         ],
         "yaxis": "y"
        },
        {
         "marker": {
          "color": "rgba(255,255,0,0.7)",
          "size": [
           20,
           16.9,
           14.9,
           11.299999999999999
          ]
         },
         "mode": "markers",
         "name": "Schedule III",
         "text": [
          "Barbiturates",
          "Ketamine",
          "Buprenorphine",
          "Anabolic steroids"
         ],
         "type": "scatter",
         "uid": "f664817d-a4ec-40c6-9be6-5a8e3a9b3012",
         "x": [
          2.01,
          1.54,
          1.64,
          0.88
         ],
         "xaxis": "x",
         "y": [
          2.23,
          2,
          1.6,
          1.45
         ],
         "yaxis": "y"
        },
        {
         "marker": {
          "color": "rgba(0,255,0,0.7)",
          "size": [
           16.5
          ]
         },
         "mode": "markers",
         "name": "Schedule IV",
         "text": [
          "Benzodiazepines"
         ],
         "type": "scatter",
         "uid": "3cf8dc12-c8d5-4298-bac8-89b30d35c040",
         "x": [
          1.83
         ],
         "xaxis": "x",
         "y": [
          1.63
         ],
         "yaxis": "y"
        },
        {
         "marker": {
          "color": "rgba(255,192,203,0.7)",
          "size": [
           14.2,
           22.1,
           15.2,
           9.7
          ]
         },
         "mode": "markers",
         "name": "Unscheduled",
         "text": [
          "Tobacco",
          "Alcohol",
          "Solvents",
          "Alkyl nitrites"
         ],
         "type": "scatter",
         "uid": "4235a9dc-66e5-4ffc-b236-be83af390b79",
         "x": [
          2.21,
          1.93,
          1.01,
          0.87
         ],
         "xaxis": "x",
         "y": [
          1.9,
          2.15,
          1.9,
          0.93
         ],
         "yaxis": "y"
        }
       ],
       "layout": {
        "legend": {
         "x": -0.25,
         "y": 1
        },
        "showlegend": true,
        "title": {
         "text": "Physical Harm vs Dependence vs Social Harm depending on Schedule"
        },
        "xaxis": {
         "title": {
          "text": "Mean Dependence"
         }
        },
        "yaxis": {
         "title": {
          "text": "Mea Physical Harm"
         }
        }
       }
      },
      "text/html": [
       "<div id=\"499e0ecc-df41-44a1-986f-eeda9debbb0a\" style=\"height: 525px; width: 100%;\" class=\"plotly-graph-div\"></div><script type=\"text/javascript\">require([\"plotly\"], function(Plotly) { window.PLOTLYENV=window.PLOTLYENV || {};window.PLOTLYENV.BASE_URL=\"https://plot.ly\";Plotly.newPlot(\"499e0ecc-df41-44a1-986f-eeda9debbb0a\", [{\"colorscale\": \"Blues\", \"name\": \"\", \"reversescale\": true, \"x\": [3.0, 2.39, 2.01, 2.21, 1.93, 2.08, 1.54, 1.67, 1.83, 1.3, 1.64, 1.51, 1.01, 1.13, 1.25, 1.19, 1.23, 0.88, 1.04, 0.87], \"xaxis\": \"x\", \"y\": [2.78, 2.33, 2.23, 1.9, 2.15, 1.86, 2.0, 1.81, 1.63, 2.15, 1.6, 1.5, 1.9, 1.6, 1.32, 1.3, 1.13, 1.45, 0.75, 0.93], \"yaxis\": \"y\", \"type\": \"histogram2dcontour\", \"uid\": \"1eedee49-8a43-41fb-8d2a-c7512fb86161\"}, {\"marker\": {\"color\": \"rgba(255,0,0,0.7)\", \"size\": [25.4, 18.700000000000003, 10.600000000000001, 15.0, 10.9, 13.0, 13.200000000000001, 8.5]}, \"mode\": \"markers\", \"name\": \"Schedule I\", \"text\": [\"Heroin\", \"Street methadone\", \"4-MTA\", \"Cannabis\", \"Ecstasy\", \"GHB\", \"LSD\", \"Khat\"], \"x\": [3.0, 2.08, 1.3, 1.51, 1.13, 1.19, 1.23, 1.04], \"xaxis\": \"x\", \"y\": [2.78, 1.86, 2.15, 1.5, 1.6, 1.3, 1.13, 0.75], \"yaxis\": \"y\", \"type\": \"scatter\", \"uid\": \"c7dc8661-6374-48f5-bb20-421a4329890b\"}, {\"marker\": {\"color\": \"rgba(255,165,0,0.7)\", \"size\": [21.7, 15.0, 9.7]}, \"mode\": \"markers\", \"name\": \"Schedule II\", \"text\": [\"Cocaine\", \"Amphetamine\", \"Methylphenidate\"], \"x\": [2.39, 1.67, 1.25], \"xaxis\": \"x\", \"y\": [2.33, 1.81, 1.32], \"yaxis\": \"y\", \"type\": \"scatter\", \"uid\": \"a38c7368-51aa-459e-8db1-741ea2354875\"}, {\"marker\": {\"color\": \"rgba(255,255,0,0.7)\", \"size\": [20.0, 16.9, 14.9, 11.299999999999999]}, \"mode\": \"markers\", \"name\": \"Schedule III\", \"text\": [\"Barbiturates\", \"Ketamine\", \"Buprenorphine\", \"Anabolic steroids\"], \"x\": [2.01, 1.54, 1.64, 0.88], \"xaxis\": \"x\", \"y\": [2.23, 2.0, 1.6, 1.45], \"yaxis\": \"y\", \"type\": \"scatter\", \"uid\": \"f664817d-a4ec-40c6-9be6-5a8e3a9b3012\"}, {\"marker\": {\"color\": \"rgba(0,255,0,0.7)\", \"size\": [16.5]}, \"mode\": \"markers\", \"name\": \"Schedule IV\", \"text\": [\"Benzodiazepines\"], \"x\": [1.83], \"xaxis\": \"x\", \"y\": [1.63], \"yaxis\": \"y\", \"type\": \"scatter\", \"uid\": \"3cf8dc12-c8d5-4298-bac8-89b30d35c040\"}, {\"marker\": {\"color\": \"rgba(255,192,203,0.7)\", \"size\": [14.2, 22.1, 15.2, 9.7]}, \"mode\": \"markers\", \"name\": \"Unscheduled\", \"text\": [\"Tobacco\", \"Alcohol\", \"Solvents\", \"Alkyl nitrites\"], \"x\": [2.21, 1.93, 1.01, 0.87], \"xaxis\": \"x\", \"y\": [1.9, 2.15, 1.9, 0.93], \"yaxis\": \"y\", \"type\": \"scatter\", \"uid\": \"4235a9dc-66e5-4ffc-b236-be83af390b79\"}], {\"legend\": {\"x\": -0.25, \"y\": 1}, \"showlegend\": true, \"title\": {\"text\": \"Physical Harm vs Dependence vs Social Harm depending on Schedule\"}, \"xaxis\": {\"title\": {\"text\": \"Mean Dependence\"}}, \"yaxis\": {\"title\": {\"text\": \"Mea Physical Harm\"}}}, {\"showLink\": false, \"linkText\": \"Export to plot.ly\", \"plotlyServerURL\": \"https://plot.ly\"})});</script><script type=\"text/javascript\">window.addEventListener(\"resize\", function(){window._Plotly.Plots.resize(document.getElementById(\"499e0ecc-df41-44a1-986f-eeda9debbb0a\"));});</script>"
      ],
      "text/vnd.plotly.v1+html": [
       "<div id=\"499e0ecc-df41-44a1-986f-eeda9debbb0a\" style=\"height: 525px; width: 100%;\" class=\"plotly-graph-div\"></div><script type=\"text/javascript\">require([\"plotly\"], function(Plotly) { window.PLOTLYENV=window.PLOTLYENV || {};window.PLOTLYENV.BASE_URL=\"https://plot.ly\";Plotly.newPlot(\"499e0ecc-df41-44a1-986f-eeda9debbb0a\", [{\"colorscale\": \"Blues\", \"name\": \"\", \"reversescale\": true, \"x\": [3.0, 2.39, 2.01, 2.21, 1.93, 2.08, 1.54, 1.67, 1.83, 1.3, 1.64, 1.51, 1.01, 1.13, 1.25, 1.19, 1.23, 0.88, 1.04, 0.87], \"xaxis\": \"x\", \"y\": [2.78, 2.33, 2.23, 1.9, 2.15, 1.86, 2.0, 1.81, 1.63, 2.15, 1.6, 1.5, 1.9, 1.6, 1.32, 1.3, 1.13, 1.45, 0.75, 0.93], \"yaxis\": \"y\", \"type\": \"histogram2dcontour\", \"uid\": \"1eedee49-8a43-41fb-8d2a-c7512fb86161\"}, {\"marker\": {\"color\": \"rgba(255,0,0,0.7)\", \"size\": [25.4, 18.700000000000003, 10.600000000000001, 15.0, 10.9, 13.0, 13.200000000000001, 8.5]}, \"mode\": \"markers\", \"name\": \"Schedule I\", \"text\": [\"Heroin\", \"Street methadone\", \"4-MTA\", \"Cannabis\", \"Ecstasy\", \"GHB\", \"LSD\", \"Khat\"], \"x\": [3.0, 2.08, 1.3, 1.51, 1.13, 1.19, 1.23, 1.04], \"xaxis\": \"x\", \"y\": [2.78, 1.86, 2.15, 1.5, 1.6, 1.3, 1.13, 0.75], \"yaxis\": \"y\", \"type\": \"scatter\", \"uid\": \"c7dc8661-6374-48f5-bb20-421a4329890b\"}, {\"marker\": {\"color\": \"rgba(255,165,0,0.7)\", \"size\": [21.7, 15.0, 9.7]}, \"mode\": \"markers\", \"name\": \"Schedule II\", \"text\": [\"Cocaine\", \"Amphetamine\", \"Methylphenidate\"], \"x\": [2.39, 1.67, 1.25], \"xaxis\": \"x\", \"y\": [2.33, 1.81, 1.32], \"yaxis\": \"y\", \"type\": \"scatter\", \"uid\": \"a38c7368-51aa-459e-8db1-741ea2354875\"}, {\"marker\": {\"color\": \"rgba(255,255,0,0.7)\", \"size\": [20.0, 16.9, 14.9, 11.299999999999999]}, \"mode\": \"markers\", \"name\": \"Schedule III\", \"text\": [\"Barbiturates\", \"Ketamine\", \"Buprenorphine\", \"Anabolic steroids\"], \"x\": [2.01, 1.54, 1.64, 0.88], \"xaxis\": \"x\", \"y\": [2.23, 2.0, 1.6, 1.45], \"yaxis\": \"y\", \"type\": \"scatter\", \"uid\": \"f664817d-a4ec-40c6-9be6-5a8e3a9b3012\"}, {\"marker\": {\"color\": \"rgba(0,255,0,0.7)\", \"size\": [16.5]}, \"mode\": \"markers\", \"name\": \"Schedule IV\", \"text\": [\"Benzodiazepines\"], \"x\": [1.83], \"xaxis\": \"x\", \"y\": [1.63], \"yaxis\": \"y\", \"type\": \"scatter\", \"uid\": \"3cf8dc12-c8d5-4298-bac8-89b30d35c040\"}, {\"marker\": {\"color\": \"rgba(255,192,203,0.7)\", \"size\": [14.2, 22.1, 15.2, 9.7]}, \"mode\": \"markers\", \"name\": \"Unscheduled\", \"text\": [\"Tobacco\", \"Alcohol\", \"Solvents\", \"Alkyl nitrites\"], \"x\": [2.21, 1.93, 1.01, 0.87], \"xaxis\": \"x\", \"y\": [1.9, 2.15, 1.9, 0.93], \"yaxis\": \"y\", \"type\": \"scatter\", \"uid\": \"4235a9dc-66e5-4ffc-b236-be83af390b79\"}], {\"legend\": {\"x\": -0.25, \"y\": 1}, \"showlegend\": true, \"title\": {\"text\": \"Physical Harm vs Dependence vs Social Harm depending on Schedule\"}, \"xaxis\": {\"title\": {\"text\": \"Mean Dependence\"}}, \"yaxis\": {\"title\": {\"text\": \"Mea Physical Harm\"}}}, {\"showLink\": false, \"linkText\": \"Export to plot.ly\", \"plotlyServerURL\": \"https://plot.ly\"})});</script><script type=\"text/javascript\">window.addEventListener(\"resize\", function(){window._Plotly.Plots.resize(document.getElementById(\"499e0ecc-df41-44a1-986f-eeda9debbb0a\"));});</script>"
      ]
     },
     "metadata": {},
     "output_type": "display_data"
    }
   ],
   "source": [
    "data = [\n",
    "    go.Histogram2dContour(\n",
    "        x = drugs[\"Mean Dependence\"],\n",
    "        y = drugs[\"Mean Physical harm\"],\n",
    "        colorscale = 'Blues',\n",
    "        reversescale = True,\n",
    "        xaxis = 'x',\n",
    "        yaxis = 'y',\n",
    "        name = \"\"\n",
    "    ),\n",
    "    go.Scatter(\n",
    "        x = sched1drug[\"Mean Dependence\"],\n",
    "        y = sched1drug[\"Mean Physical harm\"],\n",
    "        xaxis = 'x',\n",
    "        yaxis = 'y',\n",
    "        mode = 'markers',\n",
    "        marker = dict(\n",
    "            color = 'rgba(255,0,0,0.7)',\n",
    "            size = sched1drug[\"Mean Social harm\"]*10\n",
    "        ),\n",
    "        name=\"Schedule I\",\n",
    "        text=sched1drug[\"Drug\"]\n",
    "    ),\n",
    "   go.Scatter(\n",
    "        x = sched2drug[\"Mean Dependence\"],\n",
    "        y = sched2drug[\"Mean Physical harm\"],\n",
    "        xaxis = 'x',\n",
    "        yaxis = 'y',\n",
    "        mode = 'markers',\n",
    "        marker = dict(\n",
    "            color = 'rgba(255,165,0,0.7)',\n",
    "            size = sched2drug[\"Mean Social harm\"]*10\n",
    "        ),\n",
    "       name = \"Schedule II\",\n",
    "       text=sched2drug[\"Drug\"]\n",
    "    ),\n",
    "    go.Scatter(\n",
    "        x = sched3drug[\"Mean Dependence\"],\n",
    "        y = sched3drug[\"Mean Physical harm\"],\n",
    "        xaxis = 'x',\n",
    "        yaxis = 'y',\n",
    "        mode = 'markers',\n",
    "        marker = dict(\n",
    "            color = 'rgba(255,255,0,0.7)',\n",
    "            size = sched3drug[\"Mean Social harm\"]*10\n",
    "        ),\n",
    "        name = \"Schedule III\",\n",
    "        text=sched3drug[\"Drug\"]\n",
    "    ),\n",
    "    go.Scatter(\n",
    "        x = sched4drug[\"Mean Dependence\"],\n",
    "        y = sched4drug[\"Mean Physical harm\"],\n",
    "        xaxis = 'x',\n",
    "        yaxis = 'y',\n",
    "        mode = 'markers',\n",
    "        marker = dict(\n",
    "            color = 'rgba(0,255,0,0.7)',\n",
    "            size = sched4drug[\"Mean Social harm\"]*10\n",
    "        ),\n",
    "        name = \"Schedule IV\",\n",
    "        text=sched4drug[\"Drug\"]\n",
    "    ),\n",
    "    go.Scatter(\n",
    "        x = schednadrug[\"Mean Dependence\"],\n",
    "        y = schednadrug[\"Mean Physical harm\"],\n",
    "        xaxis = 'x',\n",
    "        yaxis = 'y',\n",
    "        mode = 'markers',\n",
    "        marker = dict(\n",
    "            color = 'rgba(255,192,203,0.7)',\n",
    "            size = schednadrug[\"Mean Social harm\"]*10\n",
    "        ),\n",
    "        name = \"Unscheduled\",\n",
    "        text=schednadrug[\"Drug\"]\n",
    "    )]\n",
    "\n",
    "legend_layout = dict(x=-.25,  y=1)\n",
    "xaxis_template = dict(title = \"Mean Dependence\")\n",
    "yaxis_template = dict(title = \"Mea Physical Harm\")\n",
    "layout = go.Layout(title=\"Physical Harm vs Dependence vs Social Harm depending on Schedule\", legend=legend_layout, showlegend=True,\n",
    "                   xaxis=xaxis_template, yaxis=yaxis_template)\n",
    "fig = go.Figure(data=data, layout=layout)\n",
    "iplot(fig)\n",
    "#py.iplot(fig, filename = \"DrugContour\")"
   ]
  }
 ],
 "metadata": {
  "kernelspec": {
   "display_name": "Python 3",
   "language": "python",
   "name": "python3"
  },
  "language_info": {
   "codemirror_mode": {
    "name": "ipython",
    "version": 3
   },
   "file_extension": ".py",
   "mimetype": "text/x-python",
   "name": "python",
   "nbconvert_exporter": "python",
   "pygments_lexer": "ipython3",
   "version": "3.7.1"
  }
 },
 "nbformat": 4,
 "nbformat_minor": 2
}
